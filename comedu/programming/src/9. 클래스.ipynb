{
  "nbformat": 4,
  "nbformat_minor": 0,
  "metadata": {
    "colab": {
      "name": "13. 클래스.ipynb",
      "provenance": [],
      "collapsed_sections": [],
      "authorship_tag": "ABX9TyN1T7dZ+s7RTlm86I3mqNFH"
    },
    "kernelspec": {
      "name": "python3",
      "display_name": "Python 3"
    },
    "language_info": {
      "name": "python"
    },
    "widgets": {
      "application/vnd.jupyter.widget-state+json": {
        "f279e3760989427f93bc2e7069c7dc87": {
          "model_module": "ipycanvas",
          "model_name": "CanvasModel",
          "state": {
            "_view_name": "CanvasView",
            "_dom_classes": [],
            "_model_name": "CanvasModel",
            "_view_module": "ipycanvas",
            "_model_module_version": "^0.8.2",
            "_view_count": null,
            "width": 4000,
            "_view_module_version": "^0.8.2",
            "sync_image_data": false,
            "image_data": null,
            "layout": "IPY_MODEL_7ed01ef55e3b446785cec1e41e50e86c",
            "height": 3000,
            "_model_module": "ipycanvas"
          }
        }
      }
    }
  },
  "cells": [
    {
      "cell_type": "markdown",
      "metadata": {
        "id": "Vo9YV2Yovt0C"
      },
      "source": [
        "# 클래스"
      ]
    },
    {
      "cell_type": "code",
      "metadata": {
        "id": "MibTeVtEwdDw"
      },
      "source": [
        "!pip install ipycanvas >/dev/null"
      ],
      "execution_count": 57,
      "outputs": []
    },
    {
      "cell_type": "code",
      "metadata": {
        "id": "ucI2Idbp540O"
      },
      "source": [
        "%load_ext google.colab.data_table"
      ],
      "execution_count": 63,
      "outputs": []
    },
    {
      "cell_type": "code",
      "metadata": {
        "id": "DGVFZDDV0CZo"
      },
      "source": [
        "from ipycanvas import Canvas, hold_canvas\n",
        "import pandas as pd\n",
        "import numpy as np\n",
        "import pickle\n",
        "from uuid import UUID, uuid4\n",
        "from dataclasses import dataclass, field\n",
        "from IPython.display import display\n",
        "from typing import Optional, List\n",
        "\n",
        "def factory(factory):\n",
        "  return field(default_factory=factory)"
      ],
      "execution_count": 132,
      "outputs": []
    },
    {
      "cell_type": "code",
      "metadata": {
        "id": "2Z7i276Ovr6L"
      },
      "source": [
        "@dataclass\n",
        "class Car:\n",
        "  color: str = '#ff0000'\n",
        "  wheel_size: float = 16\n",
        "  displacement: float = 2000\n",
        "  \n",
        "\n",
        "  def forward(self):\n",
        "    self.displacement += 100\n",
        "  \n",
        "  def backward(self):\n",
        "    self.displacement -= 100\n",
        "  \n",
        "  def turn_left(self):\n",
        "    pass\n",
        "  \n",
        "  def turn_right(self):\n",
        "    pass\n",
        "  \n",
        "  def widget(self):\n",
        "    canvas = Canvas(width = 400, height = 300)\n",
        "    with hold_canvas(canvas):\n",
        "      canvas.fill_style = self.color\n",
        "      canvas.fill_rect(0, 0, canvas.width, canvas.height)\n",
        "    return canvas\n",
        "\n",
        "  def __repr__(self): # when coercing an object into string. print(car) will print the result of tihs\n",
        "    return f'자동차 색: {self.color}, 바퀴 크기: {self.wheel_size}, 변위: {self.displacement}'"
      ],
      "execution_count": 60,
      "outputs": []
    },
    {
      "cell_type": "code",
      "metadata": {
        "id": "HQK5ejCw0bCm"
      },
      "source": [
        "car1 = Car(color = '#ff3300')\n",
        "car1.forward()"
      ],
      "execution_count": 59,
      "outputs": []
    },
    {
      "cell_type": "code",
      "metadata": {
        "colab": {
          "base_uri": "https://localhost:8080/",
          "height": 17,
          "referenced_widgets": [
            "f279e3760989427f93bc2e7069c7dc87"
          ]
        },
        "id": "j-02OxVz4tFf",
        "outputId": "04d0fc3a-67c0-4ae8-f733-b74eba942854"
      },
      "source": [
        "canvas = Canvas(width = 400, height = 3000)\n",
        "canvas.fill_style = 'black'\n",
        "canvas.fill_rect(0, 0, canvas.width, canvas.height)\n",
        "canvas"
      ],
      "execution_count": 68,
      "outputs": [
        {
          "output_type": "display_data",
          "data": {
            "application/vnd.jupyter.widget-view+json": {
              "model_id": "f279e3760989427f93bc2e7069c7dc87",
              "version_minor": 0,
              "version_major": 2
            },
            "text/plain": [
              "Canvas(height=3000, width=4000)"
            ]
          },
          "metadata": {
            "tags": []
          }
        }
      ]
    },
    {
      "cell_type": "code",
      "metadata": {
        "id": "5hJFSN3L66m2"
      },
      "source": [
        "class ClassVar:\n",
        "  # instance property\n",
        "  # I think this is not a good practice...\n",
        "  text_list: List[str] = [] # Default value is shared as class attribute\n",
        "  global_var = 1\n",
        "\n",
        "  def add(self, text):\n",
        "    self.text_list.append(text)\n",
        "    self.global_var += 1\n",
        "  \n",
        "  def print_list(self):\n",
        "    print(self.text_list)\n",
        "    print(self.global_var)"
      ],
      "execution_count": 81,
      "outputs": []
    },
    {
      "cell_type": "code",
      "metadata": {
        "colab": {
          "base_uri": "https://localhost:8080/"
        },
        "id": "yQeUM6vb7N0F",
        "outputId": "a9a71b7b-4964-4e97-8c33-f4e2bf5c3e15"
      },
      "source": [
        "a = ClassVar()\n",
        "a.add('a')\n",
        "a.print_list()\n",
        "\n",
        "b = ClassVar()\n",
        "b.add('b')\n",
        "\n",
        "a.print_list()\n",
        "b.print_list()"
      ],
      "execution_count": 82,
      "outputs": [
        {
          "output_type": "stream",
          "text": [
            "['a']\n",
            "2\n",
            "['a', 'b']\n",
            "2\n",
            "['a', 'b']\n",
            "2\n"
          ],
          "name": "stdout"
        }
      ]
    },
    {
      "cell_type": "code",
      "metadata": {
        "id": "iDnYKFza7wA-"
      },
      "source": [
        "@dataclass\n",
        "class ClassVar2:\n",
        "  # instance property\n",
        "  text_list: List[str] = factory(lambda: [])\n",
        "\n",
        "  def add(self, text):\n",
        "    self.text_list.append(text)\n",
        "  \n",
        "  def print_list(self):\n",
        "    print(self.text_list)"
      ],
      "execution_count": 85,
      "outputs": []
    },
    {
      "cell_type": "code",
      "metadata": {
        "colab": {
          "base_uri": "https://localhost:8080/"
        },
        "id": "bqX0OMPJ75F1",
        "outputId": "2262b180-f32b-4d77-d160-8848c25b5220"
      },
      "source": [
        "a = ClassVar2()\n",
        "a.add('a')\n",
        "a.print_list()\n",
        "\n",
        "b = ClassVar2()\n",
        "b.add('b')\n",
        "\n",
        "a.print_list()\n",
        "b.print_list()"
      ],
      "execution_count": 86,
      "outputs": [
        {
          "output_type": "stream",
          "text": [
            "['a']\n",
            "['a']\n",
            "['b']\n"
          ],
          "name": "stdout"
        }
      ]
    },
    {
      "cell_type": "markdown",
      "metadata": {
        "id": "92SEC5kj9jVr"
      },
      "source": [
        "## 주소록 클래스 설계"
      ]
    },
    {
      "cell_type": "code",
      "metadata": {
        "id": "wXOBRfU79Vnt"
      },
      "source": [
        "# 주소록 클래스 설계\n",
        "\n",
        "@dataclass\n",
        "class Name:\n",
        "  first_name: str\n",
        "  last_name: str\n",
        "  reference_subject: Optional[str] = None # for example, he/she\n",
        "  reference_object: Optional[str] = None # for example, him/her\n",
        "\n",
        "\n",
        "  def __repr__(self):\n",
        "    return f'{self.first_name} {self.last_name}'\n",
        "\n",
        "\n",
        "@dataclass\n",
        "class User:\n",
        "  name: Name\n",
        "  uuid: UUID = factory(lambda: uuid4())\n",
        "  phone_number: Optional[str] = None\n",
        "  email: Optional[str] = None\n",
        "  metadata: dict = factory(lambda: {})\n",
        "\n",
        "\n",
        "  def table(self):\n",
        "    return [str(self.uuid), self.name, self.phone_number, self.email]\n",
        "\n",
        "  def __repr__(self):\n",
        "    text = f'{self.name}'\n",
        "    if self.phone_number != None: text += f', phone number: {self.phone_number}'\n",
        "    if self.email != None: text += f', email: {self.email}'\n",
        "    \n",
        "    return text\n",
        "\n",
        "\n",
        "@dataclass\n",
        "class Contact:\n",
        "  all_users: List[User]\n",
        "\n",
        "\n",
        "  def table(self):\n",
        "    return pd.DataFrame([user.table() for user in self.all_users], columns=['UUID', 'name', 'phone number', 'email'])\n",
        "\n",
        "  def __repr__(self):\n",
        "    return '\\n'.join([repr(item) for item in self.all_users])"
      ],
      "execution_count": 150,
      "outputs": []
    },
    {
      "cell_type": "code",
      "metadata": {
        "colab": {
          "base_uri": "https://localhost:8080/",
          "height": 172
        },
        "id": "sW5GCMufAsS8",
        "outputId": "caecc83a-7192-4f94-e787-1d96030a8df8"
      },
      "source": [
        "contact = Contact(\n",
        "  all_users = [\n",
        "    User(name='이현우', phone_number='010-1234-5678'),\n",
        "    User(name='어머니', phone_number='010-1111-2222'),\n",
        "    User(name='아버지', phone_number='010-3333-4444', email='hello_world@example.com'),\n",
        "    User(name='할아버지', phone_number='010-5555-6666')\n",
        "  ]\n",
        ")\n",
        "\n",
        "contact.table()"
      ],
      "execution_count": 153,
      "outputs": [
        {
          "output_type": "execute_result",
          "data": {
            "application/vnd.google.colaboratory.module+javascript": "\n      import \"https://ssl.gstatic.com/colaboratory/data_table/a6224c040fa35dcf/data_table.js\";\n\n      window.createDataTable({\n        data: [[{\n            'v': 0,\n            'f': \"0\",\n        },\n\"483b9305-592a-4f1a-8b19-f3d5a6f27539\",\n\"\\uc774\\ud604\\uc6b0\",\n\"010-1234-5678\",\nnull],\n [{\n            'v': 1,\n            'f': \"1\",\n        },\n\"187a3428-a259-44ce-8e7e-4d48dddb26d8\",\n\"\\uc5b4\\uba38\\ub2c8\",\n\"010-1111-2222\",\nnull],\n [{\n            'v': 2,\n            'f': \"2\",\n        },\n\"cc0c5b87-00b5-4c13-bd98-090612f18bc8\",\n\"\\uc544\\ubc84\\uc9c0\",\n\"010-3333-4444\",\n\"hello_world@example.com\"],\n [{\n            'v': 3,\n            'f': \"3\",\n        },\n\"ba7eeae1-51b1-4f15-9b87-9bc361859912\",\n\"\\ud560\\uc544\\ubc84\\uc9c0\",\n\"010-5555-6666\",\nnull]],\n        columns: [[\"number\", \"index\"], [\"string\", \"UUID\"], [\"string\", \"name\"], [\"string\", \"phone number\"], [\"string\", \"email\"]],\n        columnOptions: [{\"width\": \"1px\", \"className\": \"index_column\"}],\n        rowsPerPage: 25,\n        helpUrl: \"https://colab.research.google.com/notebooks/data_table.ipynb\",\n        suppressOutputScrolling: true,\n        minimumWidth: undefined,\n      });\n    ",
            "text/html": [
              "<div>\n",
              "<style scoped>\n",
              "    .dataframe tbody tr th:only-of-type {\n",
              "        vertical-align: middle;\n",
              "    }\n",
              "\n",
              "    .dataframe tbody tr th {\n",
              "        vertical-align: top;\n",
              "    }\n",
              "\n",
              "    .dataframe thead th {\n",
              "        text-align: right;\n",
              "    }\n",
              "</style>\n",
              "<table border=\"1\" class=\"dataframe\">\n",
              "  <thead>\n",
              "    <tr style=\"text-align: right;\">\n",
              "      <th></th>\n",
              "      <th>UUID</th>\n",
              "      <th>name</th>\n",
              "      <th>phone number</th>\n",
              "      <th>email</th>\n",
              "    </tr>\n",
              "  </thead>\n",
              "  <tbody>\n",
              "    <tr>\n",
              "      <th>0</th>\n",
              "      <td>483b9305-592a-4f1a-8b19-f3d5a6f27539</td>\n",
              "      <td>이현우</td>\n",
              "      <td>010-1234-5678</td>\n",
              "      <td>None</td>\n",
              "    </tr>\n",
              "    <tr>\n",
              "      <th>1</th>\n",
              "      <td>187a3428-a259-44ce-8e7e-4d48dddb26d8</td>\n",
              "      <td>어머니</td>\n",
              "      <td>010-1111-2222</td>\n",
              "      <td>None</td>\n",
              "    </tr>\n",
              "    <tr>\n",
              "      <th>2</th>\n",
              "      <td>cc0c5b87-00b5-4c13-bd98-090612f18bc8</td>\n",
              "      <td>아버지</td>\n",
              "      <td>010-3333-4444</td>\n",
              "      <td>hello_world@example.com</td>\n",
              "    </tr>\n",
              "    <tr>\n",
              "      <th>3</th>\n",
              "      <td>ba7eeae1-51b1-4f15-9b87-9bc361859912</td>\n",
              "      <td>할아버지</td>\n",
              "      <td>010-5555-6666</td>\n",
              "      <td>None</td>\n",
              "    </tr>\n",
              "  </tbody>\n",
              "</table>\n",
              "</div>"
            ],
            "text/plain": [
              "                                   UUID  ...                    email\n",
              "0  483b9305-592a-4f1a-8b19-f3d5a6f27539  ...                     None\n",
              "1  187a3428-a259-44ce-8e7e-4d48dddb26d8  ...                     None\n",
              "2  cc0c5b87-00b5-4c13-bd98-090612f18bc8  ...  hello_world@example.com\n",
              "3  ba7eeae1-51b1-4f15-9b87-9bc361859912  ...                     None\n",
              "\n",
              "[4 rows x 4 columns]"
            ]
          },
          "metadata": {
            "tags": []
          },
          "execution_count": 153
        }
      ]
    },
    {
      "cell_type": "code",
      "metadata": {
        "id": "rY8nyC9SCU4U"
      },
      "source": [
        "file_name = 'contact.txt'\n",
        "\n",
        "with open(file_name, 'wb') as file:\n",
        "  pickle.dump(contact, file)"
      ],
      "execution_count": 154,
      "outputs": []
    },
    {
      "cell_type": "code",
      "metadata": {
        "colab": {
          "base_uri": "https://localhost:8080/"
        },
        "id": "tpH8XsfLC-MM",
        "outputId": "1b8e3f6e-7e05-4ae6-be87-3f77c7338e8c"
      },
      "source": [
        "with open(file_name, 'rb') as file:\n",
        "  contact2 = pickle.load(file) # !!vulerability warning!! this is stub implementation, should be changed in real world implementations\n",
        "\n",
        "print(contact2)"
      ],
      "execution_count": 155,
      "outputs": [
        {
          "output_type": "stream",
          "text": [
            "이현우, phone number: 010-1234-5678\n",
            "어머니, phone number: 010-1111-2222\n",
            "아버지, phone number: 010-3333-4444, email: hello_world@example.com\n",
            "할아버지, phone number: 010-5555-6666\n"
          ],
          "name": "stdout"
        }
      ]
    }
  ]
}