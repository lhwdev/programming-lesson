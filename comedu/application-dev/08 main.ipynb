{
 "cells": [
  {
   "cell_type": "markdown",
   "metadata": {},
   "source": [
    "# 8일차"
   ]
  },
  {
   "cell_type": "markdown",
   "metadata": {},
   "source": [
    "## Scope와 전역변수"
   ]
  },
  {
   "cell_type": "code",
   "execution_count": 1,
   "metadata": {},
   "outputs": [
    {
     "name": "stdout",
     "output_type": "stream",
     "text": [
      "func1: a=10\n",
      "func2: a=20\n"
     ]
    }
   ],
   "source": [
    "def func1():\n",
    "  a = 10\n",
    "  print(f'func1: a={a}')\n",
    "\n",
    "def func2():\n",
    "  print(f'func2: a={a}')\n",
    "\n",
    "a = 20\n",
    "func1()\n",
    "func2()"
   ]
  },
  {
   "cell_type": "code",
   "execution_count": 2,
   "metadata": {},
   "outputs": [
    {
     "name": "stdout",
     "output_type": "stream",
     "text": [
      "func1: a=10\n",
      "func2: a=10\n"
     ]
    }
   ],
   "source": [
    "def func1():\n",
    "  global a\n",
    "  a = 10\n",
    "  print(f'func1: a={a}')\n",
    "\n",
    "def func2():\n",
    "  print(f'func2: a={a}')\n",
    "\n",
    "a = 20\n",
    "func1()\n",
    "func2()"
   ]
  }
 ],
 "metadata": {
  "interpreter": {
   "hash": "75ffff6d4f5ed7f54977765604b08bbeb08b44b7854def9bde97e4aa01295d9f"
  },
  "kernelspec": {
   "display_name": "Python 3.10.0 64-bit ('.env': venv)",
   "language": "python",
   "name": "python3"
  },
  "language_info": {
   "codemirror_mode": {
    "name": "ipython",
    "version": 3
   },
   "file_extension": ".py",
   "mimetype": "text/x-python",
   "name": "python",
   "nbconvert_exporter": "python",
   "pygments_lexer": "ipython3",
   "version": "3.10.0"
  },
  "orig_nbformat": 4
 },
 "nbformat": 4,
 "nbformat_minor": 2
}
