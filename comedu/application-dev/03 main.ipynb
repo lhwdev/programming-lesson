{
 "cells": [
  {
   "cell_type": "markdown",
   "source": [
    "# 3일차"
   ],
   "metadata": {}
  },
  {
   "cell_type": "markdown",
   "source": [
    "## 반복문/리스트"
   ],
   "metadata": {}
  },
  {
   "cell_type": "code",
   "execution_count": 5,
   "source": [
    "a = [1, 2, 3, 4, 5]\r\n",
    "a.append(6)\r\n",
    "print(a)\r\n",
    "a[1:3]"
   ],
   "outputs": [
    {
     "output_type": "stream",
     "name": "stdout",
     "text": [
      "[1, 2, 3, 4, 5, 6]\n"
     ]
    },
    {
     "output_type": "execute_result",
     "data": {
      "text/plain": [
       "[2, 3]"
      ]
     },
     "metadata": {},
     "execution_count": 5
    }
   ],
   "metadata": {}
  },
  {
   "cell_type": "code",
   "execution_count": 4,
   "source": [
    "aa = []\r\n",
    "length = int(input('길이: '))\r\n",
    "\r\n",
    "for i in range(0, length):\r\n",
    "  aa.append(int(input(f'{i}번째 항목:')))\r\n",
    "\r\n",
    "print(sum(aa))"
   ],
   "outputs": [
    {
     "output_type": "stream",
     "name": "stdout",
     "text": [
      "12\n"
     ]
    }
   ],
   "metadata": {}
  },
  {
   "cell_type": "code",
   "execution_count": 6,
   "source": [
    "aa = []\r\n",
    "bb = []\r\n",
    "value = 0\r\n",
    "\r\n",
    "for i in range(0, 100):\r\n",
    "  aa.append(value)\r\n",
    "  value += 2\r\n",
    "\r\n",
    "for i in range(0, 100):\r\n",
    "  bb.append(aa[99 - i])\r\n",
    "\r\n",
    "print(f'bb[0] = {bb[0]}, bb[99] = {bb[99]}')"
   ],
   "outputs": [
    {
     "output_type": "stream",
     "name": "stdout",
     "text": [
      "bb[0] = 198, bb[99] = 0\n"
     ]
    }
   ],
   "metadata": {}
  },
  {
   "cell_type": "code",
   "execution_count": 7,
   "source": [
    "myList = [30, 10, 20]\r\n",
    "print(myList)\r\n",
    "myList.append(40)\r\n",
    "print('popped', myList.pop())\r\n",
    "print('post-list:', myList)\r\n",
    "\r\n",
    "print('index of 20:', myList.index(20))\r\n",
    "myList.insert(2, 222)\r\n",
    "print(myList)\r\n",
    "myList.remove(222)\r\n",
    "print(myList)\r\n",
    "\r\n",
    "myList.extend([77, 88, 77])\r\n",
    "print('post-extend:', myList)\r\n",
    "\r\n",
    "print('count of `77`:', myList.count(77))"
   ],
   "outputs": [
    {
     "output_type": "stream",
     "name": "stdout",
     "text": [
      "[30, 10, 20]\n",
      "popped 40\n",
      "post-list: [30, 10, 20]\n",
      "index of 20: 2\n",
      "[30, 10, 222, 20]\n",
      "[30, 10, 20]\n",
      "post-extend: [30, 10, 20, 77, 88, 77]\n",
      "count of `77`: 2\n"
     ]
    }
   ],
   "metadata": {}
  },
  {
   "cell_type": "markdown",
   "source": [
    "## 실습 1. 이름 입력받아 출력하기"
   ],
   "metadata": {}
  },
  {
   "cell_type": "code",
   "execution_count": 8,
   "source": [
    "l = []\r\n",
    "for i in range(0, 5):\r\n",
    "  l.append(input(f'{i + 1}번째 사람 이름:'))\r\n",
    "\r\n",
    "for item in l:\r\n",
    "  print(item, end = ' ')"
   ],
   "outputs": [
    {
     "output_type": "stream",
     "name": "stdout",
     "text": [
      "아 야 어 여 요 "
     ]
    }
   ],
   "metadata": {}
  },
  {
   "cell_type": "markdown",
   "source": [
    "## 실습 2"
   ],
   "metadata": {}
  },
  {
   "cell_type": "code",
   "execution_count": 9,
   "source": [
    "array = [11, 30, 22, 5, 20]\r\n",
    "for item in array:\r\n",
    "  print(item, end = ' ')"
   ],
   "outputs": [
    {
     "output_type": "stream",
     "name": "stdout",
     "text": [
      "11 30 22 5 20 "
     ]
    }
   ],
   "metadata": {}
  },
  {
   "cell_type": "markdown",
   "source": [
    "## 실습 3. 최댓값 찾기"
   ],
   "metadata": {}
  },
  {
   "cell_type": "code",
   "execution_count": 11,
   "source": [
    "for character in 'hello, world!':\r\n",
    "  print(f'-{character}', end='')"
   ],
   "outputs": [
    {
     "output_type": "stream",
     "name": "stdout",
     "text": [
      "-h-e-l-l-o-,- -w-o-r-l-d-!"
     ]
    }
   ],
   "metadata": {}
  },
  {
   "cell_type": "markdown",
   "source": [
    "## 실습 4. 최댓값 찾기"
   ],
   "metadata": {}
  },
  {
   "cell_type": "code",
   "execution_count": 12,
   "source": [
    "v = [7, 99, 18, 35, 57, 71, 33, 43]\r\n",
    "m = v[0]\r\n",
    "for item in v:\r\n",
    "  if item > m:\r\n",
    "    m = item\r\n",
    "\r\n",
    "print(f'최댓값: {m}')"
   ],
   "outputs": [
    {
     "output_type": "stream",
     "name": "stdout",
     "text": [
      "최댓값: 99\n"
     ]
    }
   ],
   "metadata": {}
  },
  {
   "cell_type": "markdown",
   "source": [
    "## 실습 4-1. 리스트 정렬"
   ],
   "metadata": {}
  },
  {
   "cell_type": "markdown",
   "source": [],
   "metadata": {}
  }
 ],
 "metadata": {
  "orig_nbformat": 4,
  "language_info": {
   "name": "python",
   "version": "3.8.5",
   "mimetype": "text/x-python",
   "codemirror_mode": {
    "name": "ipython",
    "version": 3
   },
   "pygments_lexer": "ipython3",
   "nbconvert_exporter": "python",
   "file_extension": ".py"
  },
  "kernelspec": {
   "name": "python3",
   "display_name": "Python 3.8.5 32-bit ('.env': venv)"
  },
  "interpreter": {
   "hash": "ffaf0cbd40e3feb456f484883d8c6105c98e9df17f6729e1e5f5bc55603e296f"
  }
 },
 "nbformat": 4,
 "nbformat_minor": 2
}