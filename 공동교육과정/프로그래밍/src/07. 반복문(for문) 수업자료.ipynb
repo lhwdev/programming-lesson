{
  "nbformat": 4,
  "nbformat_minor": 0,
  "metadata": {
    "colab": {
      "name": "반복문(for문) 수업자료.ipynb",
      "provenance": [],
      "authorship_tag": "ABX9TyNK6Byi0+hRdqd6iocbyyQX"
    },
    "kernelspec": {
      "name": "python3",
      "display_name": "Python 3"
    },
    "language_info": {
      "name": "python"
    }
  },
  "cells": [
    {
      "cell_type": "markdown",
      "metadata": {
        "id": "C-E3Sue1dEuG"
      },
      "source": [
        "# for 문\n",
        "``` python\n",
        "for 반복변수 in 순서열:\n",
        "  코드블록\n",
        "```"
      ]
    },
    {
      "cell_type": "code",
      "metadata": {
        "colab": {
          "base_uri": "https://localhost:8080/"
        },
        "id": "cRjavMhqc4lZ",
        "outputId": "036ca9fa-ebff-4a14-c29c-83a07fcc04f2"
      },
      "source": [
        "for i in 'Hello':\n",
        "  print(i, end=' ')"
      ],
      "execution_count": null,
      "outputs": [
        {
          "output_type": "stream",
          "text": [
            "H e l l o "
          ],
          "name": "stdout"
        }
      ]
    },
    {
      "cell_type": "code",
      "metadata": {
        "colab": {
          "base_uri": "https://localhost:8080/"
        },
        "id": "fM9gR_vEdl37",
        "outputId": "070e14b4-b164-44ae-b8d5-e9fd5c7665d9"
      },
      "source": [
        "for i in [1, 3, 5, 7, 9]:\n",
        "  print(i, end=' ')"
      ],
      "execution_count": null,
      "outputs": [
        {
          "output_type": "stream",
          "text": [
            "1 3 5 7 9 "
          ],
          "name": "stdout"
        }
      ]
    },
    {
      "cell_type": "code",
      "metadata": {
        "colab": {
          "base_uri": "https://localhost:8080/"
        },
        "id": "tr4XtwYJdtof",
        "outputId": "d837a248-0dae-4084-abbe-79d25a448779"
      },
      "source": [
        "for i, j in [[1, 2], [3, 4], [5, 6]]:\n",
        "  print(i, j)"
      ],
      "execution_count": null,
      "outputs": [
        {
          "output_type": "stream",
          "text": [
            "1 2\n",
            "3 4\n",
            "5 6\n"
          ],
          "name": "stdout"
        }
      ]
    },
    {
      "cell_type": "code",
      "metadata": {
        "colab": {
          "base_uri": "https://localhost:8080/",
          "height": 215
        },
        "id": "-CLcup2ZdycV",
        "outputId": "6f834d87-0c99-45c5-ce15-4375e2b33f2d"
      },
      "source": [
        "for i, j in [[1, 2], [3, 4], [5, 6, 7]]:\n",
        "  print(i, j) # 개수가 딱 맞아야 함"
      ],
      "execution_count": null,
      "outputs": [
        {
          "output_type": "stream",
          "text": [
            "1 2\n",
            "3 4\n"
          ],
          "name": "stdout"
        },
        {
          "output_type": "error",
          "ename": "ValueError",
          "evalue": "ignored",
          "traceback": [
            "\u001b[0;31m---------------------------------------------------------------------------\u001b[0m",
            "\u001b[0;31mValueError\u001b[0m                                Traceback (most recent call last)",
            "\u001b[0;32m<ipython-input-5-9c8a6f62a7e5>\u001b[0m in \u001b[0;36m<module>\u001b[0;34m()\u001b[0m\n\u001b[0;32m----> 1\u001b[0;31m \u001b[0;32mfor\u001b[0m \u001b[0mi\u001b[0m\u001b[0;34m,\u001b[0m \u001b[0mj\u001b[0m \u001b[0;32min\u001b[0m \u001b[0;34m[\u001b[0m\u001b[0;34m[\u001b[0m\u001b[0;36m1\u001b[0m\u001b[0;34m,\u001b[0m \u001b[0;36m2\u001b[0m\u001b[0;34m]\u001b[0m\u001b[0;34m,\u001b[0m \u001b[0;34m[\u001b[0m\u001b[0;36m3\u001b[0m\u001b[0;34m,\u001b[0m \u001b[0;36m4\u001b[0m\u001b[0;34m]\u001b[0m\u001b[0;34m,\u001b[0m \u001b[0;34m[\u001b[0m\u001b[0;36m5\u001b[0m\u001b[0;34m,\u001b[0m \u001b[0;36m6\u001b[0m\u001b[0;34m,\u001b[0m \u001b[0;36m7\u001b[0m\u001b[0;34m]\u001b[0m\u001b[0;34m]\u001b[0m\u001b[0;34m:\u001b[0m\u001b[0;34m\u001b[0m\u001b[0;34m\u001b[0m\u001b[0m\n\u001b[0m\u001b[1;32m      2\u001b[0m   \u001b[0mprint\u001b[0m\u001b[0;34m(\u001b[0m\u001b[0mi\u001b[0m\u001b[0;34m,\u001b[0m \u001b[0mj\u001b[0m\u001b[0;34m)\u001b[0m\u001b[0;34m\u001b[0m\u001b[0;34m\u001b[0m\u001b[0m\n",
            "\u001b[0;31mValueError\u001b[0m: too many values to unpack (expected 2)"
          ]
        }
      ]
    },
    {
      "cell_type": "code",
      "metadata": {
        "colab": {
          "base_uri": "https://localhost:8080/"
        },
        "id": "pLmHDEP6eBla",
        "outputId": "73ca9f09-ed52-405b-d07b-0d045b8bce5c"
      },
      "source": [
        "for i in range(1, 10, 2):\n",
        "  print(i, end = ' ')"
      ],
      "execution_count": null,
      "outputs": [
        {
          "output_type": "stream",
          "text": [
            "1 3 5 7 9 "
          ],
          "name": "stdout"
        }
      ]
    },
    {
      "cell_type": "markdown",
      "metadata": {
        "id": "4D3B-T12fug1"
      },
      "source": [
        "## 내장함수들"
      ]
    },
    {
      "cell_type": "code",
      "metadata": {
        "colab": {
          "base_uri": "https://localhost:8080/"
        },
        "id": "dU7ENDW3eJZa",
        "outputId": "a8ee0a96-e624-4490-9a6e-119f25abdabd"
      },
      "source": [
        "for i, x in enumerate([1, 3, 5, 7, 9]):\n",
        "  print(i, x)"
      ],
      "execution_count": null,
      "outputs": [
        {
          "output_type": "stream",
          "text": [
            "0 1\n",
            "1 3\n",
            "2 5\n",
            "3 7\n",
            "4 9\n"
          ],
          "name": "stdout"
        }
      ]
    },
    {
      "cell_type": "code",
      "metadata": {
        "colab": {
          "base_uri": "https://localhost:8080/"
        },
        "id": "gjtWPkz6fZHf",
        "outputId": "c44a1f18-7eba-49f5-da04-c20ca3dc5cf5"
      },
      "source": [
        "s = [1, 3, 5, 7, 9]\n",
        "t = [2, 4, 6, 8]\n",
        "for x, y, in zip(s, t): # 원소의 길이가 짧은 쪽에 맞춤.\n",
        "  print(x, y)"
      ],
      "execution_count": null,
      "outputs": [
        {
          "output_type": "stream",
          "text": [
            "1 2\n",
            "3 4\n",
            "5 6\n",
            "7 8\n"
          ],
          "name": "stdout"
        }
      ]
    },
    {
      "cell_type": "markdown",
      "metadata": {
        "id": "XTUnTeGQfprn"
      },
      "source": [
        "### 과제\n",
        "위 코드를 while 문을 사용하여 동일한 결과가 출력되도록 코드를 작성하시오.\n",
        "단, zip을 사용하지 말 것!"
      ]
    },
    {
      "cell_type": "code",
      "metadata": {
        "colab": {
          "base_uri": "https://localhost:8080/"
        },
        "id": "wg5NDb9tfhyA",
        "outputId": "1d3d81b0-bb90-45ff-9c16-d596d2de8bf9"
      },
      "source": [
        "s = [1, 3, 5, 7, 9]\n",
        "t = [2, 4, 6, 8]\n",
        "i = 0\n",
        "while True:\n",
        "  if i >= len(s) or i >= len(t): break\n",
        "  print(s[i], t[i])\n",
        "  i += 1"
      ],
      "execution_count": null,
      "outputs": [
        {
          "output_type": "stream",
          "text": [
            "1 2\n",
            "3 4\n",
            "5 6\n",
            "7 8\n"
          ],
          "name": "stdout"
        }
      ]
    },
    {
      "cell_type": "code",
      "metadata": {
        "id": "bv8ayq28f_l8"
      },
      "source": [
        "with open('test.txt') as file:\n",
        "  for line in file.readLines():\n",
        "    print(line.strip())"
      ],
      "execution_count": null,
      "outputs": []
    },
    {
      "cell_type": "markdown",
      "metadata": {
        "id": "C7qh7SHNmclp"
      },
      "source": [
        "들여쓰기가 사라졌다? (실제 텍스트가 뭔지 몰라서요)"
      ]
    },
    {
      "cell_type": "code",
      "metadata": {
        "colab": {
          "base_uri": "https://localhost:8080/"
        },
        "id": "VXvTTss9mbBf",
        "outputId": "1062af3e-5f8f-4a1c-b8f3-9507fb154e73"
      },
      "source": [
        "for i in range(2):\n",
        "  for j in range(2):\n",
        "    print(i, j)"
      ],
      "execution_count": null,
      "outputs": [
        {
          "output_type": "stream",
          "text": [
            "0 0\n",
            "0 1\n",
            "1 0\n",
            "1 1\n"
          ],
          "name": "stdout"
        }
      ]
    },
    {
      "cell_type": "markdown",
      "metadata": {
        "id": "egs0XZCvmlik"
      },
      "source": [
        "## 리스트 내포(comprehension)"
      ]
    },
    {
      "cell_type": "code",
      "metadata": {
        "colab": {
          "base_uri": "https://localhost:8080/"
        },
        "id": "uOO9rFKNmjq3",
        "outputId": "86ffd957-a477-4ec1-df80-3ee6a5927505"
      },
      "source": [
        "num = [1, 3, -2, 5]\n",
        "a = [n * 2 for n in num]\n",
        "print(a)"
      ],
      "execution_count": null,
      "outputs": [
        {
          "output_type": "stream",
          "text": [
            "[2, 6, -4, 10]\n"
          ],
          "name": "stdout"
        }
      ]
    },
    {
      "cell_type": "code",
      "metadata": {
        "colab": {
          "base_uri": "https://localhost:8080/"
        },
        "id": "Hc5lZ5QCmsDJ",
        "outputId": "5ecf3170-558b-42d6-fd04-9604d271a0ba"
      },
      "source": [
        "print([n * 2 for n in num if n > 0])"
      ],
      "execution_count": null,
      "outputs": [
        {
          "output_type": "stream",
          "text": [
            "[2, 6, 10]\n"
          ],
          "name": "stdout"
        }
      ]
    },
    {
      "cell_type": "code",
      "metadata": {
        "colab": {
          "base_uri": "https://localhost:8080/"
        },
        "id": "mcjmnxxAmuQW",
        "outputId": "30b45475-7374-4c80-a371-f6a0c2e8ac77"
      },
      "source": [
        "alpa = 'ab'\n",
        "print([(i, j) for i in num for j in alpa if i > 0])"
      ],
      "execution_count": null,
      "outputs": [
        {
          "output_type": "stream",
          "text": [
            "[(1, 'a'), (1, 'b'), (3, 'a'), (3, 'b'), (5, 'a'), (5, 'b')]\n"
          ],
          "name": "stdout"
        }
      ]
    },
    {
      "cell_type": "markdown",
      "metadata": {
        "id": "1BTMdlK_p1Ks"
      },
      "source": [
        "## 단순 for 문의 적용"
      ]
    },
    {
      "cell_type": "markdown",
      "metadata": {
        "id": "jOQur94kp4fx"
      },
      "source": [
        "### 삼각수 출력"
      ]
    },
    {
      "cell_type": "code",
      "metadata": {
        "colab": {
          "base_uri": "https://localhost:8080/"
        },
        "id": "SHdpfKb9m2Gl",
        "outputId": "8be65d56-6cd5-4b02-afb9-9e159cb5df17"
      },
      "source": [
        "n, s = 10, 0\n",
        "for i in range(1, n + 1):\n",
        "  s += i\n",
        "  print(s, end = ' ')"
      ],
      "execution_count": null,
      "outputs": [
        {
          "output_type": "stream",
          "text": [
            "1 3 6 10 15 21 28 36 45 55 "
          ],
          "name": "stdout"
        }
      ]
    },
    {
      "cell_type": "markdown",
      "metadata": {
        "id": "-0Ic4oMu19aj"
      },
      "source": [
        "### 피보나치 수열"
      ]
    },
    {
      "cell_type": "code",
      "metadata": {
        "colab": {
          "base_uri": "https://localhost:8080/"
        },
        "id": "ALJ_j33Jp-zc",
        "outputId": "ea37d4da-6377-455e-e65d-e973ad9fd9d1"
      },
      "source": [
        "# 피보나치 수열\n",
        "n, a, b = 10, 0, 1\n",
        "for i in range(n):\n",
        "  print(a, end = ' ')\n",
        "  a, b = b, a + b"
      ],
      "execution_count": null,
      "outputs": [
        {
          "output_type": "stream",
          "text": [
            "0 1 1 2 3 5 8 13 21 34 "
          ],
          "name": "stdout"
        }
      ]
    },
    {
      "cell_type": "markdown",
      "metadata": {
        "id": "QruzDGaU1_-m"
      },
      "source": [
        "### 구구단"
      ]
    },
    {
      "cell_type": "code",
      "metadata": {
        "colab": {
          "base_uri": "https://localhost:8080/"
        },
        "id": "izhXyejqqD4Z",
        "outputId": "782146e9-fe33-40e6-a5e2-f63c7a15f1f0"
      },
      "source": [
        "# 구구단\n",
        "n = 5\n",
        "for i in range(1, 10):\n",
        "  print(f'{n}, {i}, {n * i}')"
      ],
      "execution_count": null,
      "outputs": [
        {
          "output_type": "stream",
          "text": [
            "5, 1, 5\n",
            "5, 2, 10\n",
            "5, 3, 15\n",
            "5, 4, 20\n",
            "5, 5, 25\n",
            "5, 6, 30\n",
            "5, 7, 35\n",
            "5, 8, 40\n",
            "5, 9, 45\n"
          ],
          "name": "stdout"
        }
      ]
    },
    {
      "cell_type": "markdown",
      "metadata": {
        "id": "0TJ3uQ802Az6"
      },
      "source": [
        "### 숫자 피라미드"
      ]
    },
    {
      "cell_type": "code",
      "metadata": {
        "colab": {
          "base_uri": "https://localhost:8080/"
        },
        "id": "jQAXFzrGqRQP",
        "outputId": "6d9cfecb-da86-4e1f-e10c-7552168d791c"
      },
      "source": [
        "# 숫자 피라미드\n",
        "n = ''\n",
        "for i in '123456789':\n",
        "  n += i\n",
        "  print('{0:>9} * 8 + {1} = {2:<9}'.format(n, i, int(n) * 8 + int(i)))"
      ],
      "execution_count": null,
      "outputs": [
        {
          "output_type": "stream",
          "text": [
            "        1 * 8 + 1 = 9        \n",
            "       12 * 8 + 2 = 98       \n",
            "      123 * 8 + 3 = 987      \n",
            "     1234 * 8 + 4 = 9876     \n",
            "    12345 * 8 + 5 = 98765    \n",
            "   123456 * 8 + 6 = 987654   \n",
            "  1234567 * 8 + 7 = 9876543  \n",
            " 12345678 * 8 + 8 = 98765432 \n",
            "123456789 * 8 + 9 = 987654321\n"
          ],
          "name": "stdout"
        }
      ]
    },
    {
      "cell_type": "markdown",
      "metadata": {
        "id": "gk7t73Ej2CA7"
      },
      "source": [
        "### 소수 판단"
      ]
    },
    {
      "cell_type": "code",
      "metadata": {
        "colab": {
          "base_uri": "https://localhost:8080/"
        },
        "id": "tpKLtuonqebZ",
        "outputId": "6673703b-651e-47d7-9218-bd6793a85010"
      },
      "source": [
        "# 소수 판단\n",
        "n = 1234567\n",
        "for i in range(2, n):\n",
        "  if n % i != 0:\n",
        "    print('is composite')\n",
        "    break\n",
        "else:\n",
        "  print('is prime')"
      ],
      "execution_count": null,
      "outputs": [
        {
          "output_type": "stream",
          "text": [
            "is composite\n"
          ],
          "name": "stdout"
        }
      ]
    },
    {
      "cell_type": "markdown",
      "metadata": {
        "id": "aAkCv6GXrHSO"
      },
      "source": [
        "## 다중 for 문"
      ]
    },
    {
      "cell_type": "markdown",
      "metadata": {
        "id": "--cZbl0NrI-p"
      },
      "source": [
        "### 과제: 구구단 출력\n",
        "- 2단 ~ 9단\n",
        "- 단을 세로로 출력\n",
        "- 단과 단 사이는 빈 줄로 구분"
      ]
    },
    {
      "cell_type": "code",
      "metadata": {
        "colab": {
          "base_uri": "https://localhost:8080/"
        },
        "id": "X6YinuFNq7L1",
        "outputId": "f72d8579-8141-485e-db32-01de8612296b"
      },
      "source": [
        "for a in range(2, 10):\n",
        "  for b in range(1, 10):\n",
        "    print('{0}×{1}={2:<3}'.format(a, b, a * b), end = ' ')\n",
        "  print()"
      ],
      "execution_count": null,
      "outputs": [
        {
          "output_type": "stream",
          "text": [
            "2×1=2   2×2=4   2×3=6   2×4=8   2×5=10  2×6=12  2×7=14  2×8=16  2×9=18  \n",
            "3×1=3   3×2=6   3×3=9   3×4=12  3×5=15  3×6=18  3×7=21  3×8=24  3×9=27  \n",
            "4×1=4   4×2=8   4×3=12  4×4=16  4×5=20  4×6=24  4×7=28  4×8=32  4×9=36  \n",
            "5×1=5   5×2=10  5×3=15  5×4=20  5×5=25  5×6=30  5×7=35  5×8=40  5×9=45  \n",
            "6×1=6   6×2=12  6×3=18  6×4=24  6×5=30  6×6=36  6×7=42  6×8=48  6×9=54  \n",
            "7×1=7   7×2=14  7×3=21  7×4=28  7×5=35  7×6=42  7×7=49  7×8=56  7×9=63  \n",
            "8×1=8   8×2=16  8×3=24  8×4=32  8×5=40  8×6=48  8×7=56  8×8=64  8×9=72  \n",
            "9×1=9   9×2=18  9×3=27  9×4=36  9×5=45  9×6=54  9×7=63  9×8=72  9×9=81  \n"
          ],
          "name": "stdout"
        }
      ]
    },
    {
      "cell_type": "markdown",
      "metadata": {
        "id": "FLw0ePJWs2ri"
      },
      "source": [
        "### 예시들:"
      ]
    },
    {
      "cell_type": "code",
      "metadata": {
        "colab": {
          "base_uri": "https://localhost:8080/"
        },
        "id": "7_ehcuXrsr7J",
        "outputId": "bde62a8b-33b6-4c45-aec8-fa1adfd8dc7d"
      },
      "source": [
        "# amicable numbers\n",
        "bound = 10000\n",
        "for n in range(2, bound + 1):\n",
        "  sum = 1\n",
        "  for i in range(2, n//2 + 1):\n",
        "    if n % i == 0: sum += i\n",
        "  if sum <= n: continue\n",
        "  sum2 = 1\n",
        "  for i in range(2, sum//2 + 1):\n",
        "    if sum % i == 0: sum2 += i\n",
        "  if sum2 == n: print(n, sum)"
      ],
      "execution_count": null,
      "outputs": [
        {
          "output_type": "stream",
          "text": [
            "220 284\n",
            "1184 1210\n",
            "2620 2924\n",
            "5020 5564\n",
            "6232 6368\n"
          ],
          "name": "stdout"
        }
      ]
    },
    {
      "cell_type": "code",
      "metadata": {
        "colab": {
          "base_uri": "https://localhost:8080/"
        },
        "id": "CQADlBlMtJ9z",
        "outputId": "625d3ba3-f69c-42e7-b660-138036d6681b"
      },
      "source": [
        "# Pascal's triangle\n",
        "row = 6\n",
        "f = [1] # factorial rainbow table\n",
        "for i in range(1, row + 1):\n",
        "  f.append(i * f[i - 1])\n",
        "\n",
        "for n in range(row + 1):\n",
        "  print(' ' * 3 * (row - n), end = '')\n",
        "  for r in range(n + 1):\n",
        "    a = f[n] // (f[r] * f[n - r])\n",
        "    print('%6d' % a, end = '')\n",
        "  print()"
      ],
      "execution_count": null,
      "outputs": [
        {
          "output_type": "stream",
          "text": [
            "                       1\n",
            "                    1     1\n",
            "                 1     2     1\n",
            "              1     3     3     1\n",
            "           1     4     6     4     1\n",
            "        1     5    10    10     5     1\n",
            "     1     6    15    20    15     6     1\n"
          ],
          "name": "stdout"
        }
      ]
    },
    {
      "cell_type": "code",
      "metadata": {
        "colab": {
          "base_uri": "https://localhost:8080/"
        },
        "id": "7lSYM2h2xSUY",
        "outputId": "f11cdfcc-64ee-41ca-99af-0ce2985e0d7e"
      },
      "source": [
        "# ranking\n",
        "a = [61, 100, 67, 88, 25, 56, 55, 67, 76, 56]\n",
        "n = len(a)\n",
        "b = [1] * n\n",
        "for i in range(n):\n",
        "  for j in range(i + 1, n):\n",
        "    if a[i] < a[j]: b[i] += 1\n",
        "    if a[i] > a[j]: b[j] += 1\n",
        "\n",
        "for x, y in zip(a, b):\n",
        "  print(x, y)"
      ],
      "execution_count": null,
      "outputs": [
        {
          "output_type": "stream",
          "text": [
            "61 6\n",
            "100 1\n",
            "67 4\n",
            "88 2\n",
            "25 10\n",
            "56 7\n",
            "55 9\n",
            "67 4\n",
            "76 3\n",
            "56 7\n"
          ],
          "name": "stdout"
        }
      ]
    }
  ]
}