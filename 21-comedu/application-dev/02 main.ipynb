{
 "cells": [
  {
   "cell_type": "markdown",
   "source": [
    "# 응용프로그래밍개발 2일차"
   ],
   "metadata": {}
  },
  {
   "cell_type": "markdown",
   "source": [
    "## 복습하기 과제"
   ],
   "metadata": {}
  },
  {
   "cell_type": "markdown",
   "source": [
    "### 1번 과제"
   ],
   "metadata": {}
  },
  {
   "cell_type": "code",
   "execution_count": 2,
   "source": [
    "name = '홍길동'\r\n",
    "age = 30\r\n",
    "height = 171.5\r\n",
    "print(f'성: {name[0]}')\r\n",
    "print(f'이름: {name[1:]}')\r\n",
    "print(f'{name}의 나이: {age}세, 키: {height}cm')"
   ],
   "outputs": [
    {
     "output_type": "stream",
     "name": "stdout",
     "text": [
      "성: 홍\n",
      "이름: 길동\n",
      "홍길동의 나이: 30세, 키: 171.5cm\n"
     ]
    }
   ],
   "metadata": {}
  },
  {
   "cell_type": "markdown",
   "source": [
    "### 2번 과제"
   ],
   "metadata": {}
  },
  {
   "cell_type": "code",
   "execution_count": 4,
   "source": [
    "name = input('이름을 입력: ')\r\n",
    "year = int(input('현재년도 입력: '))\r\n",
    "born = int(input('탄생년도 입력: '))\r\n",
    "\r\n",
    "print(f'{name}님의 나이는 {year - born + 1}세(우리나라 기준) 입니다!')"
   ],
   "outputs": [
    {
     "output_type": "stream",
     "name": "stdout",
     "text": [
      "이현우님의 나이는 18세(우리나라 기준) 입니다!\n"
     ]
    }
   ],
   "metadata": {}
  },
  {
   "cell_type": "markdown",
   "source": [
    "### 3번 과제"
   ],
   "metadata": {}
  },
  {
   "cell_type": "code",
   "execution_count": 10,
   "source": [
    "from datetime import datetime\r\n",
    "\r\n",
    "yearNum = int(input('년 입력: '))\r\n",
    "monthNum = int(input('월 입력: '))\r\n",
    "dateNum = int(input('일 입력: '))\r\n",
    "\r\n",
    "# 1번\r\n",
    "print(f'{yearNum}-{monthNum}-{dateNum}')\r\n",
    "\r\n",
    "# 2번 (진도 역행)\r\n",
    "target = datetime(year = yearNum, month = monthNum, day = dateNum)\r\n",
    "print(target.strftime('%Y-%m-%d (%A)'))"
   ],
   "outputs": [
    {
     "output_type": "execute_result",
     "data": {
      "text/plain": [
       "'2021-09-11 (Saturday)'"
      ]
     },
     "metadata": {},
     "execution_count": 10
    }
   ],
   "metadata": {}
  },
  {
   "cell_type": "markdown",
   "source": [
    "### 4번 과제"
   ],
   "metadata": {}
  },
  {
   "cell_type": "code",
   "execution_count": 11,
   "source": [
    "vowels = 'aeiou'\r\n",
    "\r\n",
    "char = input('영어 알파벳을 입력하세요: ')\r\n",
    "char2 = char.lower()\r\n",
    "isVowel = vowels.find(char2) != -1\r\n",
    "if isVowel:\r\n",
    "  print(f'{char}은 모음')\r\n",
    "else:\r\n",
    "  print(f'{char}은 자음')"
   ],
   "outputs": [
    {
     "output_type": "stream",
     "name": "stdout",
     "text": [
      "a은 모음\n"
     ]
    }
   ],
   "metadata": {}
  },
  {
   "cell_type": "markdown",
   "source": [
    "### 5번 과제"
   ],
   "metadata": {}
  },
  {
   "cell_type": "code",
   "execution_count": 13,
   "source": [
    "messages = ['Thank you', 'Well done', 'Correct']\r\n",
    "\r\n",
    "while True:\r\n",
    "  selection = int(input(f'입력 1, 2, 3: '))\r\n",
    "  if not 1 <= selection <= 3:\r\n",
    "    print('Error Message')\r\n",
    "    break\r\n",
    "  print(messages[selection - 1])"
   ],
   "outputs": [
    {
     "output_type": "stream",
     "name": "stdout",
     "text": [
      "Well done\n",
      "---------------------\n",
      "Correct\n",
      "---------------------\n",
      "Thank you\n",
      "---------------------\n",
      "Error Message\n"
     ]
    }
   ],
   "metadata": {}
  },
  {
   "cell_type": "markdown",
   "source": [
    "## 3. 반복문"
   ],
   "metadata": {}
  },
  {
   "cell_type": "markdown",
   "source": [
    "### playground"
   ],
   "metadata": {}
  },
  {
   "cell_type": "code",
   "execution_count": 2,
   "source": [
    "for _ in range(5):\r\n",
    "  print('와!')"
   ],
   "outputs": [
    {
     "output_type": "stream",
     "name": "stdout",
     "text": [
      "와!\n",
      "와!\n",
      "와!\n",
      "와!\n",
      "와!\n"
     ]
    }
   ],
   "metadata": {}
  },
  {
   "cell_type": "code",
   "execution_count": 4,
   "source": [
    "i = 0\r\n",
    "while i < 5:\r\n",
    "  print(i, end = ', ')\r\n",
    "  i += 1"
   ],
   "outputs": [
    {
     "output_type": "stream",
     "name": "stdout",
     "text": [
      "0, 1, 2, 3, 4, "
     ]
    }
   ],
   "metadata": {}
  },
  {
   "cell_type": "code",
   "execution_count": 5,
   "source": [
    "for i in range(10):\r\n",
    "  print(i, end = ' ')"
   ],
   "outputs": [
    {
     "output_type": "stream",
     "name": "stdout",
     "text": [
      "0 1 2 3 4 5 6 7 8 9 "
     ]
    }
   ],
   "metadata": {}
  },
  {
   "cell_type": "code",
   "execution_count": 7,
   "source": [
    "for i in range(1, 11, 2):\r\n",
    "  print(i, end = ' ')"
   ],
   "outputs": [
    {
     "output_type": "stream",
     "name": "stdout",
     "text": [
      "1 3 5 7 9 "
     ]
    }
   ],
   "metadata": {}
  },
  {
   "cell_type": "code",
   "execution_count": 9,
   "source": [
    "for i in range(20, 0, -2):\r\n",
    "  print(i, end = ' ')"
   ],
   "outputs": [
    {
     "output_type": "stream",
     "name": "stdout",
     "text": [
      "20 18 16 14 12 10 8 6 4 2 "
     ]
    }
   ],
   "metadata": {}
  },
  {
   "cell_type": "markdown",
   "source": [
    "### 실습 1"
   ],
   "metadata": {}
  },
  {
   "cell_type": "code",
   "execution_count": 11,
   "source": [
    "phoneNum = input('휴대폰 번호 입력: ')\r\n",
    "output = ''\r\n",
    "\r\n",
    "for c in phoneNum:\r\n",
    "  if not c == '-':\r\n",
    "    output += c\r\n",
    "\r\n",
    "print(output)"
   ],
   "outputs": [
    {
     "output_type": "stream",
     "name": "stdout",
     "text": [
      "01012345678\n"
     ]
    }
   ],
   "metadata": {}
  },
  {
   "cell_type": "markdown",
   "source": [
    "### 실습 2"
   ],
   "metadata": {}
  },
  {
   "cell_type": "code",
   "execution_count": 13,
   "source": [
    "original = input('휴대폰 번호 입력: ')\r\n",
    "print(f'{original[0:3]}-{original[3:7]}-{original[7:11]}')"
   ],
   "outputs": [
    {
     "output_type": "stream",
     "name": "stdout",
     "text": [
      "010-1234-5678\n"
     ]
    }
   ],
   "metadata": {}
  },
  {
   "cell_type": "markdown",
   "source": [
    "### 실습 3"
   ],
   "metadata": {}
  },
  {
   "cell_type": "code",
   "execution_count": 3,
   "source": [
    "print('킬로그램(kb)\\t파운드(lb)\\t온스(oz)')\r\n",
    "\r\n",
    "for kg in range(10, 101, 5):\r\n",
    "  lb = kg * 2.204623\r\n",
    "  oz = kg * 35.273962\r\n",
    "  print('%8d\\t%10.1f\\t%10.1f' % (kg, lb, oz))"
   ],
   "outputs": [
    {
     "output_type": "stream",
     "name": "stdout",
     "text": [
      "킬로그램(kb)\t파운드(lb)\t온스(oz)\n",
      "      10\t      22.0\t     352.7\n",
      "      15\t      33.1\t     529.1\n",
      "      20\t      44.1\t     705.5\n",
      "      25\t      55.1\t     881.8\n",
      "      30\t      66.1\t    1058.2\n",
      "      35\t      77.2\t    1234.6\n",
      "      40\t      88.2\t    1411.0\n",
      "      45\t      99.2\t    1587.3\n",
      "      50\t     110.2\t    1763.7\n",
      "      55\t     121.3\t    1940.1\n",
      "      60\t     132.3\t    2116.4\n",
      "      65\t     143.3\t    2292.8\n",
      "      70\t     154.3\t    2469.2\n",
      "      75\t     165.3\t    2645.5\n",
      "      80\t     176.4\t    2821.9\n",
      "      85\t     187.4\t    2998.3\n",
      "      90\t     198.4\t    3174.7\n",
      "      95\t     209.4\t    3351.0\n",
      "     100\t     220.5\t    3527.4\n"
     ]
    }
   ],
   "metadata": {}
  },
  {
   "cell_type": "markdown",
   "source": [
    "### 실습 4"
   ],
   "metadata": {}
  },
  {
   "cell_type": "code",
   "execution_count": 4,
   "source": [
    "for i in range(1, 1001):\r\n",
    "  print(i, end = ' ')\r\n",
    "  if i == 10: break"
   ],
   "outputs": [
    {
     "output_type": "stream",
     "name": "stdout",
     "text": [
      "1 2 3 4 5 6 7 8 9 10 "
     ]
    }
   ],
   "metadata": {}
  },
  {
   "cell_type": "markdown",
   "source": [
    "### 즉석 실습 1"
   ],
   "metadata": {}
  },
  {
   "cell_type": "code",
   "execution_count": 9,
   "source": [
    "number = 0\r\n",
    "for i in range(1, 101):\r\n",
    "  number += i\r\n",
    "\r\n",
    "print(number)"
   ],
   "outputs": [
    {
     "output_type": "stream",
     "name": "stdout",
     "text": [
      "5050\n"
     ]
    }
   ],
   "metadata": {}
  },
  {
   "cell_type": "code",
   "execution_count": 11,
   "source": [
    "number = 0\r\n",
    "i = 1\r\n",
    "while i <= 100: # while로 바꾸기\r\n",
    "  number += i\r\n",
    "  i += 1\r\n",
    "\r\n",
    "print(number)"
   ],
   "outputs": [
    {
     "output_type": "stream",
     "name": "stdout",
     "text": [
      "5050\n"
     ]
    }
   ],
   "metadata": {}
  },
  {
   "cell_type": "code",
   "execution_count": 12,
   "source": [
    "toNumber = int(input('1에서 무엇까지 더할까요? '))\r\n",
    "# number = 0\r\n",
    "# for i in range(1, toNumber + 1):\r\n",
    "#   number += i\r\n",
    "number = int(toNumber * (toNumber + 1) / 2) # 성능 최적화\r\n",
    "\r\n",
    "print(number)"
   ],
   "outputs": [
    {
     "output_type": "stream",
     "name": "stdout",
     "text": [
      "5050\n"
     ]
    }
   ],
   "metadata": {}
  },
  {
   "cell_type": "markdown",
   "source": [
    "### 즉석 실습 2"
   ],
   "metadata": {}
  },
  {
   "cell_type": "code",
   "execution_count": 15,
   "source": [
    "for i in range(5, 0, -1):\r\n",
    "  print(i, end = ' ')"
   ],
   "outputs": [
    {
     "output_type": "stream",
     "name": "stdout",
     "text": [
      "5 4 3 2 1 "
     ]
    }
   ],
   "metadata": {}
  },
  {
   "cell_type": "markdown",
   "source": [
    "### 즉석 실습 3"
   ],
   "metadata": {}
  },
  {
   "cell_type": "code",
   "execution_count": 22,
   "source": [
    "for column in range(0, 11):\r\n",
    "  for row in range(0, 11):\r\n",
    "    print((column + row) % 10, end = ' ')\r\n",
    "  print()\r\n"
   ],
   "outputs": [
    {
     "output_type": "stream",
     "name": "stdout",
     "text": [
      "0 1 2 3 4 5 6 7 8 9 0 \n",
      "1 2 3 4 5 6 7 8 9 0 1 \n",
      "2 3 4 5 6 7 8 9 0 1 2 \n",
      "3 4 5 6 7 8 9 0 1 2 3 \n",
      "4 5 6 7 8 9 0 1 2 3 4 \n",
      "5 6 7 8 9 0 1 2 3 4 5 \n",
      "6 7 8 9 0 1 2 3 4 5 6 \n",
      "7 8 9 0 1 2 3 4 5 6 7 \n",
      "8 9 0 1 2 3 4 5 6 7 8 \n",
      "9 0 1 2 3 4 5 6 7 8 9 \n",
      "0 1 2 3 4 5 6 7 8 9 0 \n"
     ]
    }
   ],
   "metadata": {}
  },
  {
   "cell_type": "markdown",
   "source": [
    "## 문제 만들기\r\n",
    "어떤 전화번호를 string의 형식('abc' 같은)으로 받았을 때, 그 전화번호가 실제로 타당한 전화번호인지 검증하시오.\r\n",
    "\r\n",
    "검증 조건:\r\n",
    "- 가능한 형식에는 `010-1234-5678`(휴대전화), `053-123-4567`(지역 코드 + 번호), `123-4567`(지역 코드가 생략된 번호)이 있다. 여기서 `010`(휴대 전화), `053`(지역 코드) 부분은 반드시 일치하는지 확인해야 한다.  \r\n",
    "  특히 가능한 지역 코드에는 두 자리(`02`), 세 자리(`'031', '032', '033', '041', '042', '043', '044', '051', '052', '053', '054', '055', '061', '062', '063', '064'`) 가 있다.\r\n",
    "- 받은 텍스트에는 `-`가 포함될 수도, 포함되지 않을 수도 있다. 즉, `01012345678` 처럼 될 수도 있다."
   ],
   "metadata": {}
  },
  {
   "cell_type": "markdown",
   "source": [
    "### 예시 정답"
   ],
   "metadata": {}
  },
  {
   "cell_type": "code",
   "execution_count": 2,
   "source": [
    "localeCodes = ['02', '031', '032', '033', '041', '042', '043', '044', '051', '052', '053', '054', '055', '061', '062', '063', '064']\r\n",
    "num = input('전화번호를 입력해주세요: ')\r\n",
    "\r\n",
    "# 1. 편의를 위해 일관적으로 -를 텍스트에서 제거\r\n",
    "num2 = ''\r\n",
    "for c in num:\r\n",
    "  if not c == '-': num2 += c\r\n",
    "\r\n",
    "# 2. 글자 길이에 따라 분류\r\n",
    "l = len(num2)\r\n",
    "if l == 11: # 휴대전화\r\n",
    "  if num2[0:3] == '010':\r\n",
    "    print('알맞은 휴대전화 번호입니다.')\r\n",
    "  else:\r\n",
    "    print('잘못된 휴대전화 번호입니다. 휴대전화 번호는 010으로 시작해야 합니다.')\r\n",
    "\r\n",
    "  \r\n",
    "elif l == 10 or l == 9: # 지역 코드(3자리/2자리) + 번호\r\n",
    "\r\n",
    "  # 지역코드 추출\r\n",
    "  if l == 10: # 지역 코드(3자리) + 번호\r\n",
    "    code = num2[0:3]\r\n",
    "  else: # 지역 코드(2자리) + 번호\r\n",
    "    code = num2[0:2]\r\n",
    "\r\n",
    "  # 바른 지역코드인지 확인.\r\n",
    "  # 코드를 더 길게 쓰기 귀찮아서 이렇게 했지, if code == '02' or code == '031', ... 같은 식으로 해도 괜찮습니다.\r\n",
    "  # 사실 지금까지 배운 범위에서는 그게 정석입니다.\r\n",
    "  if code in localeCodes:\r\n",
    "    print(f'알맞은 지역 전화번호(지역코드: {code})입니다.')\r\n",
    "  else:\r\n",
    "    print(f'알 수 없는 지역코드({code})입니다.')\r\n",
    "\r\n",
    "\r\n",
    "elif l == 7: # 지역 코드가 생략된 번호\r\n",
    "  print('알맞은 지역 전화번호입니다.')\r\n",
    "\r\n",
    "\r\n",
    "else: # 바르지 않은 전화번호\r\n",
    "  print('알맞지 않은 전화번호입니다.')\r\n"
   ],
   "outputs": [
    {
     "output_type": "stream",
     "name": "stdout",
     "text": [
      "알맞은 지역 전화번호입니다.\n"
     ]
    }
   ],
   "metadata": {}
  },
  {
   "cell_type": "markdown",
   "source": [
    "### 예시 정답 2\r\n",
    "- 이 버전은 조건이랑 다르게 전화번호를 `010-1234-5678` 같은 `-`가 붙은 형식으로 바꿔서 출력해줍니다.\r\n",
    "- 조금 더 실생활과 가까운 버전입니다."
   ],
   "metadata": {}
  },
  {
   "cell_type": "code",
   "execution_count": 9,
   "source": [
    "localeCodes = ['02', '031', '032', '033', '041', '042', '043', '044', '051', '052', '053', '054', '055', '061', '062', '063', '064']\r\n",
    "num = input('전화번호를 입력해주세요: ')\r\n",
    "\r\n",
    "# 1. 편의를 위해 일관적으로 -를 텍스트에서 제거\r\n",
    "num2 = ''\r\n",
    "for c in num:\r\n",
    "  if not c == '-':\r\n",
    "    num2 += c\r\n",
    "\r\n",
    "# 2. 글자 길이에 따라 분류\r\n",
    "l = len(num2)\r\n",
    "if l == 11:  # 휴대전화\r\n",
    "  if num2[0:3] == '010':\r\n",
    "    print(f'휴대전화 번호: {num2[0:3]}-{num2[3:7]}-{num2[7:11]}')\r\n",
    "  else:\r\n",
    "    print('잘못된 휴대전화 번호입니다. 휴대전화 번호는 010으로 시작해야 합니다.')\r\n",
    "\r\n",
    "\r\n",
    "elif l == 7:  # 지역 코드가 생략된 번호\r\n",
    "  print(f'지역 전화번호: {num2[0:3]}-{num2[3:7]}')\r\n",
    "\r\n",
    "\r\n",
    "elif num2[0:3] == '010': # 실수로 전화번호를 입력하다 덜 입력했을 수도 있음\r\n",
    "  print('휴대전화 번호를 덜 입력하셨습니다. 휴대전화 번호는 010-XXXX-XXXX의 형식으로 입력해야 합니다.')\r\n",
    "\r\n",
    "\r\n",
    "elif l == 10 or l == 9:  # 지역 코드(3자리/2자리) + 번호\r\n",
    "\r\n",
    "\r\n",
    "  # 지역코드 추출\r\n",
    "  if l == 10:  # 지역 코드(3자리) + 번호\r\n",
    "    code = num2[0:3]\r\n",
    "    content = num2[3:10]\r\n",
    "  else:  # 지역 코드(2자리) + 번호\r\n",
    "    code = num2[0:2]\r\n",
    "    content = num2[3:9]\r\n",
    "\r\n",
    "  # 바른 지역코드인지 확인.\r\n",
    "  # 코드를 더 길게 쓰기 귀찮아서 이렇게 했지, if code == '02' or code == '031', ... 같은 식으로 해도 괜찮습니다.\r\n",
    "  # 사실 지금까지 배운 범위에서는 그게 정석입니다.\r\n",
    "  if code in localeCodes:\r\n",
    "    print(f'지역 전화번호: ({code}) {content[0:3]}-{content[3:7]}')\r\n",
    "  else:\r\n",
    "    print(f'알 수 없는 지역코드({code})입니다.')\r\n",
    "\r\n",
    "\r\n",
    "else:  # 바르지 않은 전화번호\r\n",
    "  print('알맞지 않은 전화번호입니다.')\r\n"
   ],
   "outputs": [
    {
     "output_type": "stream",
     "name": "stdout",
     "text": [
      "잘못된 휴대전화 번호입니다. 휴대전화 번호는 010으로 시작해야 합니다.\n"
     ]
    }
   ],
   "metadata": {}
  }
 ],
 "metadata": {
  "orig_nbformat": 4,
  "language_info": {
   "name": "python",
   "version": "3.8.5",
   "mimetype": "text/x-python",
   "codemirror_mode": {
    "name": "ipython",
    "version": 3
   },
   "pygments_lexer": "ipython3",
   "nbconvert_exporter": "python",
   "file_extension": ".py"
  },
  "kernelspec": {
   "name": "python3",
   "display_name": "Python 3.8.5 32-bit ('.env': venv)"
  },
  "interpreter": {
   "hash": "ab3989ebfc5c9b8a15c91069f190fe2b31043491272e6a265c6f06426159f4f3"
  }
 },
 "nbformat": 4,
 "nbformat_minor": 2
}