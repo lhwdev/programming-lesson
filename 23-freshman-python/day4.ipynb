{
 "cells": [
  {
   "attachments": {},
   "cell_type": "markdown",
   "metadata": {},
   "source": [
    "# 4일차"
   ]
  },
  {
   "attachments": {},
   "cell_type": "markdown",
   "metadata": {},
   "source": [
    "### 예제 1: 원의 둘레와 넓이 출력"
   ]
  },
  {
   "cell_type": "code",
   "execution_count": 5,
   "metadata": {},
   "outputs": [
    {
     "name": "stdout",
     "output_type": "stream",
     "text": [
      "원의 둘레: 125.60\n",
      "원의 넓이: 1256.00\n"
     ]
    }
   ],
   "source": [
    "PI = 3.14\n",
    "\n",
    "radius = int(input(\"반지름을 입력하시오: \"))\n",
    "print(f\"원의 둘레: {'{:.2f}'.format(2 * PI * radius)}\")\n",
    "print(f\"원의 넓이: {'{:.2f}'.format(PI * radius * radius)}\")"
   ]
  },
  {
   "attachments": {},
   "cell_type": "markdown",
   "metadata": {},
   "source": [
    "### 함수의 정의와 호출_2"
   ]
  },
  {
   "cell_type": "code",
   "execution_count": null,
   "metadata": {},
   "outputs": [],
   "source": [
    "def f(x):\n",
    "  return x*x + x + 1"
   ]
  },
  {
   "attachments": {},
   "cell_type": "markdown",
   "metadata": {},
   "source": [
    "### 문제 1: 정수를 역순으로 출력"
   ]
  },
  {
   "cell_type": "code",
   "execution_count": 9,
   "metadata": {},
   "outputs": [
    {
     "name": "stdout",
     "output_type": "stream",
     "text": [
      "421\n",
      "43211"
     ]
    }
   ],
   "source": [
    "def print_reverse(number):\n",
    "  print(''.join(reversed(str(number))), end = '')\n",
    "\n",
    "print_reverse(124)\n",
    "print(\"\")\n",
    "print_reverse(11234)"
   ]
  },
  {
   "attachments": {},
   "cell_type": "markdown",
   "metadata": {},
   "source": [
    "### 문제 2: 슬롯머신 게임"
   ]
  },
  {
   "cell_type": "code",
   "execution_count": 1,
   "metadata": {},
   "outputs": [
    {
     "name": "stdout",
     "output_type": "stream",
     "text": [
      "뽑힌 숫자 3 5 2\n",
      "얻은 점수: 0\n",
      "뽑힌 숫자 5 5 3\n",
      "얻은 점수: 1\n",
      "뽑힌 숫자 2 7 2\n",
      "얻은 점수: 0\n",
      "뽑힌 숫자 4 1 8\n",
      "얻은 점수: 0\n",
      "뽑힌 숫자 5 4 5\n",
      "얻은 점수: 0\n",
      "뽑힌 숫자 8 6 5\n",
      "얻은 점수: 0\n",
      "뽑힌 숫자 8 9 2\n",
      "얻은 점수: 0\n",
      "뽑힌 숫자 8 1 7\n",
      "얻은 점수: 0\n",
      "뽑힌 숫자 4 8 1\n",
      "얻은 점수: 0\n",
      "뽑힌 숫자 3 3 4\n",
      "얻은 점수: 1\n",
      "뽑힌 숫자 8 1 1\n",
      "얻은 점수: 1\n",
      "뽑힌 숫자 7 7 8\n",
      "얻은 점수: 1\n",
      "뽑힌 숫자 2 3 5\n",
      "얻은 점수: 0\n",
      "총점: 4, 잭팟 횟수: 0\n"
     ]
    }
   ],
   "source": [
    "import random\n",
    "\n",
    "def generate_one_number():\n",
    "  return random.randint(0, 9)\n",
    "\n",
    "def generate_numbers():\n",
    "  return generate_one_number(), generate_one_number(), generate_one_number()\n",
    "\n",
    "total = 0\n",
    "jackpot = 0\n",
    "\n",
    "def check_numbers(numbers):\n",
    "  global total, jackpot\n",
    "  a, b, c = numbers\n",
    "\n",
    "  if a == b == c:\n",
    "    score = 2\n",
    "    jackpot += 1\n",
    "  elif a != b and b != c and a != b:\n",
    "    score = 0\n",
    "  else:\n",
    "    score = 1\n",
    "  \n",
    "  total += score\n",
    "  return score\n",
    "\n",
    "while(True):\n",
    "  numbers = generate_numbers()\n",
    "  score = check_numbers(numbers)\n",
    "  print(f\"뽑힌 숫자 {numbers[0]} {numbers[1]} {numbers[2]}\")\n",
    "  print(f\"얻은 점수: {score}\")\n",
    "  if(input(\"그만하시겠습니까? \") == 'y'): break\n",
    "print(f\"총점: {total}, 잭팟 횟수: {jackpot}\")"
   ]
  }
 ],
 "metadata": {
  "kernelspec": {
   "display_name": ".env",
   "language": "python",
   "name": "python3"
  },
  "language_info": {
   "codemirror_mode": {
    "name": "ipython",
    "version": 3
   },
   "file_extension": ".py",
   "mimetype": "text/x-python",
   "name": "python",
   "nbconvert_exporter": "python",
   "pygments_lexer": "ipython3",
   "version": "3.11.2"
  },
  "orig_nbformat": 4,
  "vscode": {
   "interpreter": {
    "hash": "dfa9bb193be465cff431c15929154af54568dc79a9c2c79042149b79363c223d"
   }
  }
 },
 "nbformat": 4,
 "nbformat_minor": 2
}
