{
  "nbformat": 4,
  "nbformat_minor": 0,
  "metadata": {
    "colab": {
      "name": "5/15(토) 실습 과제(이현우).ipynb",
      "provenance": [],
      "collapsed_sections": [],
      "authorship_tag": "ABX9TyMXfNCR+0yVBVdXW40cYBtA"
    },
    "kernelspec": {
      "name": "python3",
      "display_name": "Python 3"
    },
    "language_info": {
      "name": "python"
    }
  },
  "cells": [
    {
      "cell_type": "markdown",
      "metadata": {
        "id": "LK9FCWC1U2Q0"
      },
      "source": [
        "## 5/15 실습 과제"
      ]
    },
    {
      "cell_type": "markdown",
      "metadata": {
        "id": "wsnf6c_pXkQk"
      },
      "source": [
        "## 딕셔너리"
      ]
    },
    {
      "cell_type": "code",
      "metadata": {
        "colab": {
          "base_uri": "https://localhost:8080/"
        },
        "id": "KV5WIaVhXlv3",
        "outputId": "79b42f65-7ce8-49ca-b2a7-46ccc6377425"
      },
      "source": [
        "ascii = {65: 'A', 66: 'B', 67: 'C'}\n",
        "ascii"
      ],
      "execution_count": null,
      "outputs": [
        {
          "output_type": "execute_result",
          "data": {
            "text/plain": [
              "{65: 'A', 66: 'B', 67: 'C'}"
            ]
          },
          "metadata": {
            "tags": []
          },
          "execution_count": 23
        }
      ]
    },
    {
      "cell_type": "code",
      "metadata": {
        "colab": {
          "base_uri": "https://localhost:8080/"
        },
        "id": "TM7a1vdyXrzz",
        "outputId": "ebaf3bcd-8531-4e25-df7c-4578b0fde1f8"
      },
      "source": [
        "person = {\n",
        "  'name': 'Jungu',\n",
        "  'age': 50,\n",
        "  'gender': 'M'\n",
        "}\n",
        "person"
      ],
      "execution_count": null,
      "outputs": [
        {
          "output_type": "execute_result",
          "data": {
            "text/plain": [
              "{'age': 50, 'gender': 'M', 'name': 'Jungu'}"
            ]
          },
          "metadata": {
            "tags": []
          },
          "execution_count": 29
        }
      ]
    },
    {
      "cell_type": "code",
      "metadata": {
        "colab": {
          "base_uri": "https://localhost:8080/"
        },
        "id": "-TSomm3uXz9c",
        "outputId": "f65e4682-51f7-41cd-b089-b9006111df4c"
      },
      "source": [
        "{} # empty dictionary\n",
        "dict()"
      ],
      "execution_count": null,
      "outputs": [
        {
          "output_type": "execute_result",
          "data": {
            "text/plain": [
              "{}"
            ]
          },
          "metadata": {
            "tags": []
          },
          "execution_count": 27
        }
      ]
    },
    {
      "cell_type": "code",
      "metadata": {
        "colab": {
          "base_uri": "https://localhost:8080/"
        },
        "id": "QywOOCpbX4Rz",
        "outputId": "090f6b43-f4c1-43d0-a4ec-28cc9eb7eeec"
      },
      "source": [
        "len(ascii)"
      ],
      "execution_count": null,
      "outputs": [
        {
          "output_type": "execute_result",
          "data": {
            "text/plain": [
              "3"
            ]
          },
          "metadata": {
            "tags": []
          },
          "execution_count": 28
        }
      ]
    },
    {
      "cell_type": "code",
      "metadata": {
        "colab": {
          "base_uri": "https://localhost:8080/"
        },
        "id": "2S4zk3BqX_Un",
        "outputId": "ab0ae707-bf21-4090-aa12-093a1c414162"
      },
      "source": [
        "person['age']"
      ],
      "execution_count": null,
      "outputs": [
        {
          "output_type": "execute_result",
          "data": {
            "text/plain": [
              "50"
            ]
          },
          "metadata": {
            "tags": []
          },
          "execution_count": 30
        }
      ]
    },
    {
      "cell_type": "code",
      "metadata": {
        "colab": {
          "base_uri": "https://localhost:8080/"
        },
        "id": "tHnkT1y7YB0V",
        "outputId": "8e441c2e-f062-43a3-ed06-26ce9eb3aaf3"
      },
      "source": [
        "person['job'] = 'Teacher'\n",
        "person"
      ],
      "execution_count": null,
      "outputs": [
        {
          "output_type": "execute_result",
          "data": {
            "text/plain": [
              "{'age': 50, 'gender': 'M', 'job': 'Teacher', 'name': 'Jungu'}"
            ]
          },
          "metadata": {
            "tags": []
          },
          "execution_count": 31
        }
      ]
    },
    {
      "cell_type": "code",
      "metadata": {
        "colab": {
          "base_uri": "https://localhost:8080/"
        },
        "id": "anuSvWVPYFHi",
        "outputId": "be84df86-d2a2-4730-bb91-d66a2bcc7b4c"
      },
      "source": [
        "del person['job']\n",
        "person"
      ],
      "execution_count": null,
      "outputs": [
        {
          "output_type": "execute_result",
          "data": {
            "text/plain": [
              "{'age': 50, 'gender': 'M', 'name': 'Jungu'}"
            ]
          },
          "metadata": {
            "tags": []
          },
          "execution_count": 32
        }
      ]
    },
    {
      "cell_type": "code",
      "metadata": {
        "colab": {
          "base_uri": "https://localhost:8080/"
        },
        "id": "I4HVU_wAYIdH",
        "outputId": "602f79a3-2aa5-4d90-ad69-7ea9df3628c9"
      },
      "source": [
        "person.clear()\n",
        "person"
      ],
      "execution_count": null,
      "outputs": [
        {
          "output_type": "execute_result",
          "data": {
            "text/plain": [
              "{}"
            ]
          },
          "metadata": {
            "tags": []
          },
          "execution_count": 33
        }
      ]
    },
    {
      "cell_type": "code",
      "metadata": {
        "colab": {
          "base_uri": "https://localhost:8080/"
        },
        "id": "Odd_lgUSYLRr",
        "outputId": "fa5cdffc-bca3-40ad-9767-806892dda145"
      },
      "source": [
        "person = {\n",
        "    'name':'Jungu',\n",
        "    'age':50,\n",
        "    'gender':'M'\n",
        "}\n",
        "person2 = person.copy()\n",
        "person.clear()\n",
        "print(person)\n",
        "print(person2)"
      ],
      "execution_count": null,
      "outputs": [
        {
          "output_type": "stream",
          "text": [
            "{}\n",
            "{'name': 'Jungu', 'age': 50, 'gender': 'M'}\n"
          ],
          "name": "stdout"
        }
      ]
    },
    {
      "cell_type": "code",
      "metadata": {
        "colab": {
          "base_uri": "https://localhost:8080/"
        },
        "id": "kCx05kf6YNL2",
        "outputId": "ccedc088-1131-4c0d-ff16-0c75bddbb222"
      },
      "source": [
        "'job' in person2"
      ],
      "execution_count": null,
      "outputs": [
        {
          "output_type": "execute_result",
          "data": {
            "text/plain": [
              "False"
            ]
          },
          "metadata": {
            "tags": []
          },
          "execution_count": 35
        }
      ]
    },
    {
      "cell_type": "code",
      "metadata": {
        "colab": {
          "base_uri": "https://localhost:8080/"
        },
        "id": "4Std1v5XYPWA",
        "outputId": "49a23fad-b792-409b-dd40-f586d47f588a"
      },
      "source": [
        "'name' in person2"
      ],
      "execution_count": null,
      "outputs": [
        {
          "output_type": "execute_result",
          "data": {
            "text/plain": [
              "True"
            ]
          },
          "metadata": {
            "tags": []
          },
          "execution_count": 36
        }
      ]
    },
    {
      "cell_type": "code",
      "metadata": {
        "colab": {
          "base_uri": "https://localhost:8080/"
        },
        "id": "dzSLf5RqYQxe",
        "outputId": "e6f2f13c-d1b7-4e31-da9d-df5157f0bcbe"
      },
      "source": [
        "person2.keys()"
      ],
      "execution_count": null,
      "outputs": [
        {
          "output_type": "execute_result",
          "data": {
            "text/plain": [
              "dict_keys(['name', 'age', 'gender'])"
            ]
          },
          "metadata": {
            "tags": []
          },
          "execution_count": 37
        }
      ]
    },
    {
      "cell_type": "code",
      "metadata": {
        "colab": {
          "base_uri": "https://localhost:8080/"
        },
        "id": "g6XoxKElYScA",
        "outputId": "bafb3c1d-29f8-4916-de43-44d16c4b5447"
      },
      "source": [
        "person2.values()"
      ],
      "execution_count": null,
      "outputs": [
        {
          "output_type": "execute_result",
          "data": {
            "text/plain": [
              "dict_values(['Jungu', 50, 'M'])"
            ]
          },
          "metadata": {
            "tags": []
          },
          "execution_count": 38
        }
      ]
    },
    {
      "cell_type": "code",
      "metadata": {
        "colab": {
          "base_uri": "https://localhost:8080/"
        },
        "id": "qVgiWLK4YTwd",
        "outputId": "b19e865f-a5a8-4ec7-9f94-f15def0d370d"
      },
      "source": [
        "person2.pop('age')\n",
        "person2"
      ],
      "execution_count": null,
      "outputs": [
        {
          "output_type": "execute_result",
          "data": {
            "text/plain": [
              "{'gender': 'M', 'name': 'Jungu'}"
            ]
          },
          "metadata": {
            "tags": []
          },
          "execution_count": 39
        }
      ]
    },
    {
      "cell_type": "code",
      "metadata": {
        "colab": {
          "base_uri": "https://localhost:8080/"
        },
        "id": "lxwADFPeYfa1",
        "outputId": "bccd1b32-b609-4f44-c031-670037dc17d8"
      },
      "source": [
        "person['age'] = 50\n",
        "person['job'] = 'Teacher'\n",
        "print(person)\n",
        "print(person2)"
      ],
      "execution_count": null,
      "outputs": [
        {
          "output_type": "stream",
          "text": [
            "{'age': 50, 'job': 'Teacher'}\n",
            "{'name': 'Jungu', 'gender': 'M'}\n"
          ],
          "name": "stdout"
        }
      ]
    },
    {
      "cell_type": "code",
      "metadata": {
        "colab": {
          "base_uri": "https://localhost:8080/"
        },
        "id": "2DVlYJvrYkra",
        "outputId": "e6a4acbd-b18b-4028-adf5-57664c9d9625"
      },
      "source": [
        "person.update(person2)\n",
        "person"
      ],
      "execution_count": null,
      "outputs": [
        {
          "output_type": "execute_result",
          "data": {
            "text/plain": [
              "{'age': 50, 'gender': 'M', 'job': 'Teacher', 'name': 'Jungu'}"
            ]
          },
          "metadata": {
            "tags": []
          },
          "execution_count": 41
        }
      ]
    },
    {
      "cell_type": "markdown",
      "metadata": {
        "id": "96DxOGFVZNgm"
      },
      "source": [
        "## 집합\n",
        "- 고유한 항목들의 순서 없는 모임\n",
        "- 인덱싱, 슬라이싱을 지원하지 않으며 중복을 허용하지 않음\n"
      ]
    },
    {
      "cell_type": "code",
      "metadata": {
        "id": "KOqV9Z1NZRHW"
      },
      "source": [
        "s = set([1,3,5,7])\n",
        "t = set([2,3,4,7])"
      ],
      "execution_count": null,
      "outputs": []
    },
    {
      "cell_type": "code",
      "metadata": {
        "colab": {
          "base_uri": "https://localhost:8080/"
        },
        "id": "LyaUt2lWdbtk",
        "outputId": "2aef9874-4249-43d2-855b-9ce543056b13"
      },
      "source": [
        "print(s | t) # s.union(t)\n",
        "print(s & t) # s.intersection(t)\n",
        "print(s - t) # s.difference(t)\n",
        "print(s ^ t) # s.symmetric_difference(t)"
      ],
      "execution_count": null,
      "outputs": [
        {
          "output_type": "stream",
          "text": [
            "{1, 2, 3, 4, 5, 7}\n",
            "{3, 7}\n",
            "{1, 5}\n",
            "{1, 2, 4, 5}\n"
          ],
          "name": "stdout"
        }
      ]
    },
    {
      "cell_type": "code",
      "metadata": {
        "colab": {
          "base_uri": "https://localhost:8080/"
        },
        "id": "4bclG06Ie4nx",
        "outputId": "f1423403-40c6-4b1f-d0a3-dff4e6050c18"
      },
      "source": [
        "print(len(s))\n",
        "print(max(s))\n",
        "print(min(s))"
      ],
      "execution_count": null,
      "outputs": [
        {
          "output_type": "stream",
          "text": [
            "4\n",
            "7\n",
            "1\n"
          ],
          "name": "stdout"
        }
      ]
    },
    {
      "cell_type": "code",
      "metadata": {
        "colab": {
          "base_uri": "https://localhost:8080/"
        },
        "id": "D4CFxaotfENH",
        "outputId": "0dec45d0-9453-4d35-97bc-2c55e21d04c0"
      },
      "source": [
        "s1 = s.copy()\n",
        "print(s, s1)"
      ],
      "execution_count": null,
      "outputs": [
        {
          "output_type": "stream",
          "text": [
            "{1, 3, 5, 7} {1, 3, 5, 7}\n"
          ],
          "name": "stdout"
        }
      ]
    },
    {
      "cell_type": "code",
      "metadata": {
        "colab": {
          "base_uri": "https://localhost:8080/"
        },
        "id": "-f5GEr0xfGht",
        "outputId": "7064450a-2b10-4599-eca8-703918888463"
      },
      "source": [
        "s.issubset(t)"
      ],
      "execution_count": null,
      "outputs": [
        {
          "output_type": "execute_result",
          "data": {
            "text/plain": [
              "False"
            ]
          },
          "metadata": {
            "tags": []
          },
          "execution_count": 47
        }
      ]
    },
    {
      "cell_type": "code",
      "metadata": {
        "colab": {
          "base_uri": "https://localhost:8080/"
        },
        "id": "S3H7gO0YfIFN",
        "outputId": "5a3cbb22-4c4b-4096-bf11-c754583ba0d7"
      },
      "source": [
        "s.issuperset(t)"
      ],
      "execution_count": null,
      "outputs": [
        {
          "output_type": "execute_result",
          "data": {
            "text/plain": [
              "False"
            ]
          },
          "metadata": {
            "tags": []
          },
          "execution_count": 48
        }
      ]
    },
    {
      "cell_type": "code",
      "metadata": {
        "id": "lJ0uGMH7fJsk"
      },
      "source": [
        "s = {1,3,5,7}\n",
        "t = {3,5}\n",
        "s.add(9)\n",
        "t.add(2)"
      ],
      "execution_count": null,
      "outputs": []
    },
    {
      "cell_type": "code",
      "metadata": {
        "colab": {
          "base_uri": "https://localhost:8080/"
        },
        "id": "7gAjOcFNfL1T",
        "outputId": "4a90b780-831a-4195-f91f-9bdfebec7484"
      },
      "source": [
        "print(s, t)"
      ],
      "execution_count": null,
      "outputs": [
        {
          "output_type": "stream",
          "text": [
            "{1, 3, 5, 7, 9} {2, 3, 5}\n"
          ],
          "name": "stdout"
        }
      ]
    },
    {
      "cell_type": "code",
      "metadata": {
        "colab": {
          "base_uri": "https://localhost:8080/"
        },
        "id": "IgfLNqeSfMaA",
        "outputId": "adc22ce1-6e46-4fba-89aa-b7d1f4836c02"
      },
      "source": [
        "s.discard(5) # 제거하려는 항목이 없으면 무시\n",
        "print(s)"
      ],
      "execution_count": null,
      "outputs": [
        {
          "output_type": "stream",
          "text": [
            "{1, 3, 7, 9}\n"
          ],
          "name": "stdout"
        }
      ]
    },
    {
      "cell_type": "code",
      "metadata": {
        "colab": {
          "base_uri": "https://localhost:8080/",
          "height": 164
        },
        "id": "a-5rnF6pfRML",
        "outputId": "a0ecad99-eea1-4cd1-a4b6-9cba1f7a46ed"
      },
      "source": [
        "s.remove(5) # 없으면 에러"
      ],
      "execution_count": null,
      "outputs": [
        {
          "output_type": "error",
          "ename": "KeyError",
          "evalue": "ignored",
          "traceback": [
            "\u001b[0;31m---------------------------------------------------------------------------\u001b[0m",
            "\u001b[0;31mKeyError\u001b[0m                                  Traceback (most recent call last)",
            "\u001b[0;32m<ipython-input-52-a7e92098f9ba>\u001b[0m in \u001b[0;36m<module>\u001b[0;34m()\u001b[0m\n\u001b[0;32m----> 1\u001b[0;31m \u001b[0ms\u001b[0m\u001b[0;34m.\u001b[0m\u001b[0mremove\u001b[0m\u001b[0;34m(\u001b[0m\u001b[0;36m5\u001b[0m\u001b[0;34m)\u001b[0m \u001b[0;31m# 없으면 에러\u001b[0m\u001b[0;34m\u001b[0m\u001b[0;34m\u001b[0m\u001b[0m\n\u001b[0m",
            "\u001b[0;31mKeyError\u001b[0m: 5"
          ]
        }
      ]
    },
    {
      "cell_type": "code",
      "metadata": {
        "colab": {
          "base_uri": "https://localhost:8080/"
        },
        "id": "_aT-KnRpfTRU",
        "outputId": "a22a6c24-96ff-454c-d05d-e92b26c4214b"
      },
      "source": [
        "s.clear()\n",
        "print(s)"
      ],
      "execution_count": null,
      "outputs": [
        {
          "output_type": "stream",
          "text": [
            "set()\n"
          ],
          "name": "stdout"
        }
      ]
    },
    {
      "cell_type": "code",
      "metadata": {
        "colab": {
          "base_uri": "https://localhost:8080/"
        },
        "id": "xfgsQQ7mfVF5",
        "outputId": "1f10f4dc-22dd-449b-e2cc-1e9e15eabad0"
      },
      "source": [
        "s.update(t)\n",
        "print(s)"
      ],
      "execution_count": null,
      "outputs": [
        {
          "output_type": "stream",
          "text": [
            "{2, 3, 5}\n"
          ],
          "name": "stdout"
        }
      ]
    },
    {
      "cell_type": "code",
      "metadata": {
        "colab": {
          "base_uri": "https://localhost:8080/"
        },
        "id": "mMvcaddLfWxI",
        "outputId": "4c2e95e8-dd54-42f7-9708-5215aed88708"
      },
      "source": [
        "s = {1,3,5,7}\n",
        "t = {2,3,5,7,9}\n",
        "s.difference_update(t) # s = s - t\n",
        "print(s)"
      ],
      "execution_count": null,
      "outputs": [
        {
          "output_type": "stream",
          "text": [
            "{1}\n"
          ],
          "name": "stdout"
        }
      ]
    },
    {
      "cell_type": "markdown",
      "metadata": {
        "id": "4eVsuAmifayz"
      },
      "source": [
        "### 얕은 복사와 깊은 복사"
      ]
    },
    {
      "cell_type": "code",
      "metadata": {
        "colab": {
          "base_uri": "https://localhost:8080/"
        },
        "id": "305uA1g2fZ9P",
        "outputId": "a5826baa-c634-4d53-ba1b-bfbb94d0c4f7"
      },
      "source": [
        "# 참조\n",
        "a = [1,2,[3,4]]\n",
        "b = a\n",
        "b[2][0] = 5\n",
        "\n",
        "print(a,b)"
      ],
      "execution_count": null,
      "outputs": [
        {
          "output_type": "stream",
          "text": [
            "[1, 2, [5, 4]] [1, 2, [5, 4]]\n"
          ],
          "name": "stdout"
        }
      ]
    },
    {
      "cell_type": "code",
      "metadata": {
        "colab": {
          "base_uri": "https://localhost:8080/"
        },
        "id": "6THQ40XCfkC6",
        "outputId": "32ef8c9e-798c-4e39-f12d-3b4a49ce83c7"
      },
      "source": [
        "a is b"
      ],
      "execution_count": null,
      "outputs": [
        {
          "output_type": "execute_result",
          "data": {
            "text/plain": [
              "True"
            ]
          },
          "metadata": {
            "tags": []
          },
          "execution_count": 57
        }
      ]
    },
    {
      "cell_type": "code",
      "metadata": {
        "colab": {
          "base_uri": "https://localhost:8080/"
        },
        "id": "SDSDpjkNflAN",
        "outputId": "99a5f594-93b5-4169-86df-71832987fb18"
      },
      "source": [
        "# 얕은 복사\n",
        "import copy\n",
        "\n",
        "a = [1,2,[3,4]]\n",
        "b = copy.copy(a)\n",
        "b[2][0] = 5\n",
        "\n",
        "print(a, b)\n",
        "print(a is b)\n",
        "print(a == b)"
      ],
      "execution_count": null,
      "outputs": [
        {
          "output_type": "stream",
          "text": [
            "[1, 2, [5, 4]] [1, 2, [5, 4]]\n",
            "False\n",
            "True\n"
          ],
          "name": "stdout"
        }
      ]
    },
    {
      "cell_type": "code",
      "metadata": {
        "colab": {
          "base_uri": "https://localhost:8080/"
        },
        "id": "B2gF2alWh2pY",
        "outputId": "1a1a774b-c44b-49c1-a337-8d5fd185fbc4"
      },
      "source": [
        "import copy\n",
        "\n",
        "a = [1,2,[3,4]]\n",
        "b = copy.deepcopy(a)\n",
        "b[2][0] = 5\n",
        "\n",
        "print(a, b)\n",
        "print(a is b)\n",
        "print(a == b)"
      ],
      "execution_count": null,
      "outputs": [
        {
          "output_type": "stream",
          "text": [
            "[1, 2, [3, 4]] [1, 2, [5, 4]]\n",
            "False\n",
            "False\n"
          ],
          "name": "stdout"
        }
      ]
    },
    {
      "cell_type": "markdown",
      "metadata": {
        "id": "tfhcjoCjhVhm"
      },
      "source": [
        "`a is b`는 a와 b가 같은 객체임을 함의한다.\n",
        "즉, a와 b가 ~~메모리 상에서 같은 주소에 (사실 '같은 주소' 같은 개념은 C 같은 언어에서만 다룰 수 있겠지만.. 그런 느낌으로) 위치해 있다는 것이고,~~ a를 변형하면 b도 같이 바뀐다."
      ]
    },
    {
      "cell_type": "markdown",
      "metadata": {
        "id": "8BJJilsQU7Di"
      },
      "source": [
        "# 내장함수"
      ]
    },
    {
      "cell_type": "code",
      "metadata": {
        "colab": {
          "base_uri": "https://localhost:8080/"
        },
        "id": "2pA7EHhpUPIk",
        "outputId": "d8004184-e452-41c4-d506-87ca131e6c97"
      },
      "source": [
        "# 형 변환\n",
        "int('101', base=2)"
      ],
      "execution_count": null,
      "outputs": [
        {
          "output_type": "execute_result",
          "data": {
            "text/plain": [
              "5"
            ]
          },
          "metadata": {
            "tags": []
          },
          "execution_count": 1
        }
      ]
    },
    {
      "cell_type": "code",
      "metadata": {
        "colab": {
          "base_uri": "https://localhost:8080/"
        },
        "id": "ocXqvNOzVA-p",
        "outputId": "643a04f9-dc46-48e2-9a54-7d2f9c33a3ab"
      },
      "source": [
        "float('101')"
      ],
      "execution_count": null,
      "outputs": [
        {
          "output_type": "execute_result",
          "data": {
            "text/plain": [
              "101.0"
            ]
          },
          "metadata": {
            "tags": []
          },
          "execution_count": 2
        }
      ]
    },
    {
      "cell_type": "code",
      "metadata": {
        "colab": {
          "base_uri": "https://localhost:8080/"
        },
        "id": "zKxbeyuSVEru",
        "outputId": "f7b0aa63-2500-491f-fa55-c2f3a974a602"
      },
      "source": [
        "complex('1+2j')"
      ],
      "execution_count": null,
      "outputs": [
        {
          "output_type": "execute_result",
          "data": {
            "text/plain": [
              "(1+2j)"
            ]
          },
          "metadata": {
            "tags": []
          },
          "execution_count": 3
        }
      ]
    },
    {
      "cell_type": "code",
      "metadata": {
        "colab": {
          "base_uri": "https://localhost:8080/"
        },
        "id": "cEYUqj4HVHsa",
        "outputId": "27a0920e-1040-42ff-b9c4-3d454498c8cc"
      },
      "source": [
        "bool(5)"
      ],
      "execution_count": null,
      "outputs": [
        {
          "output_type": "execute_result",
          "data": {
            "text/plain": [
              "True"
            ]
          },
          "metadata": {
            "tags": []
          },
          "execution_count": 4
        }
      ]
    },
    {
      "cell_type": "code",
      "metadata": {
        "colab": {
          "base_uri": "https://localhost:8080/"
        },
        "id": "um0wp8UIVIi5",
        "outputId": "6bd87ef6-ee64-4ce3-d0d7-cac39e041a1d"
      },
      "source": [
        "a = str(123)\n",
        "print(a)\n",
        "print(type(a))"
      ],
      "execution_count": null,
      "outputs": [
        {
          "output_type": "stream",
          "text": [
            "123\n",
            "<class 'str'>\n"
          ],
          "name": "stdout"
        }
      ]
    },
    {
      "cell_type": "code",
      "metadata": {
        "colab": {
          "base_uri": "https://localhost:8080/"
        },
        "id": "uwEWhhyiVMAm",
        "outputId": "77086dfc-560a-447d-c85e-e3c81bddd5a4"
      },
      "source": [
        "tuple(range(3))"
      ],
      "execution_count": null,
      "outputs": [
        {
          "output_type": "execute_result",
          "data": {
            "text/plain": [
              "(0, 1, 2)"
            ]
          },
          "metadata": {
            "tags": []
          },
          "execution_count": 7
        }
      ]
    },
    {
      "cell_type": "code",
      "metadata": {
        "colab": {
          "base_uri": "https://localhost:8080/"
        },
        "id": "I1xEOGZoVM5A",
        "outputId": "1da6ff3d-09a4-4d28-81c5-9220207afece"
      },
      "source": [
        "list(range(3))"
      ],
      "execution_count": null,
      "outputs": [
        {
          "output_type": "execute_result",
          "data": {
            "text/plain": [
              "[0, 1, 2]"
            ]
          },
          "metadata": {
            "tags": []
          },
          "execution_count": 8
        }
      ]
    },
    {
      "cell_type": "code",
      "metadata": {
        "colab": {
          "base_uri": "https://localhost:8080/"
        },
        "id": "SVAXjpEPVRe4",
        "outputId": "ea86cbd7-14e0-492c-c3df-eacec9b74bec"
      },
      "source": [
        "dict(((1, 'a'), (2, 'b')))"
      ],
      "execution_count": null,
      "outputs": [
        {
          "output_type": "execute_result",
          "data": {
            "text/plain": [
              "{1: 'a', 2: 'b'}"
            ]
          },
          "metadata": {
            "tags": []
          },
          "execution_count": 9
        }
      ]
    },
    {
      "cell_type": "code",
      "metadata": {
        "colab": {
          "base_uri": "https://localhost:8080/"
        },
        "id": "NrI4muF5VWWa",
        "outputId": "e5ded15f-a3cd-441e-af6d-ddb36bb04397"
      },
      "source": [
        "set({1, 2, 3})"
      ],
      "execution_count": null,
      "outputs": [
        {
          "output_type": "execute_result",
          "data": {
            "text/plain": [
              "{1, 2, 3}"
            ]
          },
          "metadata": {
            "tags": []
          },
          "execution_count": 10
        }
      ]
    },
    {
      "cell_type": "code",
      "metadata": {
        "colab": {
          "base_uri": "https://localhost:8080/",
          "height": 35
        },
        "id": "iPr4LfRvVX_r",
        "outputId": "28035c81-663e-4ef2-927a-e33611313e25"
      },
      "source": [
        "chr(65)"
      ],
      "execution_count": null,
      "outputs": [
        {
          "output_type": "execute_result",
          "data": {
            "application/vnd.google.colaboratory.intrinsic+json": {
              "type": "string"
            },
            "text/plain": [
              "'A'"
            ]
          },
          "metadata": {
            "tags": []
          },
          "execution_count": 11
        }
      ]
    },
    {
      "cell_type": "code",
      "metadata": {
        "colab": {
          "base_uri": "https://localhost:8080/"
        },
        "id": "8fr0WxLlVZ7e",
        "outputId": "f1a0646d-a85b-430b-d2cd-f666b5da01c0"
      },
      "source": [
        "ord('A')"
      ],
      "execution_count": null,
      "outputs": [
        {
          "output_type": "execute_result",
          "data": {
            "text/plain": [
              "65"
            ]
          },
          "metadata": {
            "tags": []
          },
          "execution_count": 12
        }
      ]
    },
    {
      "cell_type": "code",
      "metadata": {
        "colab": {
          "base_uri": "https://localhost:8080/",
          "height": 35
        },
        "id": "xEeCzvgzVbrN",
        "outputId": "5afd8913-58c2-4926-d058-423c6a1cb710"
      },
      "source": [
        "f'{bin(255)}, {oct(255)}, {hex(255)}'"
      ],
      "execution_count": null,
      "outputs": [
        {
          "output_type": "execute_result",
          "data": {
            "application/vnd.google.colaboratory.intrinsic+json": {
              "type": "string"
            },
            "text/plain": [
              "'0b11111111, 0o377, 0xff'"
            ]
          },
          "metadata": {
            "tags": []
          },
          "execution_count": 13
        }
      ]
    },
    {
      "cell_type": "code",
      "metadata": {
        "colab": {
          "base_uri": "https://localhost:8080/"
        },
        "id": "1vAMvsqbViY4",
        "outputId": "38f80d42-2437-48c0-fd03-6a6f581a3a1a"
      },
      "source": [
        "x = 5\n",
        "eval('x**2 + 3') # potentially very dangerous; vulnerable to XSS"
      ],
      "execution_count": null,
      "outputs": [
        {
          "output_type": "execute_result",
          "data": {
            "text/plain": [
              "28"
            ]
          },
          "metadata": {
            "tags": []
          },
          "execution_count": 15
        }
      ]
    },
    {
      "cell_type": "code",
      "metadata": {
        "colab": {
          "base_uri": "https://localhost:8080/"
        },
        "id": "cZAXkzl_W3Ey",
        "outputId": "1dd3f182-9ca5-42f9-db4f-6752f0a41912"
      },
      "source": [
        "a, b, c, d, e = 1, 2, 3, 4, 5\n",
        "print(a, b,c, sep='-', end='::')\n",
        "print(d, e)"
      ],
      "execution_count": null,
      "outputs": [
        {
          "output_type": "stream",
          "text": [
            "1-2-3::4 5\n"
          ],
          "name": "stdout"
        }
      ]
    },
    {
      "cell_type": "code",
      "metadata": {
        "colab": {
          "base_uri": "https://localhost:8080/"
        },
        "id": "vpiE8m0oXDWH",
        "outputId": "b5146b17-bad7-41c4-f393-1ca349cd8d32"
      },
      "source": [
        "a = input('Age?')\n",
        "print(a)"
      ],
      "execution_count": null,
      "outputs": [
        {
          "output_type": "stream",
          "text": [
            "Age?18\n",
            "18\n"
          ],
          "name": "stdout"
        }
      ]
    },
    {
      "cell_type": "markdown",
      "metadata": {
        "id": "9W-SD8_LXT8d"
      },
      "source": [
        "## 원탁의 기사 문제\n"
      ]
    },
    {
      "cell_type": "code",
      "metadata": {
        "colab": {
          "base_uri": "https://localhost:8080/"
        },
        "id": "SNHA5KVJlx4s",
        "outputId": "626e16ef-b81b-4d57-c638-f3df29359462"
      },
      "source": [
        "from math import log\n",
        "\n",
        "number = 9\n",
        "position = (number - 2**int(log(number, 2))) * 2 + 1 # 2**int(log(number, 2)): number 이하의 2의 n제곱의 수\n",
        "print(f'{number}명의 기사 중 살아남은 기사는 {position}번째 기사이다.')"
      ],
      "execution_count": null,
      "outputs": [
        {
          "output_type": "stream",
          "text": [
            "9명의 기사 중 살아남은 기사는 3번째 기사이다.\n"
          ],
          "name": "stdout"
        }
      ]
    },
    {
      "cell_type": "code",
      "metadata": {
        "colab": {
          "base_uri": "https://localhost:8080/",
          "height": 35
        },
        "id": "tlAv1lD5ryS4",
        "outputId": "977f131d-2d15-4cb9-fa4a-fe1af5d68381"
      },
      "source": [
        "number = 10\n",
        "b = bin(number)[2:]\n",
        "f'{int(b[1:]+ b[0], 2)}번째 기사!'"
      ],
      "execution_count": null,
      "outputs": [
        {
          "output_type": "execute_result",
          "data": {
            "application/vnd.google.colaboratory.intrinsic+json": {
              "type": "string"
            },
            "text/plain": [
              "'5번째 기사!'"
            ]
          },
          "metadata": {
            "tags": []
          },
          "execution_count": 50
        }
      ]
    },
    {
      "cell_type": "markdown",
      "metadata": {
        "id": "7NSDdCh5uMV9"
      },
      "source": [
        "## 파일 입출력"
      ]
    },
    {
      "cell_type": "code",
      "metadata": {
        "id": "35BbFn3suOiW"
      },
      "source": [
        "# 초기화\n",
        "with open(\"file.txt\", \"w\") as f:\n",
        "    f.write(\"14957870.691\\n6378.135\\n365.25641\")"
      ],
      "execution_count": null,
      "outputs": []
    },
    {
      "cell_type": "markdown",
      "metadata": {
        "id": "i-NQO0w5ulF9"
      },
      "source": [
        "파일 입출력의 기본 원리\n",
        "\n",
        "- 파일 열기(open)\n",
        "- 파일 읽기/쓰기(read/readline/readlines/write/writeline)\n",
        "- 파일 닫기(close)"
      ]
    },
    {
      "cell_type": "code",
      "metadata": {
        "colab": {
          "base_uri": "https://localhost:8080/"
        },
        "id": "NP1xzPENux1F",
        "outputId": "b34f4e44-1435-456f-b1a3-6cbcf9a08859"
      },
      "source": [
        "fin = open('file.txt','r')\n",
        "dist = fin.readline()\n",
        "radius = fin.readline()\n",
        "period = fin.readline()\n",
        "\n",
        "print(dist, radius, period)\n",
        "print(type(dist), type(radius), type(period))\n",
        "fin.close()"
      ],
      "execution_count": null,
      "outputs": [
        {
          "output_type": "stream",
          "text": [
            "14957870.691\n",
            " 6378.135\n",
            " 365.25641\n",
            "<class 'str'> <class 'str'> <class 'str'>\n"
          ],
          "name": "stdout"
        }
      ]
    },
    {
      "cell_type": "code",
      "metadata": {
        "id": "bA708VZTu8U5"
      },
      "source": [
        "with open('output.txt', 'w') as fout:\n",
        "  n = 12345\n",
        "  w = str(n)\n",
        "  fout.write(w)"
      ],
      "execution_count": null,
      "outputs": []
    },
    {
      "cell_type": "code",
      "metadata": {
        "colab": {
          "base_uri": "https://localhost:8080/"
        },
        "id": "Ho7MBDcDvKlb",
        "outputId": "ada9ff0b-7cf1-4ee9-bfea-93eb9ce34991"
      },
      "source": [
        "with open('file.txt','r') as fin:\n",
        "  dist = float(fin.readline())\n",
        "  radius = float(fin.readline())\n",
        "  period = float(fin.readline())\n",
        "\n",
        "  print(dist + radius + period)"
      ],
      "execution_count": null,
      "outputs": [
        {
          "output_type": "stream",
          "text": [
            "14964614.08241\n"
          ],
          "name": "stdout"
        }
      ]
    }
  ]
}