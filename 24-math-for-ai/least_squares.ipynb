{
 "cells": [
  {
   "cell_type": "code",
   "execution_count": 1,
   "metadata": {
    "trusted": true
   },
   "outputs": [],
   "source": [
    "%pip install bqplot"
   ]
  },
  {
   "cell_type": "code",
   "execution_count": 63,
   "metadata": {
    "trusted": true
   },
   "outputs": [
    {
     "data": {
      "text/latex": [
       "$\\displaystyle \n",
       "        \\begin{aligned}\n",
       "        f(x)&=b_{0} + b_{1} x \\\\\n",
       "        E &= \\sum_{i=1}^n e_i = \\left(b_{0} + b_{1} - 1\\right)^{2} + \\left(b_{0} + 2 b_{1} - 2\\right)^{2} \\\\\n",
       "        \\nabla E &= \\mathbf 0 \\iff (b_{0},b_{1}) \\in \\left\\{\\left( 0, \\  1\\right)\\right\\}\n",
       "        \\end{aligned}\n",
       "    $"
      ],
      "text/plain": [
       "<IPython.core.display.Math object>"
      ]
     },
     "metadata": {},
     "output_type": "display_data"
    },
    {
     "data": {
      "text/latex": [
       "$\\displaystyle \\text{solution: \\(f(x)=x\\)}$"
      ],
      "text/plain": [
       "<IPython.core.display.Math object>"
      ]
     },
     "metadata": {},
     "output_type": "display_data"
    },
    {
     "data": {
      "text/plain": [
       "((0, 1), <function _lambdifygenerated(x)>)"
      ]
     },
     "execution_count": 63,
     "metadata": {},
     "output_type": "execute_result"
    }
   ],
   "source": [
    "import math\n",
    "import sympy\n",
    "from sympy import Matrix, Symbol, lambdify, simplify, latex\n",
    "from IPython.display import Math\n",
    "\n",
    "def least_squares(points, n, debug=False):\n",
    "    # 매개변수 초기화\n",
    "    parameters = [Symbol(f\"b_{i}\") for i in range(n)]\n",
    "\n",
    "    # f 함수 설정: b_1 x^0 + b_2 x^1 + b_3 x^2 + ...\n",
    "    x = Symbol(\"x\")\n",
    "    f = lambdify(x, sum([parameters[i] * (x**i) for i in range(n)]))\n",
    "\n",
    "    # 오차 제곱 계산\n",
    "    error_squares = 0\n",
    "    for X, Y in points: # 데이터가 너무 클 때 매번 simplify를 안해주면 심각하게 렉걸릴수도\n",
    "        error_squares = simplify(error_squares + (Y - f(X))**2)\n",
    "\n",
    "    gradient = sympy.derive_by_array(error_squares, parameters)\n",
    "    stationary_points = sympy.linsolve(gradient, parameters)\n",
    "\n",
    "    # Jupyter에 과정을 수식으로 출력\n",
    "    if debug: display(Math(f\"\"\"\n",
    "        \\\\begin{{aligned}}\n",
    "        f(x)&={latex(f(x))} \\\\\\\\\n",
    "        E &= \\\\sum_{{i=1}}^n e_i = {latex(error_squares)} \\\\\\\\\n",
    "        \\\\nabla E &= \\\\mathbf 0 \\\\iff ({\",\".join([latex(p) for p in parameters])}) \\\\in {latex(stationary_points)}\n",
    "        \\\\end{{aligned}}\n",
    "    \"\"\"))\n",
    "\n",
    "    # 임계점 중에서 최솟값을 갖는 곳 찾기\n",
    "    min_value = (None, math.inf)\n",
    "    for point in stationary_points:\n",
    "        value = error_squares.subs({b: point[index] for index, b in enumerate(parameters)})\n",
    "        if value < min_value[1]:\n",
    "            min_value = (point, value)\n",
    "\n",
    "    result = min_value[0]\n",
    "    result_f = f(x).subs({b: result[index] for index, b in enumerate(parameters)})\n",
    "    if debug: display(Math(\"\\\\text{solution: \\\\(f(x)=\" + latex(result_f) + \"\\\\)}\"))\n",
    "    return result, lambdify(x, result_f)\n",
    "\n",
    "least_squares([[1, 1], [2, 2]], 2, debug=True)"
   ]
  },
  {
   "cell_type": "code",
   "execution_count": null,
   "metadata": {
    "trusted": true
   },
   "outputs": [
    {
     "data": {
      "application/vnd.jupyter.widget-view+json": {
       "model_id": "5c2bb0f65719421f9e0ecb1006b1afac",
       "version_major": 2,
       "version_minor": 0
      },
      "text/plain": [
       "VBox(children=(Figure(axes=[Axis(scale=LinearScale(max=1.0, min=0.0)), Axis(orientation='vertical', scale=Line…"
      ]
     },
     "metadata": {},
     "output_type": "display_data"
    }
   ],
   "source": [
    "from random import random\n",
    "import bqplot.pyplot as plt\n",
    "import numpy as np\n",
    "\n",
    "x = np.linspace(0, 1, 50)\n",
    "\n",
    "# 점 렌덤으로 생성\n",
    "points = np.array([[random() for j in range(2)] for i in range(6)])\n",
    "\n",
    "def compute():\n",
    "    global points\n",
    "    _, f = least_squares(points, 4)\n",
    "    return list(map(f, x))\n",
    "\n",
    "plt.figure(title=\"Calculating Least Squares\")\n",
    "\n",
    "# 점들 Scatter 플롯으로 그리기\n",
    "points_plot = plt.scatter(points[:, 0], points[:, 1])\n",
    "\n",
    "# 함수 y=f(x) 그리기\n",
    "fn_plot = plt.plot(x, compute())\n",
    "\n",
    "plt.xlim(0, 1)\n",
    "plt.ylim(0, 1)\n",
    "plt.show()\n",
    "\n",
    "def update(change):\n",
    "    global points\n",
    "    points = np.array([points_plot.x, points_plot.y]).T\n",
    "    fn_plot.y = compute()\n",
    "\n",
    "# Scatter 그래프 점을 드래그할 수 있도록 하는 것\n",
    "points_plot.observe(update, [\"x\", \"y\"])\n",
    "points_plot.enable_move = True"
   ]
  },
  {
   "cell_type": "code",
   "execution_count": null,
   "metadata": {
    "trusted": true
   },
   "outputs": [],
   "source": []
  }
 ],
 "metadata": {
  "kernelspec": {
   "display_name": "Python (Pyodide)",
   "language": "python",
   "name": "python"
  },
  "language_info": {
   "codemirror_mode": {
    "name": "python",
    "version": 3
   },
   "file_extension": ".py",
   "mimetype": "text/x-python",
   "name": "python",
   "nbconvert_exporter": "python",
   "pygments_lexer": "ipython3",
   "version": "3.8"
  }
 },
 "nbformat": 4,
 "nbformat_minor": 4
}
