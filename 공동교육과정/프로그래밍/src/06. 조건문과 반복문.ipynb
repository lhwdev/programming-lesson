{
  "nbformat": 4,
  "nbformat_minor": 0,
  "metadata": {
    "colab": {
      "name": "조건문과 반복문.ipynb",
      "provenance": [],
      "authorship_tag": "ABX9TyN3M7GPw5/uLdDJEg2aWsXv",
      "include_colab_link": true
    },
    "kernelspec": {
      "name": "python3",
      "display_name": "Python 3"
    },
    "language_info": {
      "name": "python"
    },
    "widgets": {
      "application/vnd.jupyter.widget-state+json": {
        "ad315451eda4425ca7cf03fc2bf3aef8": {
          "model_module": "@jupyter-widgets/controls",
          "model_name": "VBoxModel",
          "state": {
            "_view_name": "VBoxView",
            "_dom_classes": [
              "widget-interact"
            ],
            "_model_name": "VBoxModel",
            "_view_module": "@jupyter-widgets/controls",
            "_model_module_version": "1.5.0",
            "_view_count": null,
            "_view_module_version": "1.5.0",
            "box_style": "",
            "layout": "IPY_MODEL_1852d094f85d476eb51b707f6ba89440",
            "_model_module": "@jupyter-widgets/controls",
            "children": [
              "IPY_MODEL_ea297c55aa774a5e8778f4951f035074",
              "IPY_MODEL_316e3ed48c924082a18c4e4c26598361"
            ]
          }
        },
        "1852d094f85d476eb51b707f6ba89440": {
          "model_module": "@jupyter-widgets/base",
          "model_name": "LayoutModel",
          "state": {
            "_view_name": "LayoutView",
            "grid_template_rows": null,
            "right": null,
            "justify_content": null,
            "_view_module": "@jupyter-widgets/base",
            "overflow": null,
            "_model_module_version": "1.2.0",
            "_view_count": null,
            "flex_flow": null,
            "width": null,
            "min_width": null,
            "border": null,
            "align_items": null,
            "bottom": null,
            "_model_module": "@jupyter-widgets/base",
            "top": null,
            "grid_column": null,
            "overflow_y": null,
            "overflow_x": null,
            "grid_auto_flow": null,
            "grid_area": null,
            "grid_template_columns": null,
            "flex": null,
            "_model_name": "LayoutModel",
            "justify_items": null,
            "grid_row": null,
            "max_height": null,
            "align_content": null,
            "visibility": null,
            "align_self": null,
            "height": null,
            "min_height": null,
            "padding": null,
            "grid_auto_rows": null,
            "grid_gap": null,
            "max_width": null,
            "order": null,
            "_view_module_version": "1.2.0",
            "grid_template_areas": null,
            "object_position": null,
            "object_fit": null,
            "grid_auto_columns": null,
            "margin": null,
            "display": null,
            "left": null
          }
        },
        "ea297c55aa774a5e8778f4951f035074": {
          "model_module": "@jupyter-widgets/controls",
          "model_name": "IntSliderModel",
          "state": {
            "_view_name": "IntSliderView",
            "style": "IPY_MODEL_b303143b3b8149d984ec2d7179ff8a19",
            "_dom_classes": [],
            "description": "score",
            "step": 1,
            "_model_name": "IntSliderModel",
            "orientation": "horizontal",
            "max": 100,
            "_view_module": "@jupyter-widgets/controls",
            "_model_module_version": "1.5.0",
            "value": 82,
            "_view_count": null,
            "disabled": false,
            "_view_module_version": "1.5.0",
            "min": 0,
            "continuous_update": true,
            "readout_format": "d",
            "description_tooltip": null,
            "readout": true,
            "_model_module": "@jupyter-widgets/controls",
            "layout": "IPY_MODEL_923bcb19ed6d4956ac3e0c258d7376eb"
          }
        },
        "316e3ed48c924082a18c4e4c26598361": {
          "model_module": "@jupyter-widgets/output",
          "model_name": "OutputModel",
          "state": {
            "_view_name": "OutputView",
            "msg_id": "",
            "_dom_classes": [],
            "_model_name": "OutputModel",
            "outputs": [
              {
                "output_type": "display_data",
                "metadata": {
                  "tags": []
                },
                "application/vnd.google.colaboratory.intrinsic+json": {
                  "type": "string"
                },
                "text/plain": "'B'"
              }
            ],
            "_view_module": "@jupyter-widgets/output",
            "_model_module_version": "1.0.0",
            "_view_count": null,
            "_view_module_version": "1.0.0",
            "layout": "IPY_MODEL_0f204e9080a944e795cd82ab9940df36",
            "_model_module": "@jupyter-widgets/output"
          }
        },
        "b303143b3b8149d984ec2d7179ff8a19": {
          "model_module": "@jupyter-widgets/controls",
          "model_name": "SliderStyleModel",
          "state": {
            "_view_name": "StyleView",
            "handle_color": null,
            "_model_name": "SliderStyleModel",
            "description_width": "",
            "_view_module": "@jupyter-widgets/base",
            "_model_module_version": "1.5.0",
            "_view_count": null,
            "_view_module_version": "1.2.0",
            "_model_module": "@jupyter-widgets/controls"
          }
        },
        "923bcb19ed6d4956ac3e0c258d7376eb": {
          "model_module": "@jupyter-widgets/base",
          "model_name": "LayoutModel",
          "state": {
            "_view_name": "LayoutView",
            "grid_template_rows": null,
            "right": null,
            "justify_content": null,
            "_view_module": "@jupyter-widgets/base",
            "overflow": null,
            "_model_module_version": "1.2.0",
            "_view_count": null,
            "flex_flow": null,
            "width": null,
            "min_width": null,
            "border": null,
            "align_items": null,
            "bottom": null,
            "_model_module": "@jupyter-widgets/base",
            "top": null,
            "grid_column": null,
            "overflow_y": null,
            "overflow_x": null,
            "grid_auto_flow": null,
            "grid_area": null,
            "grid_template_columns": null,
            "flex": null,
            "_model_name": "LayoutModel",
            "justify_items": null,
            "grid_row": null,
            "max_height": null,
            "align_content": null,
            "visibility": null,
            "align_self": null,
            "height": null,
            "min_height": null,
            "padding": null,
            "grid_auto_rows": null,
            "grid_gap": null,
            "max_width": null,
            "order": null,
            "_view_module_version": "1.2.0",
            "grid_template_areas": null,
            "object_position": null,
            "object_fit": null,
            "grid_auto_columns": null,
            "margin": null,
            "display": null,
            "left": null
          }
        },
        "0f204e9080a944e795cd82ab9940df36": {
          "model_module": "@jupyter-widgets/base",
          "model_name": "LayoutModel",
          "state": {
            "_view_name": "LayoutView",
            "grid_template_rows": null,
            "right": null,
            "justify_content": null,
            "_view_module": "@jupyter-widgets/base",
            "overflow": null,
            "_model_module_version": "1.2.0",
            "_view_count": null,
            "flex_flow": null,
            "width": null,
            "min_width": null,
            "border": null,
            "align_items": null,
            "bottom": null,
            "_model_module": "@jupyter-widgets/base",
            "top": null,
            "grid_column": null,
            "overflow_y": null,
            "overflow_x": null,
            "grid_auto_flow": null,
            "grid_area": null,
            "grid_template_columns": null,
            "flex": null,
            "_model_name": "LayoutModel",
            "justify_items": null,
            "grid_row": null,
            "max_height": null,
            "align_content": null,
            "visibility": null,
            "align_self": null,
            "height": null,
            "min_height": null,
            "padding": null,
            "grid_auto_rows": null,
            "grid_gap": null,
            "max_width": null,
            "order": null,
            "_view_module_version": "1.2.0",
            "grid_template_areas": null,
            "object_position": null,
            "object_fit": null,
            "grid_auto_columns": null,
            "margin": null,
            "display": null,
            "left": null
          }
        },
        "f00e1d44f66345e196d5272725696183": {
          "model_module": "@jupyter-widgets/controls",
          "model_name": "VBoxModel",
          "state": {
            "_view_name": "VBoxView",
            "_dom_classes": [
              "widget-interact"
            ],
            "_model_name": "VBoxModel",
            "_view_module": "@jupyter-widgets/controls",
            "_model_module_version": "1.5.0",
            "_view_count": null,
            "_view_module_version": "1.5.0",
            "box_style": "",
            "layout": "IPY_MODEL_2aa3e0adcd5e4317ab74c83d1ce784e6",
            "_model_module": "@jupyter-widgets/controls",
            "children": [
              "IPY_MODEL_fde0cca9aa47457ea120759c468a1d3e",
              "IPY_MODEL_0dd47d7b6e6540fcaa5e514f385438b9"
            ]
          }
        },
        "2aa3e0adcd5e4317ab74c83d1ce784e6": {
          "model_module": "@jupyter-widgets/base",
          "model_name": "LayoutModel",
          "state": {
            "_view_name": "LayoutView",
            "grid_template_rows": null,
            "right": null,
            "justify_content": null,
            "_view_module": "@jupyter-widgets/base",
            "overflow": null,
            "_model_module_version": "1.2.0",
            "_view_count": null,
            "flex_flow": null,
            "width": null,
            "min_width": null,
            "border": null,
            "align_items": null,
            "bottom": null,
            "_model_module": "@jupyter-widgets/base",
            "top": null,
            "grid_column": null,
            "overflow_y": null,
            "overflow_x": null,
            "grid_auto_flow": null,
            "grid_area": null,
            "grid_template_columns": null,
            "flex": null,
            "_model_name": "LayoutModel",
            "justify_items": null,
            "grid_row": null,
            "max_height": null,
            "align_content": null,
            "visibility": null,
            "align_self": null,
            "height": null,
            "min_height": null,
            "padding": null,
            "grid_auto_rows": null,
            "grid_gap": null,
            "max_width": null,
            "order": null,
            "_view_module_version": "1.2.0",
            "grid_template_areas": null,
            "object_position": null,
            "object_fit": null,
            "grid_auto_columns": null,
            "margin": null,
            "display": null,
            "left": null
          }
        },
        "fde0cca9aa47457ea120759c468a1d3e": {
          "model_module": "@jupyter-widgets/controls",
          "model_name": "IntSliderModel",
          "state": {
            "_view_name": "IntSliderView",
            "style": "IPY_MODEL_f120bc8185b74655ace93b373740edf9",
            "_dom_classes": [],
            "description": "n",
            "step": 1,
            "_model_name": "IntSliderModel",
            "orientation": "horizontal",
            "max": 100,
            "_view_module": "@jupyter-widgets/controls",
            "_model_module_version": "1.5.0",
            "value": 1,
            "_view_count": null,
            "disabled": false,
            "_view_module_version": "1.5.0",
            "min": 1,
            "continuous_update": true,
            "readout_format": "d",
            "description_tooltip": null,
            "readout": true,
            "_model_module": "@jupyter-widgets/controls",
            "layout": "IPY_MODEL_9261188eb5a741af8671854bd55db1aa"
          }
        },
        "0dd47d7b6e6540fcaa5e514f385438b9": {
          "model_module": "@jupyter-widgets/output",
          "model_name": "OutputModel",
          "state": {
            "_view_name": "OutputView",
            "msg_id": "",
            "_dom_classes": [],
            "_model_name": "OutputModel",
            "outputs": [
              {
                "output_type": "display_data",
                "metadata": {
                  "tags": []
                },
                "text/plain": "1"
              }
            ],
            "_view_module": "@jupyter-widgets/output",
            "_model_module_version": "1.0.0",
            "_view_count": null,
            "_view_module_version": "1.0.0",
            "layout": "IPY_MODEL_31a57123c09a4bbbab388a0924c8c4a1",
            "_model_module": "@jupyter-widgets/output"
          }
        },
        "f120bc8185b74655ace93b373740edf9": {
          "model_module": "@jupyter-widgets/controls",
          "model_name": "SliderStyleModel",
          "state": {
            "_view_name": "StyleView",
            "handle_color": null,
            "_model_name": "SliderStyleModel",
            "description_width": "",
            "_view_module": "@jupyter-widgets/base",
            "_model_module_version": "1.5.0",
            "_view_count": null,
            "_view_module_version": "1.2.0",
            "_model_module": "@jupyter-widgets/controls"
          }
        },
        "9261188eb5a741af8671854bd55db1aa": {
          "model_module": "@jupyter-widgets/base",
          "model_name": "LayoutModel",
          "state": {
            "_view_name": "LayoutView",
            "grid_template_rows": null,
            "right": null,
            "justify_content": null,
            "_view_module": "@jupyter-widgets/base",
            "overflow": null,
            "_model_module_version": "1.2.0",
            "_view_count": null,
            "flex_flow": null,
            "width": null,
            "min_width": null,
            "border": null,
            "align_items": null,
            "bottom": null,
            "_model_module": "@jupyter-widgets/base",
            "top": null,
            "grid_column": null,
            "overflow_y": null,
            "overflow_x": null,
            "grid_auto_flow": null,
            "grid_area": null,
            "grid_template_columns": null,
            "flex": null,
            "_model_name": "LayoutModel",
            "justify_items": null,
            "grid_row": null,
            "max_height": null,
            "align_content": null,
            "visibility": null,
            "align_self": null,
            "height": null,
            "min_height": null,
            "padding": null,
            "grid_auto_rows": null,
            "grid_gap": null,
            "max_width": null,
            "order": null,
            "_view_module_version": "1.2.0",
            "grid_template_areas": null,
            "object_position": null,
            "object_fit": null,
            "grid_auto_columns": null,
            "margin": null,
            "display": null,
            "left": null
          }
        },
        "31a57123c09a4bbbab388a0924c8c4a1": {
          "model_module": "@jupyter-widgets/base",
          "model_name": "LayoutModel",
          "state": {
            "_view_name": "LayoutView",
            "grid_template_rows": null,
            "right": null,
            "justify_content": null,
            "_view_module": "@jupyter-widgets/base",
            "overflow": null,
            "_model_module_version": "1.2.0",
            "_view_count": null,
            "flex_flow": null,
            "width": null,
            "min_width": null,
            "border": null,
            "align_items": null,
            "bottom": null,
            "_model_module": "@jupyter-widgets/base",
            "top": null,
            "grid_column": null,
            "overflow_y": null,
            "overflow_x": null,
            "grid_auto_flow": null,
            "grid_area": null,
            "grid_template_columns": null,
            "flex": null,
            "_model_name": "LayoutModel",
            "justify_items": null,
            "grid_row": null,
            "max_height": null,
            "align_content": null,
            "visibility": null,
            "align_self": null,
            "height": null,
            "min_height": null,
            "padding": null,
            "grid_auto_rows": null,
            "grid_gap": null,
            "max_width": null,
            "order": null,
            "_view_module_version": "1.2.0",
            "grid_template_areas": null,
            "object_position": null,
            "object_fit": null,
            "grid_auto_columns": null,
            "margin": null,
            "display": null,
            "left": null
          }
        }
      }
    }
  },
  "cells": [
    {
      "cell_type": "markdown",
      "metadata": {
        "id": "view-in-github",
        "colab_type": "text"
      },
      "source": [
        "<a href=\"https://colab.research.google.com/github/lhwdev/programming-lesson/blob/master/src/06.%20%EC%A1%B0%EA%B1%B4%EB%AC%B8%EA%B3%BC%20%EB%B0%98%EB%B3%B5%EB%AC%B8.ipynb\" target=\"_parent\"><img src=\"https://colab.research.google.com/assets/colab-badge.svg\" alt=\"Open In Colab\"/></a>"
      ]
    },
    {
      "cell_type": "markdown",
      "metadata": {
        "id": "_cLaMKMVWkp7"
      },
      "source": [
        "# 조건문"
      ]
    },
    {
      "cell_type": "code",
      "metadata": {
        "id": "hNgfV13ich8l"
      },
      "source": [
        "from ipywidgets import interact, IntSlider"
      ],
      "execution_count": null,
      "outputs": []
    },
    {
      "cell_type": "markdown",
      "metadata": {
        "id": "L7iTYARGWqUc"
      },
      "source": [
        "## 조건문(if 문)"
      ]
    },
    {
      "cell_type": "code",
      "metadata": {
        "colab": {
          "base_uri": "https://localhost:8080/"
        },
        "id": "Z_7dZ6OOWPrJ",
        "outputId": "4993c763-4678-419c-e365-8f34dcc43336"
      },
      "source": [
        "a = 100\n",
        "if a >= 90:\n",
        "  print('A')"
      ],
      "execution_count": null,
      "outputs": [
        {
          "output_type": "stream",
          "text": [
            "A\n"
          ],
          "name": "stdout"
        }
      ]
    },
    {
      "cell_type": "code",
      "metadata": {
        "colab": {
          "base_uri": "https://localhost:8080/"
        },
        "id": "72dmJdHNXFMK",
        "outputId": "4db80d75-f7db-49f0-ea92-c196853e5b11"
      },
      "source": [
        "a = 89\n",
        "if a >= 90:\n",
        "  print('A')\n",
        "else:\n",
        "  print('not good')"
      ],
      "execution_count": null,
      "outputs": [
        {
          "output_type": "stream",
          "text": [
            "not good\n"
          ],
          "name": "stdout"
        }
      ]
    },
    {
      "cell_type": "code",
      "metadata": {
        "colab": {
          "base_uri": "https://localhost:8080/"
        },
        "id": "6__M0pczXJo4",
        "outputId": "dcab30e7-7210-46cc-fa46-318c2dc39ae6"
      },
      "source": [
        "a = 89\n",
        "if a >= 90:\n",
        "  print('A')\n",
        "elif a >= 80:\n",
        "  print('B')\n",
        "else:\n",
        "  print('not good')"
      ],
      "execution_count": null,
      "outputs": [
        {
          "output_type": "stream",
          "text": [
            "B\n"
          ],
          "name": "stdout"
        }
      ]
    },
    {
      "cell_type": "code",
      "metadata": {
        "colab": {
          "base_uri": "https://localhost:8080/"
        },
        "id": "y5w_jNisajBC",
        "outputId": "36999bab-d211-4394-d176-dbc0d70f6617"
      },
      "source": [
        "a = 79\n",
        "if a >= 90:\n",
        "  print('A')\n",
        "elif a >= 80:\n",
        "  print('B')\n",
        "elif a >= 70:\n",
        "  print('C')\n",
        "else:\n",
        "  print('not good')"
      ],
      "execution_count": null,
      "outputs": [
        {
          "output_type": "stream",
          "text": [
            "C\n"
          ],
          "name": "stdout"
        }
      ]
    },
    {
      "cell_type": "code",
      "metadata": {
        "id": "lrca4GLnbVN3"
      },
      "source": [
        "a = 100\n",
        "if a >= 90:\n",
        "  pass\n",
        "elif a >= 80:\n",
        "  print('B')"
      ],
      "execution_count": null,
      "outputs": []
    },
    {
      "cell_type": "markdown",
      "metadata": {
        "id": "bhoFfNjbb2LW"
      },
      "source": [
        "### 중첩 if문"
      ]
    },
    {
      "cell_type": "code",
      "metadata": {
        "colab": {
          "base_uri": "https://localhost:8080/"
        },
        "id": "2HmSHkEwbZ2P",
        "outputId": "e2c399bb-2f66-47ad-a599-1345509b5329"
      },
      "source": [
        "kor = 100\n",
        "sci = 100\n",
        "if kor >= 90:\n",
        "  if sci >= 90:\n",
        "    print('good')\n",
        "  else: print('more')"
      ],
      "execution_count": null,
      "outputs": [
        {
          "output_type": "stream",
          "text": [
            "good\n"
          ],
          "name": "stdout"
        }
      ]
    },
    {
      "cell_type": "markdown",
      "metadata": {
        "id": "eyLGBaX_bx-f"
      },
      "source": [
        "### 논리연산"
      ]
    },
    {
      "cell_type": "code",
      "metadata": {
        "colab": {
          "base_uri": "https://localhost:8080/"
        },
        "id": "r0qwlQxWbe8z",
        "outputId": "78cac076-b762-456b-d540-bcaa6415ad49"
      },
      "source": [
        "kor = 100\n",
        "sci = 100\n",
        "if kor >= 90 and sci >= 90:\n",
        "  print('good')\n",
        "else:\n",
        "  print('more')"
      ],
      "execution_count": null,
      "outputs": [
        {
          "output_type": "stream",
          "text": [
            "good\n"
          ],
          "name": "stdout"
        }
      ]
    },
    {
      "cell_type": "code",
      "metadata": {
        "colab": {
          "base_uri": "https://localhost:8080/"
        },
        "id": "6KQWqFsibhXz",
        "outputId": "73cf57db-498b-4cfa-ff78-da9e8584c1bc"
      },
      "source": [
        "money = 2000\n",
        "card = True\n",
        "if money >= 3000 or card:\n",
        "  print('택시 타고 가라')\n",
        "else:\n",
        "  print('걸어가라')"
      ],
      "execution_count": null,
      "outputs": [
        {
          "output_type": "stream",
          "text": [
            "택시 타고 가라\n"
          ],
          "name": "stdout"
        }
      ]
    },
    {
      "cell_type": "code",
      "metadata": {
        "colab": {
          "base_uri": "https://localhost:8080/"
        },
        "id": "HMCYvftVbpsq",
        "outputId": "520d12d5-8752-42cb-ab11-cad20b869fbe"
      },
      "source": [
        "if 5 in [1, 3, 5, 7]:\n",
        "  print('exist')\n",
        "elif 7 in range(1, 5):\n",
        "  print('?')"
      ],
      "execution_count": null,
      "outputs": [
        {
          "output_type": "stream",
          "text": [
            "exist\n"
          ],
          "name": "stdout"
        }
      ]
    },
    {
      "cell_type": "code",
      "metadata": {
        "colab": {
          "base_uri": "https://localhost:8080/"
        },
        "id": "7IWIdXRebvy-",
        "outputId": "003b8192-fb67-4970-8fae-0e1d038fc01c"
      },
      "source": [
        "a = \"\"\n",
        "if a: print('True')\n",
        "else: print('False')"
      ],
      "execution_count": null,
      "outputs": [
        {
          "output_type": "stream",
          "text": [
            "False\n"
          ],
          "name": "stdout"
        }
      ]
    },
    {
      "cell_type": "markdown",
      "metadata": {
        "id": "BBL2t80Xb_1L"
      },
      "source": [
        "### 3항 연산"
      ]
    },
    {
      "cell_type": "code",
      "metadata": {
        "colab": {
          "base_uri": "https://localhost:8080/"
        },
        "id": "kfe_3gsbb9Mt",
        "outputId": "760ecdd2-d4a0-4504-c9d0-b08f548d9399"
      },
      "source": [
        "a = 90\n",
        "if 90 <= a <= 100: # 90 <= a and a <= 100\n",
        "  print('good')\n",
        "else: print('not good')"
      ],
      "execution_count": null,
      "outputs": [
        {
          "output_type": "stream",
          "text": [
            "good\n"
          ],
          "name": "stdout"
        }
      ]
    },
    {
      "cell_type": "markdown",
      "metadata": {
        "id": "iWm5V4gIcKa9"
      },
      "source": [
        "### 조건 표현식"
      ]
    },
    {
      "cell_type": "code",
      "metadata": {
        "colab": {
          "base_uri": "https://localhost:8080/"
        },
        "id": "wUC7iaQtcE4p",
        "outputId": "6049870b-d999-47d4-9fe0-1cc2a98e7c66"
      },
      "source": [
        "a = 90\n",
        "b = 100\n",
        "min = a if a <= b else b\n",
        "print(min)"
      ],
      "execution_count": null,
      "outputs": [
        {
          "output_type": "stream",
          "text": [
            "90\n"
          ],
          "name": "stdout"
        }
      ]
    },
    {
      "cell_type": "markdown",
      "metadata": {
        "id": "79XjtVYVcRiZ"
      },
      "source": [
        "### 조건문 예시 01\n",
        "- 점수가 90점 이상이면 'A', 80점 이상이면 'B', 70점 이상이면 'C', 60점 이상이면 'D' 그 외는 'F'의 학점이\n",
        "되게 하라."
      ]
    },
    {
      "cell_type": "code",
      "metadata": {
        "colab": {
          "base_uri": "https://localhost:8080/",
          "height": 67,
          "referenced_widgets": [
            "ad315451eda4425ca7cf03fc2bf3aef8",
            "1852d094f85d476eb51b707f6ba89440",
            "ea297c55aa774a5e8778f4951f035074",
            "316e3ed48c924082a18c4e4c26598361",
            "b303143b3b8149d984ec2d7179ff8a19",
            "923bcb19ed6d4956ac3e0c258d7376eb",
            "0f204e9080a944e795cd82ab9940df36"
          ]
        },
        "id": "SUSnmdu3cQBh",
        "outputId": "eba00734-ce05-43a1-ff27-ce2b12477e7c"
      },
      "source": [
        "@interact(score = IntSlider(value = 100, min = 0, max = 100))\n",
        "def scoring(score: int):\n",
        "  if score >= 90: grade = 'A'\n",
        "  elif score >= 80: grade = 'B'\n",
        "  elif score >= 70: grade = 'C'\n",
        "  elif score >= 60: grade = 'D'\n",
        "  else: grade = 'F'\n",
        "  return grade"
      ],
      "execution_count": null,
      "outputs": [
        {
          "output_type": "display_data",
          "data": {
            "application/vnd.jupyter.widget-view+json": {
              "model_id": "ad315451eda4425ca7cf03fc2bf3aef8",
              "version_minor": 0,
              "version_major": 2
            },
            "text/plain": [
              "interactive(children=(IntSlider(value=100, description='score'), Output()), _dom_classes=('widget-interact',))"
            ]
          },
          "metadata": {
            "tags": []
          }
        }
      ]
    },
    {
      "cell_type": "markdown",
      "metadata": {
        "id": "XAs4g-20dRRE"
      },
      "source": [
        "### 조건문 예시 02"
      ]
    },
    {
      "cell_type": "code",
      "metadata": {
        "colab": {
          "base_uri": "https://localhost:8080/"
        },
        "id": "9fhdT6BgdTbA",
        "outputId": "07e7021e-ad6d-438c-c148-c420f9b07f23"
      },
      "source": [
        "if 'bike' not in ['motorbike', 'car', 'copter', 'jet']:\n",
        "  print('BMW')"
      ],
      "execution_count": null,
      "outputs": [
        {
          "output_type": "stream",
          "text": [
            "BMW\n"
          ],
          "name": "stdout"
        }
      ]
    },
    {
      "cell_type": "markdown",
      "metadata": {
        "id": "Pa6ZYHGNdaBf"
      },
      "source": [
        "## 반복문 - while 문\n",
        "``` python\n",
        "while condition:\n",
        "  statement\n",
        "```"
      ]
    },
    {
      "cell_type": "code",
      "metadata": {
        "colab": {
          "base_uri": "https://localhost:8080/"
        },
        "id": "0zH82yQfdZZ9",
        "outputId": "93c757a4-ae4e-4c47-e60f-e8be6e2cd78e"
      },
      "source": [
        "i = 0\n",
        "while i < 10:\n",
        "  i += 1\n",
        "  print(i, end = ' ')"
      ],
      "execution_count": null,
      "outputs": [
        {
          "output_type": "stream",
          "text": [
            "1 2 3 4 5 6 7 8 9 10 "
          ],
          "name": "stdout"
        }
      ]
    },
    {
      "cell_type": "code",
      "metadata": {
        "colab": {
          "base_uri": "https://localhost:8080/"
        },
        "id": "32e2KD6ddppL",
        "outputId": "a02d5df0-942e-4a58-e4c8-132b60d4ab5e"
      },
      "source": [
        "i = 0\n",
        "while i < 10:\n",
        "  i += 1\n",
        "  print('i', end = ' ')\n",
        "else:\n",
        "  print('end')"
      ],
      "execution_count": null,
      "outputs": [
        {
          "output_type": "stream",
          "text": [
            "i i i i i i i i i i end\n"
          ],
          "name": "stdout"
        }
      ]
    },
    {
      "cell_type": "code",
      "metadata": {
        "colab": {
          "base_uri": "https://localhost:8080/"
        },
        "id": "XZAnZrVBdxqE",
        "outputId": "770dc57f-8966-47d6-cbee-a9f7300afa27"
      },
      "source": [
        "i = 0\n",
        "while i < 10:\n",
        "  i += 1\n",
        "  if i == 7: break\n",
        "  print(i, end=' ')\n",
        "else:\n",
        "  print('end')"
      ],
      "execution_count": null,
      "outputs": [
        {
          "output_type": "stream",
          "text": [
            "1 2 3 4 5 6 "
          ],
          "name": "stdout"
        }
      ]
    },
    {
      "cell_type": "code",
      "metadata": {
        "colab": {
          "base_uri": "https://localhost:8080/"
        },
        "id": "kgpz-mnYd4nR",
        "outputId": "5006737e-2c00-4571-df47-7c707b3250ac"
      },
      "source": [
        "i = 0\n",
        "while i < 10:\n",
        "  i += 1\n",
        "  if i == 4: continue\n",
        "  print('i', end = ' ')"
      ],
      "execution_count": null,
      "outputs": [
        {
          "output_type": "stream",
          "text": [
            "i i i i i i i i i "
          ],
          "name": "stdout"
        }
      ]
    },
    {
      "cell_type": "markdown",
      "metadata": {
        "id": "aMS-t8R_eGSR"
      },
      "source": [
        "### 무한의 예시"
      ]
    },
    {
      "cell_type": "markdown",
      "metadata": {
        "id": "puJL4zi3eIKe"
      },
      "source": [
        "#### 팩토리얼"
      ]
    },
    {
      "cell_type": "code",
      "metadata": {
        "colab": {
          "base_uri": "https://localhost:8080/",
          "height": 66,
          "referenced_widgets": [
            "f00e1d44f66345e196d5272725696183",
            "2aa3e0adcd5e4317ab74c83d1ce784e6",
            "fde0cca9aa47457ea120759c468a1d3e",
            "0dd47d7b6e6540fcaa5e514f385438b9",
            "f120bc8185b74655ace93b373740edf9",
            "9261188eb5a741af8671854bd55db1aa",
            "31a57123c09a4bbbab388a0924c8c4a1"
          ]
        },
        "id": "Sr5COGPIeCot",
        "outputId": "453ceae7-8651-4cf4-acf9-72828bad36c1"
      },
      "source": [
        "@interact(n = IntSlider(value = 2, min = 1, max = 100))\n",
        "def factorial(n):\n",
        "  i = 1\n",
        "  while n > 0:\n",
        "    i *= n\n",
        "    n -= 1\n",
        "  return i"
      ],
      "execution_count": null,
      "outputs": [
        {
          "output_type": "display_data",
          "data": {
            "application/vnd.jupyter.widget-view+json": {
              "model_id": "f00e1d44f66345e196d5272725696183",
              "version_minor": 0,
              "version_major": 2
            },
            "text/plain": [
              "interactive(children=(IntSlider(value=2, description='n', min=1), Output()), _dom_classes=('widget-interact',)…"
            ]
          },
          "metadata": {
            "tags": []
          }
        }
      ]
    },
    {
      "cell_type": "markdown",
      "metadata": {
        "id": "lSt7VwzQkZUV"
      },
      "source": [
        "### 피보나치 수열"
      ]
    },
    {
      "cell_type": "code",
      "metadata": {
        "colab": {
          "base_uri": "https://localhost:8080/"
        },
        "id": "pJm50VoTkYs9",
        "outputId": "ef686638-aaee-4055-f404-5e3c67e1d337"
      },
      "source": [
        "n, a, b = 10, 0, 1\n",
        "while n > 0:\n",
        "  print(a, end = ' ')\n",
        "  a, b = b, a + b\n",
        "  n -= 1"
      ],
      "execution_count": null,
      "outputs": [
        {
          "output_type": "stream",
          "text": [
            "0 1 1 2 3 5 8 13 21 34 "
          ],
          "name": "stdout"
        }
      ]
    },
    {
      "cell_type": "markdown",
      "metadata": {
        "id": "zx12qRG6kryi"
      },
      "source": [
        "### google 입사 문제...?"
      ]
    },
    {
      "cell_type": "code",
      "metadata": {
        "colab": {
          "base_uri": "https://localhost:8080/"
        },
        "id": "pRS-f_wOkrSY",
        "outputId": "f5659bd2-2862-44d9-d248-5ae8b8da6bd7"
      },
      "source": [
        "n, sum = 2, 1\n",
        "while n != sum:\n",
        "  n += 1\n",
        "  sum += str(n).count('1')\n",
        "print(n)"
      ],
      "execution_count": null,
      "outputs": [
        {
          "output_type": "stream",
          "text": [
            "199981\n"
          ],
          "name": "stdout"
        }
      ]
    },
    {
      "cell_type": "markdown",
      "metadata": {
        "id": "jHBB11EJlHLx"
      },
      "source": [
        "### 소인수 분해"
      ]
    },
    {
      "cell_type": "code",
      "metadata": {
        "colab": {
          "base_uri": "https://localhost:8080/"
        },
        "id": "CG_ejaE-lJPF",
        "outputId": "bfbde840-805b-466c-b092-15a3629f6c6d"
      },
      "source": [
        "num, f, s = 99887766, 2, ''\n",
        "n = num\n",
        "while n >= f:\n",
        "  while n % f == 0:\n",
        "    s += f'{f}*'\n",
        "    n /= f\n",
        "  f += 1\n",
        "print(num, '=', s[:-1])"
      ],
      "execution_count": null,
      "outputs": [
        {
          "output_type": "stream",
          "text": [
            "99887766 = 2*3*11*31*48821\n"
          ],
          "name": "stdout"
        }
      ]
    },
    {
      "cell_type": "markdown",
      "metadata": {
        "id": "z5wUV1q_lg59"
      },
      "source": [
        "### GCD, LCM"
      ]
    },
    {
      "cell_type": "code",
      "metadata": {
        "colab": {
          "base_uri": "https://localhost:8080/"
        },
        "id": "AL65-nJzljl2",
        "outputId": "88953abc-5d2c-4bc9-8303-a50d487ade20"
      },
      "source": [
        "a, b = 123456789, 987654321\n",
        "t = a * b\n",
        "while b != 0:\n",
        "  a, b = b, a % b\n",
        "print(f'gcd: {a}, lcm: {t / a}')"
      ],
      "execution_count": null,
      "outputs": [
        {
          "output_type": "stream",
          "text": [
            "gcd: 9, lcm: 1.354807012362614e+16\n"
          ],
          "name": "stdout"
        }
      ]
    },
    {
      "cell_type": "markdown",
      "metadata": {
        "id": "K94Kl2g8ly6Z"
      },
      "source": [
        "### 유효한 파일 읽기"
      ]
    },
    {
      "cell_type": "code",
      "metadata": {
        "colab": {
          "base_uri": "https://localhost:8080/"
        },
        "id": "vHGd1Syal4Ye",
        "outputId": "c106a862-ee4c-44eb-f2c7-295e6d371fc8"
      },
      "source": [
        "with open('input.txt') as fin, open('output.txt', 'w') as fout:\n",
        "  while True:\n",
        "    line = fin.readline()\n",
        "    if not line: break\n",
        "    print(line)"
      ],
      "execution_count": null,
      "outputs": [
        {
          "output_type": "stream",
          "text": [
            "a\n",
            "\n",
            "b\n",
            "\n",
            "c\n",
            "\n",
            "d\n",
            "\n"
          ],
          "name": "stdout"
        }
      ]
    }
  ]
}