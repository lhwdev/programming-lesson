{
 "cells": [
  {
   "cell_type": "markdown",
   "metadata": {},
   "source": [
    "# 데이터 타입\r\n",
    "`None`, 숫자, 순서열, 매핑, 집합\r\n",
    "\r\n",
    "\r\n",
    "## 타입 목록\r\n",
    "\r\n",
    "### 숫자\r\n",
    "- 정수: `int`\r\n",
    "- 실수: `float`\r\n",
    "- 복소수: `complex`\r\n",
    "- `bool` (숫자처럼 작동)\r\n",
    "\r\n",
    "### 순서열\r\n",
    "- str  \r\n",
    "  `\"hello, world!\"`\r\n",
    "- list  \r\n",
    "  `[1, 2, 3]`\r\n",
    "- tuple  \r\n",
    "  `(3, 5, 1)`\r\n",
    "- range  \r\n",
    "  `range(1, 100)`\r\n",
    "\r\n",
    "### 매핑\r\n",
    "- dict\r\n",
    "\r\n",
    "### 집합\r\n",
    "- set\r\n",
    "- frozenset"
   ]
  },
  {
   "cell_type": "markdown",
   "metadata": {},
   "source": [
    "## 숫자"
   ]
  },
  {
   "cell_type": "code",
   "execution_count": 140,
   "metadata": {},
   "outputs": [
    {
     "name": "stdout",
     "output_type": "stream",
     "text": [
      "<class 'NoneType'>\n",
      "<class 'int'>\n",
      "<class 'float'>\n",
      "<class 'complex'>\n",
      "<class 'bool'> <class 'bool'>\n"
     ]
    }
   ],
   "source": [
    "print(type(None)) # 첫 글자만 대문자: none(X)\r\n",
    "print(type(3))\r\n",
    "print(type(3.14))\r\n",
    "print(type(3 + 0.14j))\r\n",
    "print(type(True), type(False))"
   ]
  },
  {
   "cell_type": "markdown",
   "metadata": {},
   "source": [
    "## 순서열"
   ]
  },
  {
   "cell_type": "code",
   "execution_count": 141,
   "metadata": {},
   "outputs": [
    {
     "name": "stdout",
     "output_type": "stream",
     "text": [
      "<class 'str'>\n",
      "c\n",
      "<class 'list'>\n",
      "<class 'tuple'>\n",
      "<class 'range'>\n",
      "2 8 14 20 26 "
     ]
    }
   ],
   "source": [
    "s = 'abcdefg' # 문자열(readonly)\r\n",
    "print(type(s))\r\n",
    "print(s[2])\r\n",
    "\r\n",
    "print(type([1, 3, 'a', 'c', True])) # 리스트(mutable)\r\n",
    "\r\n",
    "print(type((1, 3, 'a', 'c', True))) # 튜플(readonly)\r\n",
    "\r\n",
    "print(type(range(1, 10, 4))) # 범위\r\n",
    "for i in range(2, 30, 6):\r\n",
    "  print(i, end = \" \")"
   ]
  },
  {
   "cell_type": "markdown",
   "metadata": {},
   "source": [
    "### 문자열"
   ]
  },
  {
   "cell_type": "code",
   "execution_count": 142,
   "metadata": {},
   "outputs": [
    {
     "name": "stdout",
     "output_type": "stream",
     "text": [
      "It's python\n",
      "\"Hello, world!\"\n",
      "the teacher said.\n",
      "nested quote: it's him\n",
      "\n",
      "  Life is too short, you need Python.\n",
      "  Hello world\n",
      "\n",
      "--------------------------\n",
      "PythonPython\n",
      "3.43.43.43.43.4\n",
      "------------------------------\n",
      "a, b, c\n"
     ]
    }
   ],
   "source": [
    "a = \"Python\"\r\n",
    "b = 'Python'\r\n",
    "c = \"3.4\"\r\n",
    "# print(1 + c)\r\n",
    "print(\"It's python\")\r\n",
    "print('\"Hello, world!\"\\nthe teacher said.')\r\n",
    "print('nested quote: it\\'s him')\r\n",
    "\r\n",
    "print('''\r\n",
    "  Life is too short, you need Python.\r\n",
    "  Hello world\r\n",
    "''')\r\n",
    "\r\n",
    "print('--------------------------')\r\n",
    "print(a + b)\r\n",
    "print(c * 5)\r\n",
    "print('-' * 30)\r\n",
    "\r\n",
    "# unpack(destructuring)\r\n",
    "x, y, z = 'abc'\r\n",
    "print(x, y, z, sep = ', ')"
   ]
  },
  {
   "cell_type": "markdown",
   "metadata": {},
   "source": [
    "### 리스트"
   ]
  },
  {
   "cell_type": "code",
   "execution_count": 143,
   "metadata": {},
   "outputs": [
    {
     "name": "stdout",
     "output_type": "stream",
     "text": [
      "[31, 28, 31, 30, 31, 30, 31, 30, 31, 30, 31]\n",
      "[31, 29, 31, 30, 31, 30, 31, 30, 31, 30, 31]\n",
      "[2018, 'FIFA', 'WorldCup', [11, 29]]\n",
      "[]\n",
      "<class 'list'>\n",
      "[2018, 'FIFA', 'WorldCup', [11, 29], 2018, 'FIFA', 'WorldCup', [11, 29], 2018, 'FIFA', 'WorldCup', [11, 29]]\n",
      "[31, 29, 31, 30, 31, 30, 31, 30, 31, 30, 31, 2018, 'FIFA', 'WorldCup', [11, 29]]\n",
      "F\n"
     ]
    }
   ],
   "source": [
    "# dict, list, set: collection\r\n",
    "a = [31, 28, 31, 30, 31, 30, 31, 30, 31, 30, 31]\r\n",
    "print(a)\r\n",
    "a[1] = 29\r\n",
    "print(a)\r\n",
    "b = [2018, 'FIFA', 'WorldCup', [11, 29]]\r\n",
    "print(b)\r\n",
    "c = []\r\n",
    "print(c)\r\n",
    "d = list()\r\n",
    "print(type(d))\r\n",
    "print(b * 3)\r\n",
    "print(a + b + c + d)\r\n",
    "print(b[1][0])"
   ]
  },
  {
   "cell_type": "markdown",
   "metadata": {},
   "source": [
    "### 튜플"
   ]
  },
  {
   "cell_type": "code",
   "execution_count": 144,
   "metadata": {},
   "outputs": [
    {
     "name": "stdout",
     "output_type": "stream",
     "text": [
      "<class 'tuple'>\n",
      "<class 'type'>\n"
     ]
    }
   ],
   "source": [
    "a = (31, 28, 31, 30, 31, 30, 31, 30, 31, 30, 31)\r\n",
    "print(type(a))\r\n",
    "\r\n",
    "b = 1, 2, 3\r\n",
    "print(type)"
   ]
  },
  {
   "cell_type": "code",
   "execution_count": 145,
   "metadata": {},
   "outputs": [
    {
     "name": "stdout",
     "output_type": "stream",
     "text": [
      "1\t2\t3\n"
     ]
    }
   ],
   "source": [
    "c, d, e = b\r\n",
    "print(c, d, e, sep = '\\t')"
   ]
  },
  {
   "cell_type": "code",
   "execution_count": 146,
   "metadata": {},
   "outputs": [
    {
     "name": "stdout",
     "output_type": "stream",
     "text": [
      "<class 'tuple'>\n"
     ]
    }
   ],
   "source": [
    "f = ()\r\n",
    "print(type(f))"
   ]
  },
  {
   "cell_type": "code",
   "execution_count": 147,
   "metadata": {},
   "outputs": [
    {
     "name": "stdout",
     "output_type": "stream",
     "text": [
      "<class 'int'>\n",
      "<class 'tuple'>\n",
      "<class 'int'>\n"
     ]
    }
   ],
   "source": [
    "g = (1)\r\n",
    "print(type(g))\r\n",
    "g = (1,)\r\n",
    "print(type(g))\r\n",
    "g = ((1))\r\n",
    "print(type(g))\r\n"
   ]
  },
  {
   "cell_type": "markdown",
   "metadata": {},
   "source": [
    "### 범위"
   ]
  },
  {
   "cell_type": "code",
   "execution_count": 148,
   "metadata": {},
   "outputs": [
    {
     "name": "stdout",
     "output_type": "stream",
     "text": [
      "[1, 2, 3, 4]\n"
     ]
    }
   ],
   "source": [
    "a = range(1, 5) # start, stop\r\n",
    "print([i for i in a])\r\n"
   ]
  },
  {
   "cell_type": "code",
   "execution_count": 149,
   "metadata": {},
   "outputs": [
    {
     "name": "stdout",
     "output_type": "stream",
     "text": [
      "[1, 4, 7]\n"
     ]
    }
   ],
   "source": [
    "a = range(1, 10, 3) \r\n",
    "print([i for i in a])\r\n"
   ]
  },
  {
   "cell_type": "code",
   "execution_count": 150,
   "metadata": {},
   "outputs": [
    {
     "name": "stdout",
     "output_type": "stream",
     "text": [
      "[0, 1, 2]\n"
     ]
    }
   ],
   "source": [
    "a = range(3)\r\n",
    "print([i for i in a])"
   ]
  },
  {
   "cell_type": "markdown",
   "metadata": {},
   "source": [
    "## 순서열 연산"
   ]
  },
  {
   "cell_type": "code",
   "execution_count": 151,
   "metadata": {},
   "outputs": [],
   "source": [
    "# 설정\r\n",
    "l = [0, 1, 2, 3, 4, 5, 6, 7, 8, 9]"
   ]
  },
  {
   "cell_type": "markdown",
   "metadata": {},
   "source": [
    "### 공통 연산"
   ]
  },
  {
   "cell_type": "code",
   "execution_count": 152,
   "metadata": {},
   "outputs": [
    {
     "name": "stdout",
     "output_type": "stream",
     "text": [
      "3\n",
      "8\n"
     ]
    }
   ],
   "source": [
    "# 색인 연산\r\n",
    "print(l[3])\r\n",
    "print(l[-2])"
   ]
  },
  {
   "cell_type": "code",
   "execution_count": 153,
   "metadata": {},
   "outputs": [
    {
     "name": "stdout",
     "output_type": "stream",
     "text": [
      "[1, 2]\n",
      "[1, 3, 5]\n",
      "[0, 1, 2, 3]\n",
      "[5, 6, 7, 8, 9]\n",
      "[6, 7, 8, 9]\n",
      "[0, 1, 2, 3, 4, 5, 6, 7, 8, 9]\n",
      "[0, 1, 2, 3, 4, 5, 6]\n",
      "[9, 7, 5, 3, 1]\n"
     ]
    }
   ],
   "source": [
    "# 분할 연산\r\n",
    "print(l[1:3])\r\n",
    "print(l[1:7:2]) # start:stop:stride\r\n",
    "print(l[:4]) # 처음부터 4까지\r\n",
    "print(l[5:]) # 5에서 끝까지\r\n",
    "print(l[-4:])\r\n",
    "print(l[:])\r\n",
    "print(l[:-3])\r\n",
    "print(l[::-2])\r\n"
   ]
  },
  {
   "cell_type": "code",
   "execution_count": 154,
   "metadata": {},
   "outputs": [
    {
     "name": "stdout",
     "output_type": "stream",
     "text": [
      "10\n",
      "0\n",
      "9\n",
      "45\n"
     ]
    }
   ],
   "source": [
    "print(len(l)) # 원소의 개수\r\n",
    "print(min(l))\r\n",
    "print(max(l))\r\n",
    "print(sum(l))"
   ]
  },
  {
   "cell_type": "code",
   "execution_count": 155,
   "metadata": {},
   "outputs": [
    {
     "name": "stdout",
     "output_type": "stream",
     "text": [
      "True\n",
      "False\n",
      "True\n",
      "True\n"
     ]
    }
   ],
   "source": [
    "print(3 in l)\r\n",
    "print(13 in l)\r\n",
    "print(17 not in l)\r\n",
    "print('py' in 'python')"
   ]
  },
  {
   "cell_type": "code",
   "execution_count": 156,
   "metadata": {},
   "outputs": [
    {
     "name": "stdout",
     "output_type": "stream",
     "text": [
      "[0, 1, 2, 3, 4, 5, 6, 7, 8, 9]\n",
      "[0, 7, 2, 3, 4, 5, 6, 7, 8, 9]\n"
     ]
    }
   ],
   "source": [
    "print(l)\r\n",
    "l[1] = 7\r\n",
    "print(l)"
   ]
  },
  {
   "cell_type": "code",
   "execution_count": 157,
   "metadata": {},
   "outputs": [
    {
     "name": "stdout",
     "output_type": "stream",
     "text": [
      "[0, 7, 8, 9, 3, 4, 5, 6, 7, 8, 9]\n"
     ]
    }
   ],
   "source": [
    "l[1:3] = 7, 8, 9\r\n",
    "print(l)"
   ]
  },
  {
   "cell_type": "code",
   "execution_count": 158,
   "metadata": {},
   "outputs": [
    {
     "name": "stdout",
     "output_type": "stream",
     "text": [
      "[0, 1, 4, 5, 6, 9, 3, 4, 5, 6, 7, 8, 9, 10]\n"
     ]
    }
   ],
   "source": [
    "l = l + [10]\r\n",
    "l[1:4] = [1, 4, 5, 6, 9]\r\n",
    "print(l)"
   ]
  },
  {
   "cell_type": "code",
   "execution_count": 161,
   "metadata": {},
   "outputs": [
    {
     "name": "stdout",
     "output_type": "stream",
     "text": [
      "[0, 1, 5, 6, 9, 3, 4, 5, 6, 7, 8, 9, 10]\n"
     ]
    }
   ],
   "source": [
    "# 삭제\r\n",
    "del l[2]\r\n",
    "print(l)"
   ]
  },
  {
   "cell_type": "code",
   "execution_count": 162,
   "metadata": {},
   "outputs": [
    {
     "name": "stdout",
     "output_type": "stream",
     "text": [
      "False\n"
     ]
    }
   ],
   "source": [
    "# 비교: 순서대로 비교\r\n",
    "s = [1, 2, 3, 4]\r\n",
    "t = [2, 4, 6]\r\n",
    "print(s > t)"
   ]
  },
  {
   "cell_type": "code",
   "execution_count": null,
   "metadata": {},
   "outputs": [],
   "source": [
    "s = 'abcd'\r\n",
    "t = 'Acd'\r\n",
    "print(s > t)"
   ]
  },
  {
   "cell_type": "markdown",
   "metadata": {},
   "source": [
    "## 매핑"
   ]
  },
  {
   "cell_type": "code",
   "execution_count": 159,
   "metadata": {},
   "outputs": [
    {
     "name": "stdout",
     "output_type": "stream",
     "text": [
      "<class 'dict'>\n"
     ]
    }
   ],
   "source": [
    "# dict\r\n",
    "print(type({\r\n",
    "  'name': 'lhwdev',\r\n",
    "  'age': 18,\r\n",
    "  'gender': 'M'\r\n",
    "}))"
   ]
  },
  {
   "cell_type": "markdown",
   "metadata": {},
   "source": [
    "## 집합"
   ]
  },
  {
   "cell_type": "code",
   "execution_count": 160,
   "metadata": {},
   "outputs": [
    {
     "name": "stdout",
     "output_type": "stream",
     "text": [
      "<class 'set'>\n",
      "<class 'frozenset'>\n",
      "{'a', 1, 2, 5, 'hello'}\n"
     ]
    }
   ],
   "source": [
    "print(type({1, 2, 3, 4, 5}))\r\n",
    "print(type(frozenset({1, 2, 3, 4, 5})))\r\n",
    "\r\n",
    "s = {1, 1, 1, 2, 5, 'a', 'a', 'hello'}\r\n",
    "print(s)"
   ]
  }
 ],
 "metadata": {
  "kernelspec": {
   "display_name": "Python 3.8.2 64-bit",
   "name": "python382jvsc74a57bd024d0a18b77c4dff0560fc02e7a4eecca42ba029fa1d18fc558c350dac9ba818b"
  },
  "language_info": {
   "codemirror_mode": {
    "name": "ipython",
    "version": 3
   },
   "file_extension": ".py",
   "mimetype": "text/x-python",
   "name": "python",
   "nbconvert_exporter": "python",
   "pygments_lexer": "ipython3",
   "version": "3.8.2"
  },
  "metadata": {
   "interpreter": {
    "hash": "24d0a18b77c4dff0560fc02e7a4eecca42ba029fa1d18fc558c350dac9ba818b"
   }
  },
  "orig_nbformat": 2
 },
 "nbformat": 4,
 "nbformat_minor": 2
}