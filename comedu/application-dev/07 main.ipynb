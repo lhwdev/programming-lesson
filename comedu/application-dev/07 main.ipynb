{
 "cells": [
  {
   "cell_type": "markdown",
   "metadata": {},
   "source": [
    "# 7일차"
   ]
  },
  {
   "cell_type": "code",
   "execution_count": 2,
   "metadata": {},
   "outputs": [],
   "source": [
    "from tkinter import *\n",
    "from tkinter import messagebox"
   ]
  },
  {
   "cell_type": "markdown",
   "metadata": {},
   "source": [
    "## 실습7"
   ]
  },
  {
   "cell_type": "code",
   "execution_count": 4,
   "metadata": {},
   "outputs": [],
   "source": [
    "window = Tk()\n",
    "\n",
    "\n",
    "def open():\n",
    "  messagebox.showinfo(\"Open\", \"열기 버튼을 누르셨어요!\")\n",
    "  pass\n",
    "\n",
    "\n",
    "def save():\n",
    "  pass\n",
    "\n",
    "\n",
    "def quit():\n",
    "  window.quit()\n",
    "  window.destroy()\n",
    "\n",
    "\n",
    "menubar = Menu(window)\n",
    "\n",
    "filemenu = Menu(menubar)\n",
    "filemenu.add_command(label=\"열기\", command=open)\n",
    "filemenu.add_command(label=\"저장\", command=save)\n",
    "filemenu.add_command(label=\"종료\", command=quit)\n",
    "\n",
    "menubar.add_cascade(label=\"파일\", menu=filemenu)\n",
    "\n",
    "window.config(menu=menubar)\n",
    "window.mainloop()"
   ]
  },
  {
   "cell_type": "markdown",
   "metadata": {},
   "source": [
    "## 리스트"
   ]
  },
  {
   "cell_type": "code",
   "execution_count": 3,
   "metadata": {},
   "outputs": [],
   "source": [
    "window = Tk()\n",
    "window.title('리스트박스 연습')\n",
    "window.geometry('640x480+100+100')\n",
    "\n",
    "listbox = Listbox(window, selectmode='extended', height=0)\n",
    "listbox.insert(0, '0번')\n",
    "listbox.insert(1, '1번')\n",
    "listbox.insert(2, '2번')\n",
    "listbox.pack()\n",
    "\n",
    "window.mainloop()"
   ]
  },
  {
   "cell_type": "code",
   "execution_count": null,
   "metadata": {},
   "outputs": [],
   "source": [
    "window = Tk()\n",
    "\n",
    "name_box = Entry(window)\n",
    "name_box.pack()\n",
    "\n",
    "listbox = Listbox(window, selectmode='extended', height=0)\n",
    "listbox.pack()\n",
    "\n",
    "\n",
    "\n",
    "window.mainloop()"
   ]
  }
 ],
 "metadata": {
  "interpreter": {
   "hash": "75ffff6d4f5ed7f54977765604b08bbeb08b44b7854def9bde97e4aa01295d9f"
  },
  "kernelspec": {
   "display_name": "Python 3.10.0 64-bit ('.env': venv)",
   "name": "python3"
  },
  "language_info": {
   "codemirror_mode": {
    "name": "ipython",
    "version": 3
   },
   "file_extension": ".py",
   "mimetype": "text/x-python",
   "name": "python",
   "nbconvert_exporter": "python",
   "pygments_lexer": "ipython3",
   "version": "3.10.0"
  },
  "orig_nbformat": 4
 },
 "nbformat": 4,
 "nbformat_minor": 2
}
