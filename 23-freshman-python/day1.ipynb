{
 "cells": [
  {
   "attachments": {},
   "cell_type": "markdown",
   "metadata": {},
   "source": [
    "# 1일차 프로그래밍 수업\n",
    "\n",
    "조교: 최호성 선배님"
   ]
  },
  {
   "attachments": {},
   "cell_type": "markdown",
   "metadata": {},
   "source": [
    "## 예제"
   ]
  },
  {
   "cell_type": "code",
   "execution_count": 2,
   "metadata": {},
   "outputs": [],
   "source": [
    "from ipywidgets import interact, IntText, IntSlider"
   ]
  },
  {
   "cell_type": "code",
   "execution_count": 3,
   "metadata": {},
   "outputs": [
    {
     "name": "stdout",
     "output_type": "stream",
     "text": [
      "Hello world!\n"
     ]
    }
   ],
   "source": [
    "print(\"Hello world!\")"
   ]
  },
  {
   "attachments": {},
   "cell_type": "markdown",
   "metadata": {},
   "source": [
    "### 예제 1: 직사각형 넓이와 둘레 출력"
   ]
  },
  {
   "cell_type": "code",
   "execution_count": 9,
   "metadata": {},
   "outputs": [
    {
     "name": "stdout",
     "output_type": "stream",
     "text": [
      "둘레 = 60, 넓이 = 200\n"
     ]
    }
   ],
   "source": [
    "width = int(input(\"가로를 입력하세요: \"))\n",
    "height = int(input(\"세로를 입력하세요: \"))\n",
    "perimeter = (width + height) * 2\n",
    "area = width * height\n",
    "print(\"둘레 = {0}, 넓이 = {1}\".format(perimeter, area))"
   ]
  },
  {
   "attachments": {},
   "cell_type": "markdown",
   "metadata": {},
   "source": [
    "예시 코드 (조금 변형된?)"
   ]
  },
  {
   "cell_type": "code",
   "execution_count": 4,
   "metadata": {
    "notebookRunGroups": {
     "groupValue": ""
    },
    "tags": []
   },
   "outputs": [
    {
     "name": "stdout",
     "output_type": "stream",
     "text": [
      "둘레 = 60.0, 넓이 = 200.0\n"
     ]
    }
   ],
   "source": [
    "width = float(input(\"가로를 입력하세요: \"))\n",
    "height = float(input(\"세로를 입력하세요: \"))\n",
    "perimeter = (width + height) * 2\n",
    "area = width * height\n",
    "print(f\"둘레 = {perimeter}, 넓이 = {area}\")"
   ]
  },
  {
   "attachments": {},
   "cell_type": "markdown",
   "metadata": {},
   "source": [
    "동적인 버전"
   ]
  },
  {
   "cell_type": "code",
   "execution_count": 5,
   "metadata": {},
   "outputs": [
    {
     "data": {
      "application/vnd.jupyter.widget-view+json": {
       "model_id": "273e9ed7a52044a2820540c044150e04",
       "version_major": 2,
       "version_minor": 0
      },
      "text/plain": [
       "interactive(children=(IntSlider(value=10, description='width', max=20, min=1), IntSlider(value=20, description…"
      ]
     },
     "metadata": {},
     "output_type": "display_data"
    }
   ],
   "source": [
    "def square(width, height):\n",
    "  print(f\"직사각형의 둘레: {(width + height) * 2}\") # perimeter\n",
    "  print(f\"직사각형의 넓이: {width * height}\") # area\n",
    "\n",
    "# 슬라이더의 값을 수정하면 실시간으로 같이 값이 수정되게 함\n",
    "interact(square, width=IntSlider(value=10, min=1, max=20), height=IntSlider(value=20, min=1, max=20));"
   ]
  },
  {
   "attachments": {},
   "cell_type": "markdown",
   "metadata": {},
   "source": [
    "## 문제"
   ]
  },
  {
   "attachments": {},
   "cell_type": "markdown",
   "metadata": {},
   "source": [
    "### 문제 1: 사칙연산의 결과\n",
    "\n",
    "사용자에게 두 개의 정수를 입력받아 사칙연산의 결과를 표시하시오."
   ]
  },
  {
   "cell_type": "code",
   "execution_count": 11,
   "metadata": {},
   "outputs": [
    {
     "name": "stdout",
     "output_type": "stream",
     "text": [
      "두 수의 합: 35\n",
      "두 수의 차: -11\n",
      "두 수의 곱: 276\n",
      "두 수의 나눗셈: 0.52\n"
     ]
    }
   ],
   "source": [
    "a = int(input(\"첫번째 숫자를 입력하시오.\"))\n",
    "b = int(input(\"두번째 숫자를 입력하시오.\"))\n",
    "\n",
    "print(f\"두 수의 합: {a + b}\")\n",
    "print(f\"두 수의 차: {a - b}\")\n",
    "print(f\"두 수의 곱: {a * b}\")\n",
    "print(f\"두 수의 나눗셈: {round(a / b, 2)}\")"
   ]
  },
  {
   "attachments": {},
   "cell_type": "markdown",
   "metadata": {},
   "source": [
    "### 문제 2: 화씨를 섭씨로 변환\n",
    "\n",
    "사용자에게 화씨 온도를 입력 받고, 섭씨 온도로 변환하여 출력"
   ]
  },
  {
   "cell_type": "code",
   "execution_count": 14,
   "metadata": {},
   "outputs": [
    {
     "name": "stdout",
     "output_type": "stream",
     "text": [
      "섭씨 온도: -36627.22\n"
     ]
    }
   ],
   "source": [
    "# fahrenheit to celsius\n",
    "fahrenheit = float(input(\"화씨 온도를 입력하세요.\"))\n",
    "celsius = (fahrenheit - 32) / 1.8\n",
    "print(f\"섭씨 온도: {round(celsius, 2)}\")"
   ]
  }
 ],
 "metadata": {
  "kernelspec": {
   "display_name": ".env",
   "language": "python",
   "name": "python3"
  },
  "language_info": {
   "codemirror_mode": {
    "name": "ipython",
    "version": 3
   },
   "file_extension": ".py",
   "mimetype": "text/x-python",
   "name": "python",
   "nbconvert_exporter": "python",
   "pygments_lexer": "ipython3",
   "version": "3.11.2"
  },
  "orig_nbformat": 4,
  "vscode": {
   "interpreter": {
    "hash": "dfa9bb193be465cff431c15929154af54568dc79a9c2c79042149b79363c223d"
   }
  }
 },
 "nbformat": 4,
 "nbformat_minor": 2
}
