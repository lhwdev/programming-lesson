{
  "nbformat": 4,
  "nbformat_minor": 0,
  "metadata": {
    "colab": {
      "name": "체조점수 계산하기.ipynb",
      "provenance": [],
      "collapsed_sections": []
    },
    "kernelspec": {
      "name": "python3",
      "display_name": "Python 3"
    },
    "language_info": {
      "name": "python"
    }
  },
  "cells": [
    {
      "cell_type": "markdown",
      "metadata": {
        "id": "VnLHa96S0dBX"
      },
      "source": [
        "# 체조 점수 계산하기"
      ]
    },
    {
      "cell_type": "code",
      "metadata": {
        "id": "E21SS-gCywUI"
      },
      "source": [
        "# 입력값 초기화\n",
        "with open('score.txt', 'w') as file:\n",
        "  file.write(\n",
        "      '''\n",
        "      a 8.32 9.42 9.02 8.80 9.24\n",
        "      b 9.11 7.45 8.83 9.12 9.41\n",
        "      c 8.87 9.12 9.48 8.34 9.66\n",
        "      d 9.03 8.96 9.52 9.02 8.95\n",
        "      e 8.87 9.28 9.73 8.37 9.01\n",
        "      '''\n",
        "  )"
      ],
      "execution_count": null,
      "outputs": []
    },
    {
      "cell_type": "code",
      "metadata": {
        "colab": {
          "base_uri": "https://localhost:8080/"
        },
        "id": "Opw08mi61AcE",
        "outputId": "efa1d529-2534-4522-9181-938cc8ca183e"
      },
      "source": [
        "# 메인 코드\n",
        "\n",
        "def process(line): # line = '이름 점수 점수 점수 ...'\n",
        "  tokens = line.strip().split(' ')\n",
        "  name = tokens[0] # 이름\n",
        "  scores = list(map(lambda x: float(x), tokens[1:])) # 점수들\n",
        "  print(f'{name} {scores}')\n",
        "  return (name, scores)\n",
        "\n",
        "scores = dict()\n",
        "\n",
        "# 문제를 잘 이해한건지 모르겠습니다..\n",
        "# '중간의 두 점수'라면 최대랑 최소를 제외한 점수 맞나요?\n",
        "with open('score.txt') as input, open('output.txt', 'w') as output:\n",
        "  while True:\n",
        "    line = input.readline()\n",
        "    if not line: break\n",
        "    if not line.strip(): continue\n",
        "    (name, score) = process(line)\n",
        "    otherScore = score[1:]\n",
        "    scores[name] = (score[0] + (sum(otherScore) - max(otherScore) - min(otherScore)) / 2) / 2\n",
        "  \n",
        "  win = max(scores.keys(), key=scores.get) # 최고점인 선수 선택\n",
        "  print(f'{win} 선수가 {scores[win]}점을 획득하여 승리했습니다!')\n",
        "  output.write(f'{win} {scores[win]}')"
      ],
      "execution_count": null,
      "outputs": [
        {
          "output_type": "stream",
          "text": [
            "a [8.32, 9.42, 9.02, 8.8, 9.24]\n",
            "b [9.11, 7.45, 8.83, 9.12, 9.41]\n",
            "c [8.87, 9.12, 9.48, 8.34, 9.66]\n",
            "d [9.03, 8.96, 9.52, 9.02, 8.95]\n",
            "e [8.87, 9.28, 9.73, 8.37, 9.01]\n",
            "c 선수가 9.085점을 획득하여 승리했습니다!\n"
          ],
          "name": "stdout"
        }
      ]
    },
    {
      "cell_type": "code",
      "metadata": {
        "colab": {
          "base_uri": "https://localhost:8080/"
        },
        "id": "I1p802t48f3e",
        "outputId": "12477c5b-d28a-4a1d-f042-09a52fa19a9b"
      },
      "source": [
        "with open('output.txt') as file:\n",
        "  print(file.readlines())"
      ],
      "execution_count": null,
      "outputs": [
        {
          "output_type": "stream",
          "text": [
            "['c 9.085']\n"
          ],
          "name": "stdout"
        }
      ]
    }
  ]
}