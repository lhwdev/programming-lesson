{
 "cells": [
  {
   "cell_type": "markdown",
   "source": [
    "# 응용프로그래밍개발 1일차\r\n",
    "이 프로젝트를 연 후 실행할 때에는 `Select Interpreters` > `Python 3.8.5 32-bit ('.env': venv)`를 선택해주세요."
   ],
   "metadata": {}
  },
  {
   "cell_type": "markdown",
   "source": [
    "## 테스트한 흔적들"
   ],
   "metadata": {}
  },
  {
   "cell_type": "code",
   "execution_count": 1,
   "source": [
    "1 // 3"
   ],
   "outputs": [
    {
     "output_type": "execute_result",
     "data": {
      "text/plain": [
       "0"
      ]
     },
     "metadata": {},
     "execution_count": 1
    }
   ],
   "metadata": {}
  },
  {
   "cell_type": "code",
   "execution_count": 2,
   "source": [
    "number = 1000\r\n",
    "number += 100\r\n",
    "number -= 4\r\n",
    "print(f'number: {number}')"
   ],
   "outputs": [
    {
     "output_type": "stream",
     "name": "stdout",
     "text": [
      "number: 1096\n"
     ]
    }
   ],
   "metadata": {}
  },
  {
   "cell_type": "code",
   "execution_count": 3,
   "source": [
    "str(123)"
   ],
   "outputs": [
    {
     "output_type": "execute_result",
     "data": {
      "text/plain": [
       "'123'"
      ]
     },
     "metadata": {},
     "execution_count": 3
    }
   ],
   "metadata": {}
  },
  {
   "cell_type": "code",
   "execution_count": 4,
   "source": [
    "float('123.4545')"
   ],
   "outputs": [
    {
     "output_type": "execute_result",
     "data": {
      "text/plain": [
       "123.4545"
      ]
     },
     "metadata": {},
     "execution_count": 4
    }
   ],
   "metadata": {}
  },
  {
   "cell_type": "code",
   "execution_count": 6,
   "source": [
    "int('123')"
   ],
   "outputs": [
    {
     "output_type": "execute_result",
     "data": {
      "text/plain": [
       "123"
      ]
     },
     "metadata": {},
     "execution_count": 6
    }
   ],
   "metadata": {}
  },
  {
   "cell_type": "code",
   "execution_count": 9,
   "source": [
    "name = input('이름이 무엇인가요? ')\r\n",
    "age = int(input('나이가 몇 살이신가요? '))\r\n",
    "print(f'이름이 {name}, 나이가 {age}살입니다.')"
   ],
   "outputs": [
    {
     "output_type": "stream",
     "name": "stdout",
     "text": [
      "이름이 이현우, 나이가 18살입니다.\n"
     ]
    }
   ],
   "metadata": {}
  },
  {
   "cell_type": "markdown",
   "source": [
    "## 파이썬 기본 실습"
   ],
   "metadata": {}
  },
  {
   "cell_type": "markdown",
   "source": [
    "### 실습 1. `input('설명')` 함수로 값 입력받기"
   ],
   "metadata": {}
  },
  {
   "cell_type": "code",
   "execution_count": 12,
   "source": [
    "a = int(input('첫번째 숫자 입력'))\r\n",
    "b = int(input('두번째 숫자 입력'))\r\n",
    "\r\n",
    "result = a + b\r\n",
    "print(a, '+', b, '=', result)"
   ],
   "outputs": [
    {
     "output_type": "stream",
     "name": "stdout",
     "text": [
      "10 + 23 = 33\n"
     ]
    }
   ],
   "metadata": {}
  },
  {
   "cell_type": "markdown",
   "source": [
    "### 실습 2. 두 수를 **실수**로 입력받아 사칙연산해 보자 (계산기)"
   ],
   "metadata": {}
  },
  {
   "cell_type": "code",
   "execution_count": 13,
   "source": [
    "# 사칙연산\r\n",
    "\r\n",
    "a = float(input('숫자 1: '))\r\n",
    "b = float(input('숫자 2: '))\r\n",
    "\r\n",
    "print(f'덧셈: {a}+{b}={a + b}')\r\n",
    "print(f'뺄셈: {a}-{b}={a - b}')\r\n",
    "print(f'곱셈: {a}*{b}={a * b}')\r\n",
    "print(f'나눗셈: {a}/{b}={a / b}')"
   ],
   "outputs": [
    {
     "output_type": "stream",
     "name": "stdout",
     "text": [
      "덧셈: 123+25=148\n",
      "뺄셈: 123-25=98\n",
      "곱셈: 123*25=3075\n",
      "나눗셈: 123/25=4.92\n"
     ]
    }
   ],
   "metadata": {}
  },
  {
   "cell_type": "markdown",
   "source": [
    "### 실습 3. 다음 코드를 실행해 보세요."
   ],
   "metadata": {}
  },
  {
   "cell_type": "code",
   "execution_count": 18,
   "source": [
    "s = 'Hello Python'\r\n",
    "print(s[6:10])\r\n",
    "print(s[-6:-2])\r\n",
    "print(s[0:10:2])\r\n",
    "print(s[-1:-7:-1])"
   ],
   "outputs": [
    {
     "output_type": "stream",
     "name": "stdout",
     "text": [
      "Pyth\n",
      "Pyth\n",
      "HloPt\n",
      "nohtyP\n"
     ]
    }
   ],
   "metadata": {}
  },
  {
   "cell_type": "code",
   "execution_count": 30,
   "source": [
    "'Hello, world!'[::-1]"
   ],
   "outputs": [
    {
     "output_type": "execute_result",
     "data": {
      "text/plain": [
       "'요세하녕안'"
      ]
     },
     "metadata": {},
     "execution_count": 30
    }
   ],
   "metadata": {}
  },
  {
   "cell_type": "markdown",
   "source": [
    "## 조건문"
   ],
   "metadata": {}
  },
  {
   "cell_type": "code",
   "execution_count": 1,
   "source": [
    "# 논리 테이블\r\n",
    "\r\n",
    "def condition(a, b):\r\n",
    "  print(f'{a} and {b} = {a and b}')\r\n",
    "  print(f'{a} or {b} = {a or b}')\r\n",
    "\r\n",
    "condition(False, False)\r\n",
    "condition(False, True)\r\n",
    "condition(True, False)\r\n",
    "condition(True, True)"
   ],
   "outputs": [
    {
     "output_type": "stream",
     "name": "stdout",
     "text": [
      "False and False = False\n",
      "False or False = False\n",
      "False and True = False\n",
      "False or True = True\n",
      "True and False = False\n",
      "True or False = True\n",
      "True and True = True\n",
      "True or True = True\n"
     ]
    }
   ],
   "metadata": {}
  },
  {
   "cell_type": "code",
   "execution_count": 5,
   "source": [
    "data = int(input('숫자를 입력해라'))\r\n",
    "print(f'{data}라니...', end=' ')\r\n",
    "\r\n",
    "if data < 100:\r\n",
    "  print('100보다 작네')\r\n",
    "else:\r\n",
    "  print('100 이상이네')"
   ],
   "outputs": [
    {
     "output_type": "stream",
     "name": "stdout",
     "text": [
      "15라니... 100보다 작네\n"
     ]
    }
   ],
   "metadata": {}
  },
  {
   "cell_type": "markdown",
   "source": [
    "### 실습 1. 기온이 28도 이상이면 '아이스 커피'를, 28도보다 낮으면 '뜨거운 차'를 출력하는 프로그램을 출력하는 프로그램을 작성하시오."
   ],
   "metadata": {}
  },
  {
   "cell_type": "code",
   "execution_count": 9,
   "source": [
    "temperature = 30\r\n",
    "if temperature >= 28:\r\n",
    "  print('아이스 커피')\r\n",
    "else:\r\n",
    "  print('뜨거운 차')"
   ],
   "outputs": [
    {
     "output_type": "stream",
     "name": "stdout",
     "text": [
      "아이스 커피\n"
     ]
    }
   ],
   "metadata": {}
  },
  {
   "cell_type": "markdown",
   "source": [
    "### 실습 2. 다음 코드를 실행하고 결과를 확인하시오."
   ],
   "metadata": {}
  },
  {
   "cell_type": "code",
   "execution_count": null,
   "source": [
    "a = 200\r\n",
    "if a < 100:\r\n",
    "  print('참')\r\n",
    "  print('참이면 출력')\r\n",
    "else:\r\n",
    "  print('거짓')\r\n",
    "  print('거짓이면 출력')\r\n",
    "\r\n",
    "print('프로그램 끝!')"
   ],
   "outputs": [],
   "metadata": {}
  },
  {
   "cell_type": "markdown",
   "source": [
    "### 실습 3. 정수를 입력받아 짝수인지 홀수인지 출력하는 프로그램을 작성하시오."
   ],
   "metadata": {}
  },
  {
   "cell_type": "code",
   "execution_count": 10,
   "source": [
    "number = int(input('정수를 입력하세요: '))\r\n",
    "print('짝수' if number % 2 == 0 else '홀수')"
   ],
   "outputs": [
    {
     "output_type": "stream",
     "name": "stdout",
     "text": [
      "짝수\n"
     ]
    }
   ],
   "metadata": {}
  },
  {
   "cell_type": "markdown",
   "source": [
    "### 실습 4. 산술연산자를 이용하여 다음과 같은 동전교환 프로그램을 작성하시오."
   ],
   "metadata": {}
  },
  {
   "cell_type": "code",
   "execution_count": 5,
   "source": [
    "coins = [500, 100, 50, 10]"
   ],
   "outputs": [],
   "metadata": {}
  },
  {
   "cell_type": "code",
   "execution_count": 6,
   "source": [
    "money = int(input('교환할 돈이 얼마인가요?'))\r\n",
    "print(f'전액: {money}')\r\n",
    "\r\n",
    "for coin in coins:\r\n",
    "  (count, money) = divmod(money, coin)\r\n",
    "  print(f'{coin}원 {count}개')\r\n",
    "\r\n",
    "print(f'남은 돈: {money}')"
   ],
   "outputs": [
    {
     "output_type": "stream",
     "name": "stdout",
     "text": [
      "전액: 14340\n",
      "500원 28개\n",
      "100원 3개\n",
      "50원 0개\n",
      "10원 4개\n",
      "남은 돈: 0\n"
     ]
    }
   ],
   "metadata": {}
  },
  {
   "cell_type": "markdown",
   "source": [
    "### 실습 5. 90점 이상은 A, ..., 60점 이상은 D, 그 외에는 F로 처리하는 프로그램을 작성하시오."
   ],
   "metadata": {}
  },
  {
   "cell_type": "code",
   "execution_count": 3,
   "source": [
    "score = int(input('점수를 입력하세요: '))\r\n",
    "if score >= 90:\r\n",
    "  grade = 'A'\r\n",
    "elif score >= 80:\r\n",
    "  grade = 'B'\r\n",
    "elif score >= 70:\r\n",
    "  grade = 'C'\r\n",
    "elif score >= 60:\r\n",
    "  grade = 'D'\r\n",
    "else:\r\n",
    "  grade = 'F'\r\n",
    "\r\n",
    "print(f'학점: {grade}')"
   ],
   "outputs": [
    {
     "output_type": "stream",
     "name": "stdout",
     "text": [
      "학점: B\n"
     ]
    }
   ],
   "metadata": {}
  },
  {
   "cell_type": "markdown",
   "source": [
    "### 실습8. 구분에 따라 고객 수를 입력하면 입장료를 계산하는 프로그램을 작성하시오."
   ],
   "metadata": {}
  },
  {
   "cell_type": "code",
   "execution_count": 2,
   "source": [
    "under13 = int(input('13세 미만의 고객 수: '))\r\n",
    "from13to64 = int(input('13세~64세의 고객 수: '))\r\n",
    "above65 = int(input('65세 이상의 고객 수: '))\r\n",
    "\r\n",
    "allClients = under13 + from13to64 + above65\r\n",
    "money = under13 * 5000 + from13to64 * 10000 + above65 * 7000\r\n",
    "if allClients >= 10: money = money * 0.8\r\n",
    "\r\n",
    "print(f'총 요금: {int(money)}원')"
   ],
   "outputs": [
    {
     "output_type": "stream",
     "name": "stdout",
     "text": [
      "총 요금: 73600.0\n"
     ]
    }
   ],
   "metadata": {}
  },
  {
   "cell_type": "markdown",
   "source": [
    "### 실습 9. 윤년을 판정하는 프로그램을 작성하시오."
   ],
   "metadata": {}
  },
  {
   "cell_type": "code",
   "execution_count": 1,
   "source": [
    "year = 2021\r\n",
    "\r\n",
    "if year % 400 == 0:\r\n",
    "  leap = True\r\n",
    "elif year % 100 == 0:\r\n",
    "  leap = False\r\n",
    "elif year % 4 == 0:\r\n",
    "  leap = True\r\n",
    "else:\r\n",
    "  leap = False\r\n",
    "\r\n",
    "print(f'{year}년은 윤년{\"입니다\" if leap else \"이 아닙니다\"}.')"
   ],
   "outputs": [
    {
     "output_type": "stream",
     "name": "stdout",
     "text": [
      "2021년은 윤년이 아닙니다.\n"
     ]
    }
   ],
   "metadata": {}
  }
 ],
 "metadata": {
  "orig_nbformat": 4,
  "language_info": {
   "name": "python",
   "version": "3.8.5",
   "mimetype": "text/x-python",
   "codemirror_mode": {
    "name": "ipython",
    "version": 3
   },
   "pygments_lexer": "ipython3",
   "nbconvert_exporter": "python",
   "file_extension": ".py"
  },
  "kernelspec": {
   "name": "python3",
   "display_name": "Python 3.8.5 32-bit ('.env': venv)"
  },
  "interpreter": {
   "hash": "ab3989ebfc5c9b8a15c91069f190fe2b31043491272e6a265c6f06426159f4f3"
  }
 },
 "nbformat": 4,
 "nbformat_minor": 2
}