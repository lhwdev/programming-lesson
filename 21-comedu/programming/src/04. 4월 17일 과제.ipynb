{
  "cells": [
    {
      "cell_type": "markdown",
      "metadata": {
        "id": "yO6-1RpOJRTQ"
      },
      "source": [
        "# 4차시"
      ]
    },
    {
      "cell_type": "code",
      "execution_count": 4,
      "metadata": {
        "id": "zvOZfD7IMPlc"
      },
      "outputs": [],
      "source": [
        "# 기본 설정\n",
        "import ipywidgets as widgets # 실시간 업데이트: 완전 좋은 기능"
      ]
    },
    {
      "cell_type": "markdown",
      "metadata": {
        "id": "Yw6KezlVJT--"
      },
      "source": [
        "## 지난 차시 복습"
      ]
    },
    {
      "cell_type": "code",
      "execution_count": 5,
      "metadata": {
        "colab": {
          "base_uri": "https://localhost:8080/"
        },
        "id": "LZ7rQncOJXkC",
        "outputId": "c0af627e-a4e7-441a-b1fc-d464d975d8d8"
      },
      "outputs": [
        {
          "name": "stdout",
          "output_type": "stream",
          "text": [
            "2\n"
          ]
        }
      ],
      "source": [
        "s = [1, 3, 3, 5]\n",
        "a = s.count(3)\n",
        "print(a) #@markdown 예상결과: `2`"
      ]
    },
    {
      "cell_type": "code",
      "execution_count": 6,
      "metadata": {
        "colab": {
          "base_uri": "https://localhost:8080/"
        },
        "id": "4A5xRBxJJdcD",
        "outputId": "584e4bbf-d72c-4e03-81ba-b9b3fb51112b"
      },
      "outputs": [
        {
          "name": "stdout",
          "output_type": "stream",
          "text": [
            "2\n"
          ]
        }
      ],
      "source": [
        "a = s.index(3, 2)\n",
        "print(a) #@markdown 예상결과: `2`"
      ]
    },
    {
      "cell_type": "code",
      "execution_count": 7,
      "metadata": {
        "colab": {
          "base_uri": "https://localhost:8080/"
        },
        "id": "MY_eH-kNJjzP",
        "outputId": "b1217689-6813-4a81-9177-8e4b6a26482e"
      },
      "outputs": [
        {
          "name": "stdout",
          "output_type": "stream",
          "text": [
            "[1, 3, 3, 4, 5]\n"
          ]
        }
      ],
      "source": [
        "s = [1, 3, 3, 5]\n",
        "s.insert(3, 4)\n",
        "print(s) #@markdown 예상결과: `[1, 3, 3, 4, 5]`"
      ]
    },
    {
      "cell_type": "code",
      "execution_count": 8,
      "metadata": {
        "colab": {
          "base_uri": "https://localhost:8080/"
        },
        "id": "-11t6fTMJsGk",
        "outputId": "6218e3ba-7d18-4cb0-efac-9926e1ff31c9"
      },
      "outputs": [
        {
          "name": "stdout",
          "output_type": "stream",
          "text": [
            "[1, 3, 5, 5, 7]\n"
          ]
        }
      ],
      "source": [
        "s = [1, 5, 3, 7, 5]\n",
        "s.sort()\n",
        "print(s) #@markdown 예상결과: 오름차순으로 정렬된 거"
      ]
    },
    {
      "cell_type": "code",
      "execution_count": 9,
      "metadata": {
        "colab": {
          "base_uri": "https://localhost:8080/"
        },
        "id": "LWwAw_DIJ6Lw",
        "outputId": "7fa7c022-fdb3-4e09-f2a9-e889b463b823"
      },
      "outputs": [
        {
          "name": "stdout",
          "output_type": "stream",
          "text": [
            "['You', 'py.', 'need']\n"
          ]
        }
      ],
      "source": [
        "a = 'You need py.'.split()\n",
        "a.sort(key=str.lower, reverse=True)\n",
        "print(a) #@markdown 예상결과: `['You', 'py.', 'need']`"
      ]
    },
    {
      "cell_type": "code",
      "execution_count": 10,
      "metadata": {
        "colab": {
          "base_uri": "https://localhost:8080/"
        },
        "id": "WQcVFpoAKGuy",
        "outputId": "4676da38-7148-4aff-85c5-356edf0d881e"
      },
      "outputs": [
        {
          "name": "stdout",
          "output_type": "stream",
          "text": [
            "--str method test---\n"
          ]
        }
      ],
      "source": [
        "s = 'str method test'\n",
        "print(s.center(20, '-')) #@markdown 예상결과: 대충 좌우에 '-' 반복해서 20글자"
      ]
    },
    {
      "cell_type": "code",
      "execution_count": 11,
      "metadata": {
        "colab": {
          "base_uri": "https://localhost:8080/"
        },
        "id": "MWqVAMycKSB1",
        "outputId": "2fdb4d75-3079-4a4b-84a1-9c8605c2ad1e"
      },
      "outputs": [
        {
          "name": "stdout",
          "output_type": "stream",
          "text": [
            "4\n"
          ]
        }
      ],
      "source": [
        "print(s.find('met')) #@markdown 예상결과: `4`"
      ]
    },
    {
      "cell_type": "code",
      "execution_count": 12,
      "metadata": {
        "colab": {
          "base_uri": "https://localhost:8080/"
        },
        "id": "2QwryGuOKXeQ",
        "outputId": "82a25cd2-7789-4b91-87c2-2cd5f79517b1"
      },
      "outputs": [
        {
          "name": "stdout",
          "output_type": "stream",
          "text": [
            "['str', 'method test']\n"
          ]
        }
      ],
      "source": [
        "print(s.split(' ', 1)) #@markdown 예상결과: str, method test"
      ]
    },
    {
      "cell_type": "code",
      "execution_count": 13,
      "metadata": {
        "colab": {
          "base_uri": "https://localhost:8080/"
        },
        "id": "d8N_xnf6KdRY",
        "outputId": "57740c30-bec7-40f5-afdc-128f3f8afec3"
      },
      "outputs": [
        {
          "name": "stdout",
          "output_type": "stream",
          "text": [
            "0000035\n"
          ]
        }
      ],
      "source": [
        "s = '35'\n",
        "print(s.zfill(7)) #@markdown 예상결과: 0000035"
      ]
    },
    {
      "cell_type": "code",
      "execution_count": 14,
      "metadata": {
        "colab": {
          "base_uri": "https://localhost:8080/"
        },
        "id": "hJy6sX-0KqLj",
        "outputId": "13f9118f-cccf-465b-968d-bee41d69c20b"
      },
      "outputs": [
        {
          "name": "stdout",
          "output_type": "stream",
          "text": [
            "  banana  \n"
          ]
        }
      ],
      "source": [
        "name = 'banana'\n",
        "print('{0:^10}'.format(name)) #@markdown 예상결과: `'  banana  '`"
      ]
    },
    {
      "cell_type": "markdown",
      "metadata": {
        "id": "sLhVywaeL17q"
      },
      "source": [
        "## 2. 과제 #1: '동전 문제'\n",
        "거스름돈이 1000원 미만 > 최소 동전 개수\n",
        "동전: 500, 100, 50, 10, 5, 1원"
      ]
    },
    {
      "cell_type": "code",
      "execution_count": 15,
      "metadata": {
        "colab": {
          "base_uri": "https://localhost:8080/",
          "height": 66,
          "referenced_widgets": [
            "13d41ff1f21f453da31b15907de3810d",
            "a468c4d49ef146859e62d4d02181256c",
            "a9af0ab34184467a9314818e25a5c590",
            "51404f1a30c54fc8bee5a9f5a3ccafb1",
            "a59404f33ec0421b9e03f062e8bd8780",
            "db29b9fd5f79467e8b89b932c160b34c",
            "2154018b556941b1b5f5244dd55b4c16"
          ]
        },
        "id": "e9eQNiBULD-K",
        "outputId": "b79814a6-4f6b-4c7c-e794-a89caf3d651b"
      },
      "outputs": [
        {
          "data": {
            "application/vnd.jupyter.widget-view+json": {
              "model_id": "4855b57c8da74e5bb76e290424722560",
              "version_major": 2,
              "version_minor": 0
            },
            "text/plain": "interactive(children=(IntSlider(value=637, description='m', max=999, min=1), Output()), _dom_classes=('widget-…"
          },
          "metadata": {},
          "output_type": "display_data"
        }
      ],
      "source": [
        "# 일단 높은 돈을 먼저 쓰기\n",
        "coinKinds = [500, 100, 50, 10, 5, 1] #@param\n",
        "\n",
        "@widgets.interact(m=widgets.IntSlider(min=1, max=999, step=1, value=637))\n",
        "def calculateMoney(m):\n",
        "  # checks\n",
        "  if not isinstance(m, int):\n",
        "    raise TypeError('Money should be integer')\n",
        "  if m <= 0:\n",
        "    raise Exception('Money should be positive')\n",
        "  \n",
        "  coinCounts = []\n",
        "  current = m\n",
        "  index = 0\n",
        "\n",
        "  while current > 0:\n",
        "    if index >= len(coinKinds):\n",
        "      raise 'Unexpected index'\n",
        "\n",
        "    kind = coinKinds[index]\n",
        "    count, current = divmod(current, kind)\n",
        "\n",
        "    coinCounts.append(count)\n",
        "    index += 1\n",
        "  \n",
        "  return {kind: (0 if index >= len(coinCounts) else coinCounts[index]) for index, kind in enumerate(coinKinds)}"
      ]
    },
    {
      "cell_type": "markdown",
      "metadata": {
        "id": "8FaNr9QCQv4o"
      },
      "source": [
        "## 3. 과제 #2: 토끼와 거북이\n",
        "**예시 상황:**  \n",
        "거리: 99 km  \n",
        "v = 토끼: 9 km/hour, 거북이: -2 km/hour  \n",
        "t = 9 hour  "
      ]
    },
    {
      "cell_type": "code",
      "execution_count": 16,
      "metadata": {
        "colab": {
          "base_uri": "https://localhost:8080/",
          "height": 131,
          "referenced_widgets": [
            "c652a85db5644033ade653ffeb77c4e2",
            "783c185c34314e7cb6bca549087a2138",
            "1b3e251b266643e3b83bcd8bb786a561",
            "7e585c7e10d04258ab90b0f45822a77f",
            "362bf507448940a4a009ddfba4e7beeb",
            "5d97b241c312445e9c95db4c48854cfb",
            "d7798d85cd724917bfcf3f5a1ee0655c",
            "8e25b634a0724c679e297e727f15665a",
            "22f050bb7b954109ab17f63758cbc669",
            "fcc33f5fb96a4947963292663494f208",
            "35311c9a66a942299a8f67b03c434304",
            "740253cc34204ba78b74922e4bff088c",
            "43aa1ba2dc8b4a7bb99de245cb65ea4b"
          ]
        },
        "id": "fddJ8asvROA8",
        "outputId": "107260f2-514a-403b-b668-24e2719f186e"
      },
      "outputs": [
        {
          "data": {
            "application/vnd.jupyter.widget-view+json": {
              "model_id": "3149b985601a495e901635d1debfbd23",
              "version_major": 2,
              "version_minor": 0
            },
            "text/plain": "interactive(children=(IntSlider(value=99, description='m', max=297, min=-99), IntSlider(value=9, description='…"
          },
          "metadata": {},
          "output_type": "display_data"
        }
      ],
      "source": [
        "@widgets.interact(m=99, a=9, b=2)\n",
        "def rabbitTurtle(m, a, b):\n",
        "  t = m / (a + b)\n",
        "  ka = t * a\n",
        "  kb = t * b\n",
        "  return f'둘이 만났을 때 토끼는 {round(ka, 3)} km, 거북이는 {round(kb, 3)} km를 달려 왔습니다.'"
      ]
    }
  ],
  "metadata": {
    "colab": {
      "authorship_tag": "ABX9TyMXbKTOxW3mMozQmNDIXFLm",
      "collapsed_sections": [],
      "name": "4월 17일 과제.ipynb",
      "provenance": []
    },
    "kernelspec": {
      "display_name": "Python 3",
      "name": "python3"
    },
    "language_info": {
      "name": "python"
    },
    "widgets": {
      "application/vnd.jupyter.widget-state+json": {
        "13d41ff1f21f453da31b15907de3810d": {
          "model_module": "@jupyter-widgets/controls",
          "model_name": "VBoxModel",
          "state": {
            "_dom_classes": [
              "widget-interact"
            ],
            "_model_module": "@jupyter-widgets/controls",
            "_model_module_version": "1.5.0",
            "_model_name": "VBoxModel",
            "_view_count": null,
            "_view_module": "@jupyter-widgets/controls",
            "_view_module_version": "1.5.0",
            "_view_name": "VBoxView",
            "box_style": "",
            "children": [
              "IPY_MODEL_a9af0ab34184467a9314818e25a5c590",
              "IPY_MODEL_51404f1a30c54fc8bee5a9f5a3ccafb1"
            ],
            "layout": "IPY_MODEL_a468c4d49ef146859e62d4d02181256c"
          }
        },
        "1b3e251b266643e3b83bcd8bb786a561": {
          "model_module": "@jupyter-widgets/controls",
          "model_name": "IntSliderModel",
          "state": {
            "_dom_classes": [],
            "_model_module": "@jupyter-widgets/controls",
            "_model_module_version": "1.5.0",
            "_model_name": "IntSliderModel",
            "_view_count": null,
            "_view_module": "@jupyter-widgets/controls",
            "_view_module_version": "1.5.0",
            "_view_name": "IntSliderView",
            "continuous_update": true,
            "description": "m",
            "description_tooltip": null,
            "disabled": false,
            "layout": "IPY_MODEL_8e25b634a0724c679e297e727f15665a",
            "max": 297,
            "min": -99,
            "orientation": "horizontal",
            "readout": true,
            "readout_format": "d",
            "step": 1,
            "style": "IPY_MODEL_d7798d85cd724917bfcf3f5a1ee0655c",
            "value": 200
          }
        },
        "2154018b556941b1b5f5244dd55b4c16": {
          "model_module": "@jupyter-widgets/base",
          "model_name": "LayoutModel",
          "state": {
            "_model_module": "@jupyter-widgets/base",
            "_model_module_version": "1.2.0",
            "_model_name": "LayoutModel",
            "_view_count": null,
            "_view_module": "@jupyter-widgets/base",
            "_view_module_version": "1.2.0",
            "_view_name": "LayoutView",
            "align_content": null,
            "align_items": null,
            "align_self": null,
            "border": null,
            "bottom": null,
            "display": null,
            "flex": null,
            "flex_flow": null,
            "grid_area": null,
            "grid_auto_columns": null,
            "grid_auto_flow": null,
            "grid_auto_rows": null,
            "grid_column": null,
            "grid_gap": null,
            "grid_row": null,
            "grid_template_areas": null,
            "grid_template_columns": null,
            "grid_template_rows": null,
            "height": null,
            "justify_content": null,
            "justify_items": null,
            "left": null,
            "margin": null,
            "max_height": null,
            "max_width": null,
            "min_height": null,
            "min_width": null,
            "object_fit": null,
            "object_position": null,
            "order": null,
            "overflow": null,
            "overflow_x": null,
            "overflow_y": null,
            "padding": null,
            "right": null,
            "top": null,
            "visibility": null,
            "width": null
          }
        },
        "22f050bb7b954109ab17f63758cbc669": {
          "model_module": "@jupyter-widgets/controls",
          "model_name": "SliderStyleModel",
          "state": {
            "_model_module": "@jupyter-widgets/controls",
            "_model_module_version": "1.5.0",
            "_model_name": "SliderStyleModel",
            "_view_count": null,
            "_view_module": "@jupyter-widgets/base",
            "_view_module_version": "1.2.0",
            "_view_name": "StyleView",
            "description_width": "",
            "handle_color": null
          }
        },
        "35311c9a66a942299a8f67b03c434304": {
          "model_module": "@jupyter-widgets/controls",
          "model_name": "SliderStyleModel",
          "state": {
            "_model_module": "@jupyter-widgets/controls",
            "_model_module_version": "1.5.0",
            "_model_name": "SliderStyleModel",
            "_view_count": null,
            "_view_module": "@jupyter-widgets/base",
            "_view_module_version": "1.2.0",
            "_view_name": "StyleView",
            "description_width": "",
            "handle_color": null
          }
        },
        "362bf507448940a4a009ddfba4e7beeb": {
          "model_module": "@jupyter-widgets/controls",
          "model_name": "IntSliderModel",
          "state": {
            "_dom_classes": [],
            "_model_module": "@jupyter-widgets/controls",
            "_model_module_version": "1.5.0",
            "_model_name": "IntSliderModel",
            "_view_count": null,
            "_view_module": "@jupyter-widgets/controls",
            "_view_module_version": "1.5.0",
            "_view_name": "IntSliderView",
            "continuous_update": true,
            "description": "b",
            "description_tooltip": null,
            "disabled": false,
            "layout": "IPY_MODEL_740253cc34204ba78b74922e4bff088c",
            "max": 6,
            "min": -2,
            "orientation": "horizontal",
            "readout": true,
            "readout_format": "d",
            "step": 1,
            "style": "IPY_MODEL_35311c9a66a942299a8f67b03c434304",
            "value": 2
          }
        },
        "43aa1ba2dc8b4a7bb99de245cb65ea4b": {
          "model_module": "@jupyter-widgets/base",
          "model_name": "LayoutModel",
          "state": {
            "_model_module": "@jupyter-widgets/base",
            "_model_module_version": "1.2.0",
            "_model_name": "LayoutModel",
            "_view_count": null,
            "_view_module": "@jupyter-widgets/base",
            "_view_module_version": "1.2.0",
            "_view_name": "LayoutView",
            "align_content": null,
            "align_items": null,
            "align_self": null,
            "border": null,
            "bottom": null,
            "display": null,
            "flex": null,
            "flex_flow": null,
            "grid_area": null,
            "grid_auto_columns": null,
            "grid_auto_flow": null,
            "grid_auto_rows": null,
            "grid_column": null,
            "grid_gap": null,
            "grid_row": null,
            "grid_template_areas": null,
            "grid_template_columns": null,
            "grid_template_rows": null,
            "height": null,
            "justify_content": null,
            "justify_items": null,
            "left": null,
            "margin": null,
            "max_height": null,
            "max_width": null,
            "min_height": null,
            "min_width": null,
            "object_fit": null,
            "object_position": null,
            "order": null,
            "overflow": null,
            "overflow_x": null,
            "overflow_y": null,
            "padding": null,
            "right": null,
            "top": null,
            "visibility": null,
            "width": null
          }
        },
        "51404f1a30c54fc8bee5a9f5a3ccafb1": {
          "model_module": "@jupyter-widgets/output",
          "model_name": "OutputModel",
          "state": {
            "_dom_classes": [],
            "_model_module": "@jupyter-widgets/output",
            "_model_module_version": "1.0.0",
            "_model_name": "OutputModel",
            "_view_count": null,
            "_view_module": "@jupyter-widgets/output",
            "_view_module_version": "1.0.0",
            "_view_name": "OutputView",
            "layout": "IPY_MODEL_2154018b556941b1b5f5244dd55b4c16",
            "msg_id": "",
            "outputs": [
              {
                "metadata": {
                  "tags": []
                },
                "output_type": "display_data",
                "text/plain": "{1: 3, 5: 0, 10: 4, 50: 0, 100: 2, 500: 1}"
              }
            ]
          }
        },
        "5d97b241c312445e9c95db4c48854cfb": {
          "model_module": "@jupyter-widgets/output",
          "model_name": "OutputModel",
          "state": {
            "_dom_classes": [],
            "_model_module": "@jupyter-widgets/output",
            "_model_module_version": "1.0.0",
            "_model_name": "OutputModel",
            "_view_count": null,
            "_view_module": "@jupyter-widgets/output",
            "_view_module_version": "1.0.0",
            "_view_name": "OutputView",
            "layout": "IPY_MODEL_43aa1ba2dc8b4a7bb99de245cb65ea4b",
            "msg_id": "",
            "outputs": [
              {
                "application/vnd.google.colaboratory.intrinsic+json": {
                  "type": "string"
                },
                "metadata": {
                  "tags": []
                },
                "output_type": "display_data",
                "text/plain": "'둘이 만났을 때 토끼는 160.0 km, 거북이는 40.0 km를 달려 왔습니다.'"
              }
            ]
          }
        },
        "740253cc34204ba78b74922e4bff088c": {
          "model_module": "@jupyter-widgets/base",
          "model_name": "LayoutModel",
          "state": {
            "_model_module": "@jupyter-widgets/base",
            "_model_module_version": "1.2.0",
            "_model_name": "LayoutModel",
            "_view_count": null,
            "_view_module": "@jupyter-widgets/base",
            "_view_module_version": "1.2.0",
            "_view_name": "LayoutView",
            "align_content": null,
            "align_items": null,
            "align_self": null,
            "border": null,
            "bottom": null,
            "display": null,
            "flex": null,
            "flex_flow": null,
            "grid_area": null,
            "grid_auto_columns": null,
            "grid_auto_flow": null,
            "grid_auto_rows": null,
            "grid_column": null,
            "grid_gap": null,
            "grid_row": null,
            "grid_template_areas": null,
            "grid_template_columns": null,
            "grid_template_rows": null,
            "height": null,
            "justify_content": null,
            "justify_items": null,
            "left": null,
            "margin": null,
            "max_height": null,
            "max_width": null,
            "min_height": null,
            "min_width": null,
            "object_fit": null,
            "object_position": null,
            "order": null,
            "overflow": null,
            "overflow_x": null,
            "overflow_y": null,
            "padding": null,
            "right": null,
            "top": null,
            "visibility": null,
            "width": null
          }
        },
        "783c185c34314e7cb6bca549087a2138": {
          "model_module": "@jupyter-widgets/base",
          "model_name": "LayoutModel",
          "state": {
            "_model_module": "@jupyter-widgets/base",
            "_model_module_version": "1.2.0",
            "_model_name": "LayoutModel",
            "_view_count": null,
            "_view_module": "@jupyter-widgets/base",
            "_view_module_version": "1.2.0",
            "_view_name": "LayoutView",
            "align_content": null,
            "align_items": null,
            "align_self": null,
            "border": null,
            "bottom": null,
            "display": null,
            "flex": null,
            "flex_flow": null,
            "grid_area": null,
            "grid_auto_columns": null,
            "grid_auto_flow": null,
            "grid_auto_rows": null,
            "grid_column": null,
            "grid_gap": null,
            "grid_row": null,
            "grid_template_areas": null,
            "grid_template_columns": null,
            "grid_template_rows": null,
            "height": null,
            "justify_content": null,
            "justify_items": null,
            "left": null,
            "margin": null,
            "max_height": null,
            "max_width": null,
            "min_height": null,
            "min_width": null,
            "object_fit": null,
            "object_position": null,
            "order": null,
            "overflow": null,
            "overflow_x": null,
            "overflow_y": null,
            "padding": null,
            "right": null,
            "top": null,
            "visibility": null,
            "width": null
          }
        },
        "7e585c7e10d04258ab90b0f45822a77f": {
          "model_module": "@jupyter-widgets/controls",
          "model_name": "IntSliderModel",
          "state": {
            "_dom_classes": [],
            "_model_module": "@jupyter-widgets/controls",
            "_model_module_version": "1.5.0",
            "_model_name": "IntSliderModel",
            "_view_count": null,
            "_view_module": "@jupyter-widgets/controls",
            "_view_module_version": "1.5.0",
            "_view_name": "IntSliderView",
            "continuous_update": true,
            "description": "a",
            "description_tooltip": null,
            "disabled": false,
            "layout": "IPY_MODEL_fcc33f5fb96a4947963292663494f208",
            "max": 27,
            "min": -9,
            "orientation": "horizontal",
            "readout": true,
            "readout_format": "d",
            "step": 1,
            "style": "IPY_MODEL_22f050bb7b954109ab17f63758cbc669",
            "value": 8
          }
        },
        "8e25b634a0724c679e297e727f15665a": {
          "model_module": "@jupyter-widgets/base",
          "model_name": "LayoutModel",
          "state": {
            "_model_module": "@jupyter-widgets/base",
            "_model_module_version": "1.2.0",
            "_model_name": "LayoutModel",
            "_view_count": null,
            "_view_module": "@jupyter-widgets/base",
            "_view_module_version": "1.2.0",
            "_view_name": "LayoutView",
            "align_content": null,
            "align_items": null,
            "align_self": null,
            "border": null,
            "bottom": null,
            "display": null,
            "flex": null,
            "flex_flow": null,
            "grid_area": null,
            "grid_auto_columns": null,
            "grid_auto_flow": null,
            "grid_auto_rows": null,
            "grid_column": null,
            "grid_gap": null,
            "grid_row": null,
            "grid_template_areas": null,
            "grid_template_columns": null,
            "grid_template_rows": null,
            "height": null,
            "justify_content": null,
            "justify_items": null,
            "left": null,
            "margin": null,
            "max_height": null,
            "max_width": null,
            "min_height": null,
            "min_width": null,
            "object_fit": null,
            "object_position": null,
            "order": null,
            "overflow": null,
            "overflow_x": null,
            "overflow_y": null,
            "padding": null,
            "right": null,
            "top": null,
            "visibility": null,
            "width": null
          }
        },
        "a468c4d49ef146859e62d4d02181256c": {
          "model_module": "@jupyter-widgets/base",
          "model_name": "LayoutModel",
          "state": {
            "_model_module": "@jupyter-widgets/base",
            "_model_module_version": "1.2.0",
            "_model_name": "LayoutModel",
            "_view_count": null,
            "_view_module": "@jupyter-widgets/base",
            "_view_module_version": "1.2.0",
            "_view_name": "LayoutView",
            "align_content": null,
            "align_items": null,
            "align_self": null,
            "border": null,
            "bottom": null,
            "display": null,
            "flex": null,
            "flex_flow": null,
            "grid_area": null,
            "grid_auto_columns": null,
            "grid_auto_flow": null,
            "grid_auto_rows": null,
            "grid_column": null,
            "grid_gap": null,
            "grid_row": null,
            "grid_template_areas": null,
            "grid_template_columns": null,
            "grid_template_rows": null,
            "height": null,
            "justify_content": null,
            "justify_items": null,
            "left": null,
            "margin": null,
            "max_height": null,
            "max_width": null,
            "min_height": null,
            "min_width": null,
            "object_fit": null,
            "object_position": null,
            "order": null,
            "overflow": null,
            "overflow_x": null,
            "overflow_y": null,
            "padding": null,
            "right": null,
            "top": null,
            "visibility": null,
            "width": null
          }
        },
        "a59404f33ec0421b9e03f062e8bd8780": {
          "model_module": "@jupyter-widgets/controls",
          "model_name": "SliderStyleModel",
          "state": {
            "_model_module": "@jupyter-widgets/controls",
            "_model_module_version": "1.5.0",
            "_model_name": "SliderStyleModel",
            "_view_count": null,
            "_view_module": "@jupyter-widgets/base",
            "_view_module_version": "1.2.0",
            "_view_name": "StyleView",
            "description_width": "",
            "handle_color": null
          }
        },
        "a9af0ab34184467a9314818e25a5c590": {
          "model_module": "@jupyter-widgets/controls",
          "model_name": "IntSliderModel",
          "state": {
            "_dom_classes": [],
            "_model_module": "@jupyter-widgets/controls",
            "_model_module_version": "1.5.0",
            "_model_name": "IntSliderModel",
            "_view_count": null,
            "_view_module": "@jupyter-widgets/controls",
            "_view_module_version": "1.5.0",
            "_view_name": "IntSliderView",
            "continuous_update": true,
            "description": "m",
            "description_tooltip": null,
            "disabled": false,
            "layout": "IPY_MODEL_db29b9fd5f79467e8b89b932c160b34c",
            "max": 999,
            "min": 1,
            "orientation": "horizontal",
            "readout": true,
            "readout_format": "d",
            "step": 1,
            "style": "IPY_MODEL_a59404f33ec0421b9e03f062e8bd8780",
            "value": 743
          }
        },
        "c652a85db5644033ade653ffeb77c4e2": {
          "model_module": "@jupyter-widgets/controls",
          "model_name": "VBoxModel",
          "state": {
            "_dom_classes": [
              "widget-interact"
            ],
            "_model_module": "@jupyter-widgets/controls",
            "_model_module_version": "1.5.0",
            "_model_name": "VBoxModel",
            "_view_count": null,
            "_view_module": "@jupyter-widgets/controls",
            "_view_module_version": "1.5.0",
            "_view_name": "VBoxView",
            "box_style": "",
            "children": [
              "IPY_MODEL_1b3e251b266643e3b83bcd8bb786a561",
              "IPY_MODEL_7e585c7e10d04258ab90b0f45822a77f",
              "IPY_MODEL_362bf507448940a4a009ddfba4e7beeb",
              "IPY_MODEL_5d97b241c312445e9c95db4c48854cfb"
            ],
            "layout": "IPY_MODEL_783c185c34314e7cb6bca549087a2138"
          }
        },
        "d7798d85cd724917bfcf3f5a1ee0655c": {
          "model_module": "@jupyter-widgets/controls",
          "model_name": "SliderStyleModel",
          "state": {
            "_model_module": "@jupyter-widgets/controls",
            "_model_module_version": "1.5.0",
            "_model_name": "SliderStyleModel",
            "_view_count": null,
            "_view_module": "@jupyter-widgets/base",
            "_view_module_version": "1.2.0",
            "_view_name": "StyleView",
            "description_width": "",
            "handle_color": null
          }
        },
        "db29b9fd5f79467e8b89b932c160b34c": {
          "model_module": "@jupyter-widgets/base",
          "model_name": "LayoutModel",
          "state": {
            "_model_module": "@jupyter-widgets/base",
            "_model_module_version": "1.2.0",
            "_model_name": "LayoutModel",
            "_view_count": null,
            "_view_module": "@jupyter-widgets/base",
            "_view_module_version": "1.2.0",
            "_view_name": "LayoutView",
            "align_content": null,
            "align_items": null,
            "align_self": null,
            "border": null,
            "bottom": null,
            "display": null,
            "flex": null,
            "flex_flow": null,
            "grid_area": null,
            "grid_auto_columns": null,
            "grid_auto_flow": null,
            "grid_auto_rows": null,
            "grid_column": null,
            "grid_gap": null,
            "grid_row": null,
            "grid_template_areas": null,
            "grid_template_columns": null,
            "grid_template_rows": null,
            "height": null,
            "justify_content": null,
            "justify_items": null,
            "left": null,
            "margin": null,
            "max_height": null,
            "max_width": null,
            "min_height": null,
            "min_width": null,
            "object_fit": null,
            "object_position": null,
            "order": null,
            "overflow": null,
            "overflow_x": null,
            "overflow_y": null,
            "padding": null,
            "right": null,
            "top": null,
            "visibility": null,
            "width": null
          }
        },
        "fcc33f5fb96a4947963292663494f208": {
          "model_module": "@jupyter-widgets/base",
          "model_name": "LayoutModel",
          "state": {
            "_model_module": "@jupyter-widgets/base",
            "_model_module_version": "1.2.0",
            "_model_name": "LayoutModel",
            "_view_count": null,
            "_view_module": "@jupyter-widgets/base",
            "_view_module_version": "1.2.0",
            "_view_name": "LayoutView",
            "align_content": null,
            "align_items": null,
            "align_self": null,
            "border": null,
            "bottom": null,
            "display": null,
            "flex": null,
            "flex_flow": null,
            "grid_area": null,
            "grid_auto_columns": null,
            "grid_auto_flow": null,
            "grid_auto_rows": null,
            "grid_column": null,
            "grid_gap": null,
            "grid_row": null,
            "grid_template_areas": null,
            "grid_template_columns": null,
            "grid_template_rows": null,
            "height": null,
            "justify_content": null,
            "justify_items": null,
            "left": null,
            "margin": null,
            "max_height": null,
            "max_width": null,
            "min_height": null,
            "min_width": null,
            "object_fit": null,
            "object_position": null,
            "order": null,
            "overflow": null,
            "overflow_x": null,
            "overflow_y": null,
            "padding": null,
            "right": null,
            "top": null,
            "visibility": null,
            "width": null
          }
        }
      }
    }
  },
  "nbformat": 4,
  "nbformat_minor": 0
}