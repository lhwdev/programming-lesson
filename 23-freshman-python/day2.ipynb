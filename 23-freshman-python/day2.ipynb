{
 "cells": [
  {
   "attachments": {},
   "cell_type": "markdown",
   "metadata": {},
   "source": [
    "# 2일차: 조건문과 반복문 실습\n",
    "\n",
    "`if` - `elif` - `else`"
   ]
  },
  {
   "attachments": {},
   "cell_type": "markdown",
   "metadata": {},
   "source": [
    "## 예제 1. 삼각형 가능 여부"
   ]
  },
  {
   "cell_type": "code",
   "execution_count": 6,
   "metadata": {},
   "outputs": [
    {
     "name": "stdout",
     "output_type": "stream",
     "text": [
      "삼각형 맞음\n"
     ]
    }
   ],
   "source": [
    "# 각 변의 길이\n",
    "a = int(input())\n",
    "b = int(input())\n",
    "c = int(input())\n",
    "\n",
    "isTriangle = (a + b > c) and (b + c > a) and (c + a > b)\n",
    "if(isTriangle):\n",
    "  print(\"삼각형 맞음\")\n",
    "else:\n",
    "  print(\"삼각형 아님\")"
   ]
  },
  {
   "cell_type": "code",
   "execution_count": 4,
   "metadata": {},
   "outputs": [
    {
     "name": "stdout",
     "output_type": "stream",
     "text": [
      "삼각형 여부: False\n"
     ]
    }
   ],
   "source": [
    "# 각 변의 길이\n",
    "a = int(input())\n",
    "b = int(input())\n",
    "c = int(input())\n",
    "\n",
    "a, b, c = sorted((a, b, c))\n",
    "isTriangle = a + b > c\n",
    "\n",
    "print(f\"삼각형 여부: {isTriangle}\")"
   ]
  },
  {
   "attachments": {},
   "cell_type": "markdown",
   "metadata": {},
   "source": [
    "### 문제 1. 백화점 할인율 계산하기\n",
    "\n",
    "- 원피스 5만원, 스웨터 3만원\n",
    "- 10만원 미만 -> -5%\n",
    "- 10 이상~20 미만 만원 -> -10%\n",
    "- 20만원 이상 -> -20%"
   ]
  },
  {
   "cell_type": "code",
   "execution_count": 9,
   "metadata": {},
   "outputs": [
    {
     "name": "stdout",
     "output_type": "stream",
     "text": [
      "총액: 208000.0\n"
     ]
    }
   ],
   "source": [
    "onepiece = int(input(\"원피스 개수: \"))\n",
    "sweater = int(input(\"스웨터 개수: \"))\n",
    "\n",
    "beforePrice = onepiece * 50_000 + sweater * 30_000\n",
    "if beforePrice < 100_000:\n",
    "  discountRate = .05\n",
    "elif beforePrice >= 100_000 and beforePrice < 200_000:\n",
    "  discountRate = .10\n",
    "else:\n",
    "  discountRate = .20\n",
    "\n",
    "afterPrice = beforePrice * (1 - discountRate)\n",
    "print(f\"총액: {int(afterPrice)}\")"
   ]
  },
  {
   "attachments": {},
   "cell_type": "markdown",
   "metadata": {},
   "source": [
    "### 문제 2: 일의 자리가 3, 6, 9인지 여부 판단"
   ]
  },
  {
   "cell_type": "code",
   "execution_count": 12,
   "metadata": {},
   "outputs": [
    {
     "name": "stdout",
     "output_type": "stream",
     "text": [
      "No\n"
     ]
    }
   ],
   "source": [
    "number = int(input(\"숫자를 입력하시오: \"))\n",
    "match(number % 10):\n",
    "  case 3 | 6 | 9:\n",
    "    print(\"Yes\")\n",
    "  case _:\n",
    "    print(\"No\")"
   ]
  },
  {
   "attachments": {},
   "cell_type": "markdown",
   "metadata": {},
   "source": [
    "### 예제 2: 자릿수의 합\n",
    "\n",
    "사용자에게 정수 N (0 < N <= 1000000)을 입력받고 자릿수의 합을 출력하시오."
   ]
  },
  {
   "cell_type": "code",
   "execution_count": 17,
   "metadata": {},
   "outputs": [
    {
     "name": "stdout",
     "output_type": "stream",
     "text": [
      "134의 자릿수의 합은 8입니다.\n"
     ]
    }
   ],
   "source": [
    "initialN = int(input(\"숫자를 입력하시오: \"))\n",
    "N = initialN\n",
    "digitSum = 0\n",
    "\n",
    "while N != 0:\n",
    "  N, digit = divmod(N, 10)\n",
    "  digitSum = digitSum + digit\n",
    "\n",
    "print(f\"{initialN}의 자릿수의 합은 {digitSum}입니다.\")"
   ]
  },
  {
   "cell_type": "code",
   "execution_count": 22,
   "metadata": {},
   "outputs": [
    {
     "name": "stdout",
     "output_type": "stream",
     "text": [
      "12345의 자릿수의 합은 15입니다.\n"
     ]
    }
   ],
   "source": [
    "st = input(\"숫자를 입력하시오: \")\n",
    "digitSum = 0\n",
    "\n",
    "for char in st:\n",
    "  digitSum += int(char)\n",
    "\n",
    "print(f\"{st}의 자릿수의 합은 {digitSum}입니다.\")"
   ]
  },
  {
   "attachments": {},
   "cell_type": "markdown",
   "metadata": {},
   "source": [
    "### 4. 사용자가 입력한 숫자의 합"
   ]
  },
  {
   "cell_type": "code",
   "execution_count": 24,
   "metadata": {},
   "outputs": [
    {
     "name": "stdout",
     "output_type": "stream",
     "text": [
      "37\n"
     ]
    }
   ],
   "source": [
    "nSum = 0\n",
    "while True:\n",
    "  n = int(input(\"숫자를 입력하시오\"))\n",
    "  nSum = nSum + n\n",
    "  if n == 0: break\n",
    "\n",
    "print(nSum)"
   ]
  },
  {
   "attachments": {},
   "cell_type": "markdown",
   "metadata": {},
   "source": [
    "# 3일차"
   ]
  },
  {
   "attachments": {},
   "cell_type": "markdown",
   "metadata": {},
   "source": [
    "### 문제 3: 2^0에서 2^N까지 합"
   ]
  },
  {
   "cell_type": "code",
   "execution_count": 4,
   "metadata": {},
   "outputs": [
    {
     "name": "stdout",
     "output_type": "stream",
     "text": [
      "2^0부터 2^20까지의 합은 2097151입니다.\n"
     ]
    }
   ],
   "source": [
    "N = int(input(\"숫자를 입력하시오: \"))\n",
    "current = 0\n",
    "for i in range(0, N + 1):\n",
    "  current += 2 ** i\n",
    "\n",
    "print(f\"2^0부터 2^{N}까지의 합은 {current}입니다.\")"
   ]
  },
  {
   "attachments": {},
   "cell_type": "markdown",
   "metadata": {},
   "source": [
    "### 문제 5: M * N 직사각형 출력"
   ]
  },
  {
   "cell_type": "code",
   "execution_count": 5,
   "metadata": {},
   "outputs": [
    {
     "name": "stdout",
     "output_type": "stream",
     "text": [
      "*****\n",
      "*****\n",
      "*****\n",
      "*****\n"
     ]
    }
   ],
   "source": [
    "m = int(input(\"가로 길이\"))\n",
    "n = int(input(\"세로 길이\"))\n",
    "\n",
    "for y in range(n):\n",
    "  print(\"*\" * m)"
   ]
  }
 ],
 "metadata": {
  "kernelspec": {
   "display_name": ".env",
   "language": "python",
   "name": "python3"
  },
  "language_info": {
   "codemirror_mode": {
    "name": "ipython",
    "version": 3
   },
   "file_extension": ".py",
   "mimetype": "text/x-python",
   "name": "python",
   "nbconvert_exporter": "python",
   "pygments_lexer": "ipython3",
   "version": "3.11.2"
  },
  "orig_nbformat": 4,
  "vscode": {
   "interpreter": {
    "hash": "dfa9bb193be465cff431c15929154af54568dc79a9c2c79042149b79363c223d"
   }
  }
 },
 "nbformat": 4,
 "nbformat_minor": 2
}
