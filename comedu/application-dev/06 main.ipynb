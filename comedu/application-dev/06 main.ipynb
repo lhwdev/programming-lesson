{
 "cells": [
  {
   "cell_type": "markdown",
   "metadata": {},
   "source": [
    "# 6일차: 위젯 2"
   ]
  },
  {
   "cell_type": "code",
   "execution_count": 1,
   "metadata": {},
   "outputs": [],
   "source": [
    "from tkinter import *"
   ]
  },
  {
   "cell_type": "markdown",
   "metadata": {},
   "source": [
    "## 기타 위젯"
   ]
  },
  {
   "cell_type": "markdown",
   "metadata": {},
   "source": [
    "### 창 크기 바뀌는 것 막기"
   ]
  },
  {
   "cell_type": "code",
   "execution_count": 8,
   "metadata": {},
   "outputs": [],
   "source": [
    "window = Tk()\n",
    "\n",
    "window.title(\"윈도우 창 고정\")\n",
    "window.configure(width=300, height=200)\n",
    "# window.geometry(\"300x200\")\n",
    "window.resizable(width=False, height=False)\n",
    "\n",
    "window.mainloop()"
   ]
  },
  {
   "cell_type": "markdown",
   "metadata": {},
   "source": [
    "### PhotoImage"
   ]
  },
  {
   "cell_type": "code",
   "execution_count": 20,
   "metadata": {},
   "outputs": [],
   "source": [
    "# Showing PhotoImage\n",
    "window = Tk()\n",
    "\n",
    "window.title(\"이미지 넣기?!\")\n",
    "\n",
    "photo = PhotoImage(file=\"assets/dog.gif\", master=window)\n",
    "Label(window, image=photo).pack()\n",
    "\n",
    "window.mainloop()"
   ]
  },
  {
   "cell_type": "code",
   "execution_count": 2,
   "metadata": {},
   "outputs": [],
   "source": [
    "window = Tk()\n",
    "\n",
    "button = Button(window, text=\"창 닫기\", command=lambda: window.destroy())\n",
    "# button = Button(window, text=\"창 닫기\", command=quit)\n",
    "button.pack()\n",
    "\n",
    "window.mainloop()"
   ]
  },
  {
   "cell_type": "markdown",
   "metadata": {},
   "source": [
    "## 메세지 박스"
   ]
  },
  {
   "cell_type": "code",
   "execution_count": 3,
   "metadata": {},
   "outputs": [],
   "source": [
    "from tkinter import messagebox"
   ]
  },
  {
   "cell_type": "code",
   "execution_count": 5,
   "metadata": {},
   "outputs": [],
   "source": [
    "window = Tk()\n",
    "\n",
    "photo = PhotoImage(file=\"assets/dog.gif\", master=window)\n",
    "Button(window, image=photo, command=lambda: messagebox.showinfo(\"알림\", \"안녕하세요\")).pack()\n",
    "\n",
    "window.mainloop()"
   ]
  },
  {
   "cell_type": "markdown",
   "metadata": {},
   "source": [
    "## 체크박스"
   ]
  },
  {
   "cell_type": "code",
   "execution_count": 11,
   "metadata": {},
   "outputs": [],
   "source": [
    "window = Tk()\n",
    "\n",
    "chk = BooleanVar()\n",
    "\n",
    "def onClick():\n",
    "  if(chk.get()):\n",
    "    messagebox.showinfo(\"알림\", \"체크박스가 체크되었습니다.\")\n",
    "  else:\n",
    "    messagebox.showinfo(\"알림\", \"체크박스가 체크되지 않았습니다.\")\n",
    "\n",
    "cb1 = Checkbutton(window, text=\"예! 클릭해보렴!\", variable=chk, command=onClick)\n",
    "cb1.pack()\n",
    "\n",
    "window.mainloop()"
   ]
  },
  {
   "cell_type": "markdown",
   "metadata": {},
   "source": [
    "## 메뉴"
   ]
  },
  {
   "cell_type": "code",
   "execution_count": 13,
   "metadata": {},
   "outputs": [],
   "source": [
    "window = Tk()\n",
    "\n",
    "def open():\n",
    "  pass\n",
    "\n",
    "def save():\n",
    "  pass\n",
    "\n",
    "def quit():\n",
    "  window.destroy()\n",
    "\n",
    "menubar = Menu(window)\n",
    "\n",
    "filemenu = Menu(menubar)\n",
    "filemenu.add_command(label=\"열기\", command=open)\n",
    "filemenu.add_command(label=\"저장\", command=save)\n",
    "filemenu.add_command(label=\"종료\", command=quit)\n",
    "\n",
    "menubar.add_cascade(label=\"파일\", menu=filemenu)\n",
    "\n",
    "window.config(menu=menubar)\n",
    "window.mainloop()"
   ]
  },
  {
   "cell_type": "markdown",
   "metadata": {},
   "source": [
    "## 실습 5"
   ]
  },
  {
   "cell_type": "code",
   "execution_count": 16,
   "metadata": {},
   "outputs": [],
   "source": [
    "window = Tk()\n",
    "\n",
    "name = StringVar()\n",
    "output = StringVar()\n",
    "\n",
    "nameInput = Frame(window)\n",
    "Label(nameInput, text=\"이름 입력\").pack(side=LEFT)\n",
    "Entry(nameInput, textvariable=name).pack(side=LEFT)\n",
    "nameInput.pack()\n",
    "\n",
    "output = Label(window, text=\"\")\n",
    "output.pack()\n",
    "\n",
    "name.trace(\"w\", lambda _name, _index, _mode, name=name: output.config(text=\"Hello \" + name.get()))\n",
    "\n",
    "window.mainloop()"
   ]
  },
  {
   "cell_type": "code",
   "execution_count": 19,
   "metadata": {},
   "outputs": [],
   "source": [
    "window = Tk()\n",
    "\n",
    "name = StringVar()\n",
    "output = StringVar()\n",
    "\n",
    "nameInput = Frame(window)\n",
    "Label(nameInput, text=\"이름 입력\").pack(side=LEFT)\n",
    "Entry(nameInput, textvariable=name).pack(side=LEFT)\n",
    "nameInput.pack()\n",
    "\n",
    "outputFrame = Frame(window)\n",
    "Button(outputFrame, text=\"클릭하세요\", command=lambda: output.config(text=\"Hello \" + name.get())).pack(side=LEFT)\n",
    "output = Label(outputFrame, text=\"\")\n",
    "output.pack(side=LEFT)\n",
    "outputFrame.pack()\n",
    "\n",
    "window.mainloop()"
   ]
  }
 ],
 "metadata": {
  "interpreter": {
   "hash": "75ffff6d4f5ed7f54977765604b08bbeb08b44b7854def9bde97e4aa01295d9f"
  },
  "kernelspec": {
   "display_name": "Python 3.10.0 64-bit ('.env': venv)",
   "name": "python3"
  },
  "language_info": {
   "codemirror_mode": {
    "name": "ipython",
    "version": 3
   },
   "file_extension": ".py",
   "mimetype": "text/x-python",
   "name": "python",
   "nbconvert_exporter": "python",
   "pygments_lexer": "ipython3",
   "version": "3.10.0"
  },
  "orig_nbformat": 4
 },
 "nbformat": 4,
 "nbformat_minor": 2
}
