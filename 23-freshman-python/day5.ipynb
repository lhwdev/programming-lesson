{
 "cells": [
  {
   "attachments": {},
   "cell_type": "markdown",
   "metadata": {},
   "source": [
    "### 예제 1. 핸드폰 가게"
   ]
  },
  {
   "cell_type": "code",
   "execution_count": null,
   "metadata": {},
   "outputs": [],
   "source": [
    "result: dict[str, tuple[int, int]] = {\n",
    "  'iphone6': (3, 3),\n",
    "  'galaxy7': (5, 4),\n",
    "  'galaxy_note7': (2, 1),\n",
    "  'v20': (4, 4)\n",
    "}\n",
    "\n",
    "for (key, value) in result.items():\n",
    "  income, rating = value\n",
    "  "
   ]
  }
 ],
 "metadata": {
  "language_info": {
   "name": "python"
  },
  "orig_nbformat": 4
 },
 "nbformat": 4,
 "nbformat_minor": 2
}
