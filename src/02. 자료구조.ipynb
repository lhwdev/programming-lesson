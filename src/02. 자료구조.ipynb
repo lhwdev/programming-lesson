{
 "cells": [
  {
   "cell_type": "markdown",
   "metadata": {},
   "source": [
    "# 자료구조들\n",
    "- 리스트(list)\n",
    "- 튜플(tuple, 읽기 전용)\n",
    "- 딕셔너리(dictionary)\n",
    "- 집합(set)"
   ]
  }
 ],
 "metadata": {
  "kernelspec": {
   "display_name": "Python 3.8.6 64-bit ('.env': venv)",
   "metadata": {
    "interpreter": {
     "hash": "dad4a947aa53ea83cdf821594e834d2a989d9360961af4bc5dbaba51358936f4"
    }
   },
   "name": "python3"
  },
  "language_info": {
   "name": "python",
   "nbconvert_exporter": "python",
   "version": "3.8.6"
  },
  "orig_nbformat": 2
 },
 "nbformat": 4,
 "nbformat_minor": 2
}