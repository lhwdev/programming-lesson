{
 "cells": [
  {
   "cell_type": "markdown",
   "metadata": {},
   "source": [
    "# 산술연산"
   ]
  },
  {
   "cell_type": "code",
   "execution_count": 1,
   "metadata": {},
   "outputs": [
    {
     "name": "stdout",
     "output_type": "stream",
     "text": [
      "8\n",
      "2\n",
      "15\n",
      "1.6666666666666667\n",
      "125\n",
      "1\n",
      "2\n"
     ]
    }
   ],
   "source": [
    "print(5 + 3)\n",
    "print(5 - 3)\n",
    "print(5 * 3)\n",
    "print(5 / 3)\n",
    "print(5 ** 3)\n",
    "print(5 // 3)\n",
    "print(5 % 3)\n"
   ]
  },
  {
   "cell_type": "markdown",
   "metadata": {},
   "source": [
    "## 분수식 계산"
   ]
  },
  {
   "cell_type": "code",
   "execution_count": 3,
   "metadata": {},
   "outputs": [
    {
     "name": "stdout",
     "output_type": "stream",
     "text": [
      "20.25\n",
      "0.8690476190476188\n"
     ]
    }
   ],
   "source": [
    "print(17 * 4 + (8 * 2))\n",
    "print((1 + 2 / 7) - 5 / (4 * 3))"
   ]
  },
  {
   "cell_type": "markdown",
   "metadata": {},
   "source": [
    "## 연산자 우선순위\n",
    "- `**`\n",
    "- `*, /, //, %`\n",
    "- `+, -`"
   ]
  },
  {
   "cell_type": "code",
   "execution_count": 8,
   "metadata": {},
   "outputs": [
    {
     "name": "stdout",
     "output_type": "stream",
     "text": [
      "3\n",
      "256\n",
      "9.0\n"
     ]
    }
   ],
   "source": [
    "print(3 * 1 ** 3) # 3\n",
    "print(2 ** 2 ** 3) # 256\n",
    "print(8 * 7 // (6 - 2) % 5 / 4 + 3 ** 2 - 1) # 9"
   ]
  },
  {
   "cell_type": "markdown",
   "metadata": {},
   "source": [
    "## 산술연산 내장함수"
   ]
  },
  {
   "cell_type": "code",
   "execution_count": 21,
   "metadata": {},
   "outputs": [
    {
     "name": "stdout",
     "output_type": "stream",
     "text": [
      "5\n",
      "3\n",
      "8.0\n",
      "1.27\n",
      "(5+3j)\n",
      "(1, 2)\n",
      "125\n"
     ]
    }
   ],
   "source": [
    "print(abs(-5)) # 절댓값\n",
    "print(int(3.67)) # 정수 변환\n",
    "print(float(8)) # 실수 변환\n",
    "print(round(1.267, 2)) # 반올림\n",
    "print(complex(5, 3)) # 복소수\n",
    "print(divmod(5, 3)) # 몫과 나머지\n",
    "print(pow(5, 3)) # 거듭제곱"
   ]
  },
  {
   "cell_type": "markdown",
   "metadata": {},
   "source": [
    "## 퀴즈"
   ]
  },
  {
   "cell_type": "markdown",
   "metadata": {},
   "source": [
    "### 1. 섭씨 > 화씨 계산기\n",
    "섭씨를 화씨 온도로 변경하는 공식을 파이썬 코드로 구현하시오.\n",
    "\n",
    "> 변환식: $(c × 1.8) + 32 = f$"
   ]
  },
  {
   "cell_type": "code",
   "execution_count": 3,
   "metadata": {},
   "outputs": [
    {
     "name": "stdout",
     "output_type": "stream",
     "text": [
      "36.5 ℃ = 97.7 ℉\n"
     ]
    }
   ],
   "source": [
    "c = 36.5\n",
    "f = (c * 1.8) + 32\n",
    "print(f'{c} ℃ = {f} ℉')"
   ]
  },
  {
   "cell_type": "markdown",
   "metadata": {},
   "source": [
    "### 2. 광년 구하기\n",
    "빛은 진공상태에서 1초에 `299792458 m` 진행한다.\n",
    "1년은 365일 5시간 48분 46초이다.\n",
    "광년(빛이 1년에 가는 거리)은 몇 미터인가?\n",
    "\n",
    "- 정답: `9460528412464108 m`\n"
   ]
  },
  {
   "cell_type": "code",
   "execution_count": 7,
   "metadata": {},
   "outputs": [
    {
     "name": "stdout",
     "output_type": "stream",
     "text": [
      "9460528412464108 m\n"
     ]
    }
   ],
   "source": [
    "yearAsSecond = 46 + 60 * (48 + 60 * (5 + 24 * 365))\n",
    "c = 299792458\n",
    "result = yearAsSecond * c\n",
    "print(f'{result} m')"
   ]
  },
  {
   "cell_type": "markdown",
   "metadata": {},
   "source": [
    "## 객체와 변수"
   ]
  },
  {
   "cell_type": "markdown",
   "metadata": {},
   "source": [
    "### 식별자 만들기\n",
    "**식별자**: 변수, 함수, 클래스, 모듈 등 객체를 식별하는 데 사용하는 이름\n",
    "\n",
    "- 첫 글자는 영문자 또는 밑줄\n",
    "- 두 번째 글자부터는 문자, 숫자 또는 밑줄\n",
    "- 대소문자 구분\n",
    "- 유니코드 사용 가능(안쓴ㄴ게 좋음)\n",
    "- 키워드 사용 불가\n",
    "\n",
    "**네이밍 컨벤션**\n",
    "- 변수: my_underscored_variable\n",
    "- 클래스: PascalCasedClass"
   ]
  },
  {
   "cell_type": "markdown",
   "metadata": {},
   "source": [
    "## 퀴즈 2"
   ]
  },
  {
   "cell_type": "markdown",
   "metadata": {},
   "source": [
    "### 들판의 참새 떼\n",
    "1. x마리, 두마리가 더 날라오고 그의 다섯 배가 날라옴\n",
    "2. 열 마리는 숲으로, 남은 스무 마리는 숲에 숨음\n",
    "\n",
    "$5 * (x + 2) = 10 + 20$"
   ]
  },
  {
   "cell_type": "code",
   "execution_count": 7,
   "metadata": {},
   "outputs": [
    {
     "name": "stdout",
     "output_type": "stream",
     "text": [
      "처음: 4마리\n",
      "2마리가 날라와서 6마리\n",
      "다섯 배가 날라와서 30\n",
      "10마리 + 20마리가 모두 날라감\n"
     ]
    }
   ],
   "source": [
    "x = int((10 + 20) / 5 - 2)\n",
    "print(f'처음: {x}마리')\n",
    "print(f'2마리가 날라와서 {x + 2}마리')\n",
    "print(f'다섯 배가 날라와서 {5 * (x + 2 )}')\n",
    "print(f'10마리 + 20마리가 모두 날라감')\n"
   ]
  }
 ],
 "metadata": {
  "kernelspec": {
   "display_name": "Python 3.8.6 64-bit ('.env')",
   "metadata": {
    "interpreter": {
     "hash": "dad4a947aa53ea83cdf821594e834d2a989d9360961af4bc5dbaba51358936f4"
    }
   },
   "name": "python3"
  },
  "language_info": {
   "codemirror_mode": {
    "name": "ipython",
    "version": 3
   },
   "file_extension": ".py",
   "mimetype": "text/x-python",
   "name": "python",
   "nbconvert_exporter": "python",
   "pygments_lexer": "ipython3",
   "version": "3.8.6-final"
  },
  "orig_nbformat": 2
 },
 "nbformat": 4,
 "nbformat_minor": 2
}