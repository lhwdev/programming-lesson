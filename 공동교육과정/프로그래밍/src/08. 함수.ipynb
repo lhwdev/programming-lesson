{
  "nbformat": 4,
  "nbformat_minor": 0,
  "metadata": {
    "colab": {
      "name": "12 함수.ipynb",
      "provenance": [],
      "authorship_tag": "ABX9TyO9p31M3T6eLLZUE9azZCCN"
    },
    "kernelspec": {
      "name": "python3",
      "display_name": "Python 3"
    },
    "language_info": {
      "name": "python"
    }
  },
  "cells": [
    {
      "cell_type": "markdown",
      "metadata": {
        "id": "_Bl3rY8oemVz"
      },
      "source": [
        "# 함수"
      ]
    },
    {
      "cell_type": "markdown",
      "metadata": {
        "id": "qc2WSmu0eoRW"
      },
      "source": [
        "## 내장함수"
      ]
    },
    {
      "cell_type": "code",
      "metadata": {
        "colab": {
          "base_uri": "https://localhost:8080/"
        },
        "id": "QzFWHJe3eZ7s",
        "outputId": "8040c1d7-89b0-47f2-ed3e-4f8156014d62"
      },
      "source": [
        "abs(-5)"
      ],
      "execution_count": null,
      "outputs": [
        {
          "output_type": "execute_result",
          "data": {
            "text/plain": [
              "5"
            ]
          },
          "metadata": {
            "tags": []
          },
          "execution_count": 1
        }
      ]
    },
    {
      "cell_type": "code",
      "metadata": {
        "colab": {
          "base_uri": "https://localhost:8080/"
        },
        "id": "iYljE5bhesOk",
        "outputId": "45b77577-6fd6-471d-e995-05c8d3fa57e3"
      },
      "source": [
        "pow(2, 3)"
      ],
      "execution_count": null,
      "outputs": [
        {
          "output_type": "execute_result",
          "data": {
            "text/plain": [
              "8"
            ]
          },
          "metadata": {
            "tags": []
          },
          "execution_count": 2
        }
      ]
    },
    {
      "cell_type": "code",
      "metadata": {
        "colab": {
          "base_uri": "https://localhost:8080/"
        },
        "id": "nYYQj5Zdewmi",
        "outputId": "0dd87414-fb12-416e-f2d2-35509c0b8bc9"
      },
      "source": [
        "int('1000', base=2) # 2진수"
      ],
      "execution_count": null,
      "outputs": [
        {
          "output_type": "execute_result",
          "data": {
            "text/plain": [
              "8"
            ]
          },
          "metadata": {
            "tags": []
          },
          "execution_count": 4
        }
      ]
    },
    {
      "cell_type": "code",
      "metadata": {
        "colab": {
          "base_uri": "https://localhost:8080/",
          "height": 35
        },
        "id": "NbqbXsxLeypT",
        "outputId": "f484551b-3899-4d36-e47f-61b0bc433d17"
      },
      "source": [
        "bin(100)"
      ],
      "execution_count": null,
      "outputs": [
        {
          "output_type": "execute_result",
          "data": {
            "application/vnd.google.colaboratory.intrinsic+json": {
              "type": "string"
            },
            "text/plain": [
              "'0b1100100'"
            ]
          },
          "metadata": {
            "tags": []
          },
          "execution_count": 5
        }
      ]
    },
    {
      "cell_type": "code",
      "metadata": {
        "colab": {
          "base_uri": "https://localhost:8080/",
          "height": 35
        },
        "id": "8zAvhgtUe2oB",
        "outputId": "2a5213de-cc16-470b-eca0-b2d750cc1c44"
      },
      "source": [
        "oct(100)"
      ],
      "execution_count": null,
      "outputs": [
        {
          "output_type": "execute_result",
          "data": {
            "application/vnd.google.colaboratory.intrinsic+json": {
              "type": "string"
            },
            "text/plain": [
              "'0o144'"
            ]
          },
          "metadata": {
            "tags": []
          },
          "execution_count": 6
        }
      ]
    },
    {
      "cell_type": "code",
      "metadata": {
        "colab": {
          "base_uri": "https://localhost:8080/",
          "height": 35
        },
        "id": "pBiRCyQPe3TK",
        "outputId": "aefa477b-d952-409d-c87a-211ad70d3cdb"
      },
      "source": [
        "hex(255)"
      ],
      "execution_count": null,
      "outputs": [
        {
          "output_type": "execute_result",
          "data": {
            "application/vnd.google.colaboratory.intrinsic+json": {
              "type": "string"
            },
            "text/plain": [
              "'0xff'"
            ]
          },
          "metadata": {
            "tags": []
          },
          "execution_count": 7
        }
      ]
    },
    {
      "cell_type": "code",
      "metadata": {
        "colab": {
          "base_uri": "https://localhost:8080/"
        },
        "id": "euIH4_alfD3_",
        "outputId": "3312d830-5341-4390-9002-d4e43cadec44"
      },
      "source": [
        "float(5)"
      ],
      "execution_count": null,
      "outputs": [
        {
          "output_type": "execute_result",
          "data": {
            "text/plain": [
              "5.0"
            ]
          },
          "metadata": {
            "tags": []
          },
          "execution_count": 8
        }
      ]
    },
    {
      "cell_type": "code",
      "metadata": {
        "colab": {
          "base_uri": "https://localhost:8080/"
        },
        "id": "891s3HfvfGwn",
        "outputId": "72f73929-cc25-4e4d-ffdc-f2ebf8937882"
      },
      "source": [
        "bool(23)"
      ],
      "execution_count": null,
      "outputs": [
        {
          "output_type": "execute_result",
          "data": {
            "text/plain": [
              "True"
            ]
          },
          "metadata": {
            "tags": []
          },
          "execution_count": 9
        }
      ]
    },
    {
      "cell_type": "code",
      "metadata": {
        "colab": {
          "base_uri": "https://localhost:8080/"
        },
        "id": "QtypXfxnfIeh",
        "outputId": "3c8d6049-aec5-4188-d986-94d5b65f75e4"
      },
      "source": [
        "complex(3, 2j)"
      ],
      "execution_count": null,
      "outputs": [
        {
          "output_type": "execute_result",
          "data": {
            "text/plain": [
              "(1+0j)"
            ]
          },
          "metadata": {
            "tags": []
          },
          "execution_count": 10
        }
      ]
    },
    {
      "cell_type": "code",
      "metadata": {
        "colab": {
          "base_uri": "https://localhost:8080/"
        },
        "id": "zP6GTm4qfKe2",
        "outputId": "b38846f7-bae8-4e0a-ef4d-71e58ba1c543"
      },
      "source": [
        "import math as math\n",
        "math.e ** complex(0, math.pi) # e^(i*pi)=-1 ...?"
      ],
      "execution_count": null,
      "outputs": [
        {
          "output_type": "execute_result",
          "data": {
            "text/plain": [
              "(-1+1.2246467991473532e-16j)"
            ]
          },
          "metadata": {
            "tags": []
          },
          "execution_count": 14
        }
      ]
    },
    {
      "cell_type": "code",
      "metadata": {
        "colab": {
          "base_uri": "https://localhost:8080/"
        },
        "id": "RPUTeuPEf41x",
        "outputId": "09846e83-cebe-4fb9-8160-1723bca388a6"
      },
      "source": [
        "divmod(13, 5)"
      ],
      "execution_count": null,
      "outputs": [
        {
          "output_type": "execute_result",
          "data": {
            "text/plain": [
              "(2, 3)"
            ]
          },
          "metadata": {
            "tags": []
          },
          "execution_count": 15
        }
      ]
    },
    {
      "cell_type": "code",
      "metadata": {
        "colab": {
          "base_uri": "https://localhost:8080/"
        },
        "id": "QkNLBeycf7Lz",
        "outputId": "9efbbfb1-a7cf-488d-c4c1-92a23f3aa802"
      },
      "source": [
        "len([1, 2, 3])"
      ],
      "execution_count": null,
      "outputs": [
        {
          "output_type": "execute_result",
          "data": {
            "text/plain": [
              "3"
            ]
          },
          "metadata": {
            "tags": []
          },
          "execution_count": 16
        }
      ]
    },
    {
      "cell_type": "code",
      "metadata": {
        "colab": {
          "base_uri": "https://localhost:8080/"
        },
        "id": "G8mTSnjof8E6",
        "outputId": "ad915842-b5a9-45f7-93e1-fe6a0154396d"
      },
      "source": [
        "max([1, 3, 2, 6])"
      ],
      "execution_count": null,
      "outputs": [
        {
          "output_type": "execute_result",
          "data": {
            "text/plain": [
              "6"
            ]
          },
          "metadata": {
            "tags": []
          },
          "execution_count": 17
        }
      ]
    },
    {
      "cell_type": "code",
      "metadata": {
        "colab": {
          "base_uri": "https://localhost:8080/"
        },
        "id": "oV4nZ7xff-PZ",
        "outputId": "dfe5633a-24ba-4a95-e867-b8d4c01c14ea"
      },
      "source": [
        "min([1, 5, 3, 9])"
      ],
      "execution_count": null,
      "outputs": [
        {
          "output_type": "execute_result",
          "data": {
            "text/plain": [
              "1"
            ]
          },
          "metadata": {
            "tags": []
          },
          "execution_count": 18
        }
      ]
    },
    {
      "cell_type": "code",
      "metadata": {
        "colab": {
          "base_uri": "https://localhost:8080/"
        },
        "id": "bExZN6R5gARQ",
        "outputId": "5f0f46c1-31fe-49f9-cb47-aaac128e0998"
      },
      "source": [
        "sum([1, 2, 3, 6])"
      ],
      "execution_count": null,
      "outputs": [
        {
          "output_type": "execute_result",
          "data": {
            "text/plain": [
              "12"
            ]
          },
          "metadata": {
            "tags": []
          },
          "execution_count": 19
        }
      ]
    },
    {
      "cell_type": "code",
      "metadata": {
        "colab": {
          "base_uri": "https://localhost:8080/"
        },
        "id": "2MDSEZmEgD_t",
        "outputId": "4cc00fa7-a9f1-436d-a915-914664b850b8"
      },
      "source": [
        "sum(range(1, 10))"
      ],
      "execution_count": null,
      "outputs": [
        {
          "output_type": "execute_result",
          "data": {
            "text/plain": [
              "45"
            ]
          },
          "metadata": {
            "tags": []
          },
          "execution_count": 20
        }
      ]
    },
    {
      "cell_type": "code",
      "metadata": {
        "colab": {
          "base_uri": "https://localhost:8080/"
        },
        "id": "cSec_OSxgFPY",
        "outputId": "da6bf4bd-a6b1-498f-b846-1cecd1d8e067"
      },
      "source": [
        "print(all([123, 0, 45]))\n",
        "print(all([True, True, True]))"
      ],
      "execution_count": null,
      "outputs": [
        {
          "output_type": "stream",
          "text": [
            "False\n",
            "True\n"
          ],
          "name": "stdout"
        }
      ]
    },
    {
      "cell_type": "code",
      "metadata": {
        "colab": {
          "base_uri": "https://localhost:8080/"
        },
        "id": "EHNtoTeQgMBY",
        "outputId": "06f3d836-e441-4cfe-9f87-2518ec0f3d51"
      },
      "source": [
        "print(any([False, False, True, False]))"
      ],
      "execution_count": null,
      "outputs": [
        {
          "output_type": "stream",
          "text": [
            "True\n"
          ],
          "name": "stdout"
        }
      ]
    },
    {
      "cell_type": "code",
      "metadata": {
        "colab": {
          "base_uri": "https://localhost:8080/"
        },
        "id": "xrcjsXmygOlb",
        "outputId": "e8d246e9-3566-4479-8703-62d827a90b46"
      },
      "source": [
        "a = [1, 2, 3, 4, 5]\n",
        "b = slice(1, 5, 2)\n",
        "a[b]"
      ],
      "execution_count": null,
      "outputs": [
        {
          "output_type": "execute_result",
          "data": {
            "text/plain": [
              "[2, 4]"
            ]
          },
          "metadata": {
            "tags": []
          },
          "execution_count": 23
        }
      ]
    },
    {
      "cell_type": "code",
      "metadata": {
        "colab": {
          "base_uri": "https://localhost:8080/",
          "height": 35
        },
        "id": "VQcCWYiCgZpv",
        "outputId": "f3becfdf-9891-45dc-cd0b-9c3f25810157"
      },
      "source": [
        "a = iter([1, 2, 3])\n",
        "f'{next(a)}, {next(a)}'"
      ],
      "execution_count": null,
      "outputs": [
        {
          "output_type": "execute_result",
          "data": {
            "application/vnd.google.colaboratory.intrinsic+json": {
              "type": "string"
            },
            "text/plain": [
              "'1, 2'"
            ]
          },
          "metadata": {
            "tags": []
          },
          "execution_count": 24
        }
      ]
    },
    {
      "cell_type": "code",
      "metadata": {
        "colab": {
          "base_uri": "https://localhost:8080/"
        },
        "id": "27ZBXtj9gi08",
        "outputId": "22afdec4-7ef1-4ce8-c51c-95aaae4034b9"
      },
      "source": [
        "print(chr(65))\n",
        "print(ord('A'))"
      ],
      "execution_count": null,
      "outputs": [
        {
          "output_type": "stream",
          "text": [
            "A\n",
            "65\n"
          ],
          "name": "stdout"
        }
      ]
    },
    {
      "cell_type": "code",
      "metadata": {
        "colab": {
          "base_uri": "https://localhost:8080/"
        },
        "id": "reOFVQ5YgoKV",
        "outputId": "1541bacf-5725-4fe5-bfa4-7de39cd297f5"
      },
      "source": [
        "a = 'print(10 + 20)'\n",
        "bytecode = compile(a, 'add', 'exec')\n",
        "eval(bytecode)\n",
        "exec(bytecode)"
      ],
      "execution_count": null,
      "outputs": [
        {
          "output_type": "stream",
          "text": [
            "30\n",
            "30\n"
          ],
          "name": "stdout"
        }
      ]
    },
    {
      "cell_type": "code",
      "metadata": {
        "colab": {
          "base_uri": "https://localhost:8080/"
        },
        "id": "sBVZ1IYEg7tl",
        "outputId": "981a2ff1-99f7-44c0-981a-bef0c70799ea"
      },
      "source": [
        "print(str(123))\n",
        "print(list('abcd'))\n",
        "print(tuple('123'))\n",
        "print(dict(a=1, b=2, c=3))\n",
        "print(set([1, 2, 3]))\n",
        "print(frozenset([1, 2, 3]))"
      ],
      "execution_count": null,
      "outputs": [
        {
          "output_type": "stream",
          "text": [
            "123\n",
            "['a', 'b', 'c', 'd']\n",
            "('1', '2', '3')\n",
            "{'a': 1, 'b': 2, 'c': 3}\n",
            "{1, 2, 3}\n",
            "frozenset({1, 2, 3})\n"
          ],
          "name": "stdout"
        }
      ]
    },
    {
      "cell_type": "code",
      "metadata": {
        "colab": {
          "base_uri": "https://localhost:8080/"
        },
        "id": "dnJ28aVVhFUT",
        "outputId": "a505208b-20d9-4b07-fede-29ee28355121"
      },
      "source": [
        "x = [1, 2, 3]\n",
        "dir(x)"
      ],
      "execution_count": null,
      "outputs": [
        {
          "output_type": "execute_result",
          "data": {
            "text/plain": [
              "['__add__',\n",
              " '__class__',\n",
              " '__contains__',\n",
              " '__delattr__',\n",
              " '__delitem__',\n",
              " '__dir__',\n",
              " '__doc__',\n",
              " '__eq__',\n",
              " '__format__',\n",
              " '__ge__',\n",
              " '__getattribute__',\n",
              " '__getitem__',\n",
              " '__gt__',\n",
              " '__hash__',\n",
              " '__iadd__',\n",
              " '__imul__',\n",
              " '__init__',\n",
              " '__init_subclass__',\n",
              " '__iter__',\n",
              " '__le__',\n",
              " '__len__',\n",
              " '__lt__',\n",
              " '__mul__',\n",
              " '__ne__',\n",
              " '__new__',\n",
              " '__reduce__',\n",
              " '__reduce_ex__',\n",
              " '__repr__',\n",
              " '__reversed__',\n",
              " '__rmul__',\n",
              " '__setattr__',\n",
              " '__setitem__',\n",
              " '__sizeof__',\n",
              " '__str__',\n",
              " '__subclasshook__',\n",
              " 'append',\n",
              " 'clear',\n",
              " 'copy',\n",
              " 'count',\n",
              " 'extend',\n",
              " 'index',\n",
              " 'insert',\n",
              " 'pop',\n",
              " 'remove',\n",
              " 'reverse',\n",
              " 'sort']"
            ]
          },
          "metadata": {
            "tags": []
          },
          "execution_count": 28
        }
      ]
    },
    {
      "cell_type": "code",
      "metadata": {
        "colab": {
          "base_uri": "https://localhost:8080/"
        },
        "id": "04KLjmHRhH0-",
        "outputId": "2d643e34-e2a4-4604-8787-3a9f2d9aea0f"
      },
      "source": [
        "print(repr([1, 2, 3]))"
      ],
      "execution_count": null,
      "outputs": [
        {
          "output_type": "stream",
          "text": [
            "[1, 2, 3]\n"
          ],
          "name": "stdout"
        }
      ]
    },
    {
      "cell_type": "code",
      "metadata": {
        "colab": {
          "base_uri": "https://localhost:8080/"
        },
        "id": "XwfKQBNRhMAA",
        "outputId": "1107df5b-06c8-4d48-c68b-8b2516682d90"
      },
      "source": [
        "print(eval('1+2+3'))"
      ],
      "execution_count": null,
      "outputs": [
        {
          "output_type": "stream",
          "text": [
            "6\n"
          ],
          "name": "stdout"
        }
      ]
    },
    {
      "cell_type": "markdown",
      "metadata": {
        "id": "PKE8HwuxhUPt"
      },
      "source": [
        "## 사용자 정의 함수"
      ]
    },
    {
      "cell_type": "code",
      "metadata": {
        "colab": {
          "base_uri": "https://localhost:8080/"
        },
        "id": "en2K_ZUfhNcr",
        "outputId": "5feb4e4e-0267-4f7a-c757-3705d520a23d"
      },
      "source": [
        "def taxi(k): # 함수 이름(매개변수...):\n",
        "  f = k * 500\n",
        "  return f\n",
        "\n",
        "fare = taxi(4)\n",
        "fare"
      ],
      "execution_count": null,
      "outputs": [
        {
          "output_type": "execute_result",
          "data": {
            "text/plain": [
              "2000"
            ]
          },
          "metadata": {
            "tags": []
          },
          "execution_count": 31
        }
      ]
    },
    {
      "cell_type": "code",
      "metadata": {
        "colab": {
          "base_uri": "https://localhost:8080/"
        },
        "id": "_jcPjLZ2hdne",
        "outputId": "f854dbb1-e195-4e30-b11a-24d1d2d5e4b5"
      },
      "source": [
        "def hi():\n",
        "  print('Hello, Python!')\n",
        "\n",
        "hi()"
      ],
      "execution_count": null,
      "outputs": [
        {
          "output_type": "stream",
          "text": [
            "Hello, Python!\n"
          ],
          "name": "stdout"
        }
      ]
    },
    {
      "cell_type": "code",
      "metadata": {
        "colab": {
          "base_uri": "https://localhost:8080/",
          "height": 35
        },
        "id": "WnQWhxpZhh5A",
        "outputId": "55ef75e9-5f4d-402d-8211-5aed40d110f4"
      },
      "source": [
        "def hi(): return 'Hello, Python!'\n",
        "hi()"
      ],
      "execution_count": null,
      "outputs": [
        {
          "output_type": "execute_result",
          "data": {
            "application/vnd.google.colaboratory.intrinsic+json": {
              "type": "string"
            },
            "text/plain": [
              "'Hello, Python!'"
            ]
          },
          "metadata": {
            "tags": []
          },
          "execution_count": 33
        }
      ]
    },
    {
      "cell_type": "code",
      "metadata": {
        "colab": {
          "base_uri": "https://localhost:8080/"
        },
        "id": "9ew4a_zehlkY",
        "outputId": "e077d4cf-5860-4ab8-f739-280f190f5435"
      },
      "source": [
        "def calc(a, b, c):\n",
        "  return a - b + c\n",
        "\n",
        "calc(1, 2, 4)"
      ],
      "execution_count": null,
      "outputs": [
        {
          "output_type": "execute_result",
          "data": {
            "text/plain": [
              "3"
            ]
          },
          "metadata": {
            "tags": []
          },
          "execution_count": 35
        }
      ]
    },
    {
      "cell_type": "code",
      "metadata": {
        "colab": {
          "base_uri": "https://localhost:8080/"
        },
        "id": "sHM3WpdOhnVy",
        "outputId": "75e77e72-c62d-4b3b-ea28-0d246050cff3"
      },
      "source": [
        "def calc(a=2, b=3, c=4):\n",
        "  return a - b + c\n",
        "\n",
        "print(calc(a=1, c=2))\n",
        "print(calc(b=1, a=3, c=2))"
      ],
      "execution_count": null,
      "outputs": [
        {
          "output_type": "stream",
          "text": [
            "0\n",
            "4\n"
          ],
          "name": "stdout"
        }
      ]
    },
    {
      "cell_type": "code",
      "metadata": {
        "colab": {
          "base_uri": "https://localhost:8080/",
          "height": 35
        },
        "id": "QJjI2SbHhvzS",
        "outputId": "b4215287-5bae-455a-86c3-162fb36b488c"
      },
      "source": [
        "def calc(a, b, c):\n",
        "  p = a - b + c\n",
        "  q = a * b + c\n",
        "  return (p, q)\n",
        "\n",
        "(p, q) = calc(1, 2, 3)\n",
        "f'{p}, {q}'"
      ],
      "execution_count": null,
      "outputs": [
        {
          "output_type": "execute_result",
          "data": {
            "application/vnd.google.colaboratory.intrinsic+json": {
              "type": "string"
            },
            "text/plain": [
              "'2, 5'"
            ]
          },
          "metadata": {
            "tags": []
          },
          "execution_count": 39
        }
      ]
    },
    {
      "cell_type": "code",
      "metadata": {
        "colab": {
          "base_uri": "https://localhost:8080/"
        },
        "id": "gPwUTnvViFK4",
        "outputId": "78ca2d7d-5672-450a-8ea4-fd7f93caa8da"
      },
      "source": [
        "def calc(*args):\n",
        "  return sum(args)\n",
        "\n",
        "calc(1, 2, 3, 6)"
      ],
      "execution_count": null,
      "outputs": [
        {
          "output_type": "execute_result",
          "data": {
            "text/plain": [
              "12"
            ]
          },
          "metadata": {
            "tags": []
          },
          "execution_count": 40
        }
      ]
    },
    {
      "cell_type": "code",
      "metadata": {
        "colab": {
          "base_uri": "https://localhost:8080/"
        },
        "id": "63ZgychsiMEQ",
        "outputId": "cce1bc90-3883-4655-c370-9de6cc80723c"
      },
      "source": [
        "def fp(f, form, *args):\n",
        "  f.write(form % args)\n",
        "\n",
        "with open('output.txt', 'w') as file:\n",
        "  fp(file, '%s %d %s', 'I ate', 5, 'apples.')\n",
        "\n",
        "with open('output.txt', 'r') as file:\n",
        "  print(file.readlines())"
      ],
      "execution_count": null,
      "outputs": [
        {
          "output_type": "stream",
          "text": [
            "['I ate 5 apples.']\n"
          ],
          "name": "stdout"
        }
      ]
    },
    {
      "cell_type": "code",
      "metadata": {
        "colab": {
          "base_uri": "https://localhost:8080/"
        },
        "id": "B23yLSyFjBvB",
        "outputId": "01116c27-d2fe-4fab-e52e-95791ecb89da"
      },
      "source": [
        "def calc(a, b, **args):\n",
        "  return a * b + args['d']\n",
        "\n",
        "calc(a=5, c=3, d=2, b=4)"
      ],
      "execution_count": null,
      "outputs": [
        {
          "output_type": "execute_result",
          "data": {
            "text/plain": [
              "22"
            ]
          },
          "metadata": {
            "tags": []
          },
          "execution_count": 44
        }
      ]
    },
    {
      "cell_type": "code",
      "metadata": {
        "colab": {
          "base_uri": "https://localhost:8080/"
        },
        "id": "zhzZpOaRjQyS",
        "outputId": "d168413a-b649-4999-abf0-aa4ece74afbf"
      },
      "source": [
        "def app(x, s=[]): # 이렇게 쓰면 코드가 알기 힘들어져서 그리 좋은 것 같지는 않음\n",
        "  s.append(x)\n",
        "  return s\n",
        "\n",
        "a = app(1)\n",
        "print(a)\n",
        "b = app(2)\n",
        "print(b)\n",
        "print(a, b)"
      ],
      "execution_count": null,
      "outputs": [
        {
          "output_type": "stream",
          "text": [
            "[1]\n",
            "[1, 2]\n",
            "[1, 2] [1, 2]\n"
          ],
          "name": "stdout"
        }
      ]
    },
    {
      "cell_type": "code",
      "metadata": {
        "colab": {
          "base_uri": "https://localhost:8080/"
        },
        "id": "lvFIiq6qje6J",
        "outputId": "0fc90067-8464-4235-ab73-39db9b20f7d8"
      },
      "source": [
        "def app(x):\n",
        "  if x == 2: return x\n",
        "  return x + 1\n",
        "\n",
        "print(app(1))\n",
        "print(app(2))"
      ],
      "execution_count": null,
      "outputs": [
        {
          "output_type": "stream",
          "text": [
            "2\n",
            "2\n"
          ],
          "name": "stdout"
        }
      ]
    },
    {
      "cell_type": "code",
      "metadata": {
        "colab": {
          "base_uri": "https://localhost:8080/"
        },
        "id": "C2hWZwNXjxoO",
        "outputId": "73a05bc4-201d-4030-cf8b-51467b4aca84"
      },
      "source": [
        "a = 0\n",
        "def foo():\n",
        "  a = 5 # local\n",
        "foo()\n",
        "print(a)"
      ],
      "execution_count": null,
      "outputs": [
        {
          "output_type": "stream",
          "text": [
            "0\n"
          ],
          "name": "stdout"
        }
      ]
    },
    {
      "cell_type": "code",
      "metadata": {
        "colab": {
          "base_uri": "https://localhost:8080/"
        },
        "id": "FMcyi1LiouKo",
        "outputId": "27c8df5e-8cf4-4603-d926-ff54c095bed0"
      },
      "source": [
        "a = 10\n",
        "def foo():\n",
        "  print(a) # global\n",
        "foo()"
      ],
      "execution_count": null,
      "outputs": [
        {
          "output_type": "stream",
          "text": [
            "10\n"
          ],
          "name": "stdout"
        }
      ]
    },
    {
      "cell_type": "code",
      "metadata": {
        "colab": {
          "base_uri": "https://localhost:8080/"
        },
        "id": "n-FdM4MGo0JY",
        "outputId": "0987847e-c58e-4cf0-b872-7d9f9a39cedc"
      },
      "source": [
        "a = 10\n",
        "b = 5\n",
        "def foo():\n",
        "  global a\n",
        "  a = 8\n",
        "  b = 3\n",
        "foo()\n",
        "print(a, b)"
      ],
      "execution_count": null,
      "outputs": [
        {
          "output_type": "stream",
          "text": [
            "8 5\n"
          ],
          "name": "stdout"
        }
      ]
    },
    {
      "cell_type": "code",
      "metadata": {
        "colab": {
          "base_uri": "https://localhost:8080/",
          "height": 300
        },
        "id": "zibKIqPRpwWH",
        "outputId": "a9b24162-12e7-49ac-8a99-14f7b49e2a83"
      },
      "source": [
        "a = 10\n",
        "def foo():\n",
        "  a = a + 1\n",
        "foo()"
      ],
      "execution_count": null,
      "outputs": [
        {
          "output_type": "error",
          "ename": "UnboundLocalError",
          "evalue": "ignored",
          "traceback": [
            "\u001b[0;31m---------------------------------------------------------------------------\u001b[0m",
            "\u001b[0;31mUnboundLocalError\u001b[0m                         Traceback (most recent call last)",
            "\u001b[0;32m<ipython-input-53-5a2488e8aac2>\u001b[0m in \u001b[0;36m<module>\u001b[0;34m()\u001b[0m\n\u001b[1;32m      2\u001b[0m \u001b[0;32mdef\u001b[0m \u001b[0mfoo\u001b[0m\u001b[0;34m(\u001b[0m\u001b[0;34m)\u001b[0m\u001b[0;34m:\u001b[0m\u001b[0;34m\u001b[0m\u001b[0;34m\u001b[0m\u001b[0m\n\u001b[1;32m      3\u001b[0m   \u001b[0ma\u001b[0m \u001b[0;34m=\u001b[0m \u001b[0ma\u001b[0m \u001b[0;34m+\u001b[0m \u001b[0;36m1\u001b[0m\u001b[0;34m\u001b[0m\u001b[0;34m\u001b[0m\u001b[0m\n\u001b[0;32m----> 4\u001b[0;31m \u001b[0mfoo\u001b[0m\u001b[0;34m(\u001b[0m\u001b[0;34m)\u001b[0m\u001b[0;34m\u001b[0m\u001b[0;34m\u001b[0m\u001b[0m\n\u001b[0m",
            "\u001b[0;32m<ipython-input-53-5a2488e8aac2>\u001b[0m in \u001b[0;36mfoo\u001b[0;34m()\u001b[0m\n\u001b[1;32m      1\u001b[0m \u001b[0ma\u001b[0m \u001b[0;34m=\u001b[0m \u001b[0;36m10\u001b[0m\u001b[0;34m\u001b[0m\u001b[0;34m\u001b[0m\u001b[0m\n\u001b[1;32m      2\u001b[0m \u001b[0;32mdef\u001b[0m \u001b[0mfoo\u001b[0m\u001b[0;34m(\u001b[0m\u001b[0;34m)\u001b[0m\u001b[0;34m:\u001b[0m\u001b[0;34m\u001b[0m\u001b[0;34m\u001b[0m\u001b[0m\n\u001b[0;32m----> 3\u001b[0;31m   \u001b[0ma\u001b[0m \u001b[0;34m=\u001b[0m \u001b[0ma\u001b[0m \u001b[0;34m+\u001b[0m \u001b[0;36m1\u001b[0m\u001b[0;34m\u001b[0m\u001b[0;34m\u001b[0m\u001b[0m\n\u001b[0m\u001b[1;32m      4\u001b[0m \u001b[0mfoo\u001b[0m\u001b[0;34m(\u001b[0m\u001b[0;34m)\u001b[0m\u001b[0;34m\u001b[0m\u001b[0;34m\u001b[0m\u001b[0m\n",
            "\u001b[0;31mUnboundLocalError\u001b[0m: local variable 'a' referenced before assignment"
          ]
        }
      ]
    },
    {
      "cell_type": "markdown",
      "metadata": {
        "id": "C-OQFDDCp1nw"
      },
      "source": [
        "## 특수한 함수"
      ]
    },
    {
      "cell_type": "code",
      "metadata": {
        "colab": {
          "base_uri": "https://localhost:8080/"
        },
        "id": "KiinmFL8pzBO",
        "outputId": "7216a36c-37f1-4942-dda2-4ddc8aa508b5"
      },
      "source": [
        "# lambda\n",
        "a = lambda x, y: x + y\n",
        "a(3, 5)"
      ],
      "execution_count": null,
      "outputs": [
        {
          "output_type": "execute_result",
          "data": {
            "text/plain": [
              "8"
            ]
          },
          "metadata": {
            "tags": []
          },
          "execution_count": 54
        }
      ]
    },
    {
      "cell_type": "code",
      "metadata": {
        "colab": {
          "base_uri": "https://localhost:8080/"
        },
        "id": "cXEp068pp9L8",
        "outputId": "e524b102-8d4d-4e59-934b-a6d0cb748c34"
      },
      "source": [
        "def forEach(iter, block):\n",
        "  for element in iter:\n",
        "    block(element)\n",
        "\n",
        "forEach([1, 2, 3], lambda x: print(x))"
      ],
      "execution_count": null,
      "outputs": [
        {
          "output_type": "stream",
          "text": [
            "1\n",
            "2\n",
            "3\n"
          ],
          "name": "stdout"
        }
      ]
    },
    {
      "cell_type": "code",
      "metadata": {
        "colab": {
          "base_uri": "https://localhost:8080/"
        },
        "id": "hIGfezrcqIBZ",
        "outputId": "de4ed853-88b5-4b7f-894c-f62b62e88cb4"
      },
      "source": [
        "# map\n",
        "list(map(lambda x: x + 1, [1, 2, 3, 5]))"
      ],
      "execution_count": null,
      "outputs": [
        {
          "output_type": "execute_result",
          "data": {
            "text/plain": [
              "[2, 3, 4, 6]"
            ]
          },
          "metadata": {
            "tags": []
          },
          "execution_count": 61
        }
      ]
    },
    {
      "cell_type": "code",
      "metadata": {
        "colab": {
          "base_uri": "https://localhost:8080/"
        },
        "id": "kn5NFNHfqnET",
        "outputId": "f9fd851e-5e64-4b83-e555-9433bbdfbe3c"
      },
      "source": [
        "list(map(lambda x: x * 2 - 1, [1, 2, 5, 6, 4]))"
      ],
      "execution_count": null,
      "outputs": [
        {
          "output_type": "execute_result",
          "data": {
            "text/plain": [
              "[1, 3, 9, 11, 7]"
            ]
          },
          "metadata": {
            "tags": []
          },
          "execution_count": 63
        }
      ]
    },
    {
      "cell_type": "code",
      "metadata": {
        "colab": {
          "base_uri": "https://localhost:8080/"
        },
        "id": "KiDoyzfEq8K_",
        "outputId": "03aa84d6-f35d-4599-b5c8-148d3ca1a7fc"
      },
      "source": [
        "# filter\n",
        "list(filter(lambda x: x > 0, [1, -2, 3, -4]))"
      ],
      "execution_count": null,
      "outputs": [
        {
          "output_type": "execute_result",
          "data": {
            "text/plain": [
              "[1, 3]"
            ]
          },
          "metadata": {
            "tags": []
          },
          "execution_count": 64
        }
      ]
    },
    {
      "cell_type": "code",
      "metadata": {
        "colab": {
          "base_uri": "https://localhost:8080/"
        },
        "id": "t9GRSwdtrDW7",
        "outputId": "26d91cb1-31e0-49e9-f44b-24cbb3b15f9f"
      },
      "source": [
        "[i for i in [1, -2, 3, -4] if i > 0]"
      ],
      "execution_count": null,
      "outputs": [
        {
          "output_type": "execute_result",
          "data": {
            "text/plain": [
              "[1, 3]"
            ]
          },
          "metadata": {
            "tags": []
          },
          "execution_count": 65
        }
      ]
    },
    {
      "cell_type": "code",
      "metadata": {
        "colab": {
          "base_uri": "https://localhost:8080/"
        },
        "id": "W5O2OOfwrGdw",
        "outputId": "2ff4bdfc-0116-4cea-f4e3-9455a31cffbd"
      },
      "source": [
        "list(filter(lambda x: x % 2 == 0, range(10)))"
      ],
      "execution_count": null,
      "outputs": [
        {
          "output_type": "execute_result",
          "data": {
            "text/plain": [
              "[0, 2, 4, 6, 8]"
            ]
          },
          "metadata": {
            "tags": []
          },
          "execution_count": 66
        }
      ]
    },
    {
      "cell_type": "markdown",
      "metadata": {
        "id": "IrREUFXLrow6"
      },
      "source": [
        "## 재귀함수"
      ]
    },
    {
      "cell_type": "code",
      "metadata": {
        "colab": {
          "base_uri": "https://localhost:8080/"
        },
        "id": "I0ToPNvGrnIq",
        "outputId": "e362c981-52ed-49cd-a055-1913607b9c55"
      },
      "source": [
        "# 자연수 생성\n",
        "def f(n):\n",
        "  if n == 0: return\n",
        "  print(n, end = ' ')\n",
        "  f(n - 1)\n",
        "\n",
        "f(5)"
      ],
      "execution_count": null,
      "outputs": [
        {
          "output_type": "stream",
          "text": [
            "5 4 3 2 1 "
          ],
          "name": "stdout"
        }
      ]
    },
    {
      "cell_type": "code",
      "metadata": {
        "colab": {
          "base_uri": "https://localhost:8080/"
        },
        "id": "n1QdXkUnrvv4",
        "outputId": "53cbddc4-9201-4492-85a8-e815038a5abe"
      },
      "source": [
        "# 자연수 합\n",
        "def f(n):\n",
        "  if n == 0: return 0\n",
        "  return n + f(n - 1)\n",
        "\n",
        "f(10)"
      ],
      "execution_count": null,
      "outputs": [
        {
          "output_type": "execute_result",
          "data": {
            "text/plain": [
              "55"
            ]
          },
          "metadata": {
            "tags": []
          },
          "execution_count": 68
        }
      ]
    },
    {
      "cell_type": "code",
      "metadata": {
        "colab": {
          "base_uri": "https://localhost:8080/"
        },
        "id": "iQrVykXBsHTt",
        "outputId": "49a92d54-cf2f-4907-c45b-ba75e8a7f28c"
      },
      "source": [
        "sum(range(1, 11))"
      ],
      "execution_count": null,
      "outputs": [
        {
          "output_type": "execute_result",
          "data": {
            "text/plain": [
              "55"
            ]
          },
          "metadata": {
            "tags": []
          },
          "execution_count": 69
        }
      ]
    },
    {
      "cell_type": "code",
      "metadata": {
        "colab": {
          "base_uri": "https://localhost:8080/"
        },
        "id": "bi9cNL4HsIhK",
        "outputId": "6f55b727-682c-4ecc-e1c3-56530fa385e8"
      },
      "source": [
        "# 펙토리얼\n",
        "def fac(n):\n",
        "  if n == 0: return 1\n",
        "  r = n * fac(n-1)\n",
        "  print(f'{n}! = {r}')\n",
        "  return r\n",
        "\n",
        "fac(10)"
      ],
      "execution_count": null,
      "outputs": [
        {
          "output_type": "stream",
          "text": [
            "1! = 1\n",
            "2! = 2\n",
            "3! = 6\n",
            "4! = 24\n",
            "5! = 120\n",
            "6! = 720\n",
            "7! = 5040\n",
            "8! = 40320\n",
            "9! = 362880\n",
            "10! = 3628800\n"
          ],
          "name": "stdout"
        },
        {
          "output_type": "execute_result",
          "data": {
            "text/plain": [
              "3628800"
            ]
          },
          "metadata": {
            "tags": []
          },
          "execution_count": 71
        }
      ]
    },
    {
      "cell_type": "code",
      "metadata": {
        "colab": {
          "base_uri": "https://localhost:8080/",
          "height": 35
        },
        "id": "oxPq7nG3vx0O",
        "outputId": "7cd3e98c-33c1-4627-ce2d-52bcf46b8d0d"
      },
      "source": [
        "a = '0123456789ABCDEF'\n",
        "base = len(a)\n",
        "\n",
        "def convertBase(number, str):\n",
        "  if number == 0: return str\n",
        "  return convertBase(number // base, a[number % base] + str)\n",
        "\n",
        "convertBase(987654321, '')"
      ],
      "execution_count": null,
      "outputs": [
        {
          "output_type": "execute_result",
          "data": {
            "application/vnd.google.colaboratory.intrinsic+json": {
              "type": "string"
            },
            "text/plain": [
              "'3ADE68B1'"
            ]
          },
          "metadata": {
            "tags": []
          },
          "execution_count": 75
        }
      ]
    },
    {
      "cell_type": "code",
      "metadata": {
        "colab": {
          "base_uri": "https://localhost:8080/"
        },
        "id": "0h4_d0m4wKzf",
        "outputId": "08cc4958-60db-4392-f40b-bdf8c1dd5309"
      },
      "source": [
        "def fibonacci(a, b):\n",
        "  yield a\n",
        "  yield from fibonacci(b, a + b)\n",
        "\n",
        "fib = fibonacci(1, 1)\n",
        "\n",
        "for i in range(10):\n",
        "  print(next(fib), end=' ')"
      ],
      "execution_count": null,
      "outputs": [
        {
          "output_type": "stream",
          "text": [
            "1 1 2 3 5 8 13 21 34 55 "
          ],
          "name": "stdout"
        }
      ]
    },
    {
      "cell_type": "code",
      "metadata": {
        "colab": {
          "base_uri": "https://localhost:8080/"
        },
        "id": "8pYbUSvbyTp4",
        "outputId": "787094b7-098c-488e-ea10-c34a1da49a34"
      },
      "source": [
        "# 유클리드 호제법\n",
        "def euclid(a, b):\n",
        "  if b == 0: return a\n",
        "  return euclid(b, a % b)\n",
        "\n",
        "x, y = 2322, 654\n",
        "gcd = euclid(x, y)\n",
        "lcm = x * y // gcd\n",
        "(gcd, lcm)"
      ],
      "execution_count": null,
      "outputs": [
        {
          "output_type": "execute_result",
          "data": {
            "text/plain": [
              "(6, 253098)"
            ]
          },
          "metadata": {
            "tags": []
          },
          "execution_count": 80
        }
      ]
    }
  ]
}