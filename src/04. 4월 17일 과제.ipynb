{
  "nbformat": 4,
  "nbformat_minor": 0,
  "metadata": {
    "colab": {
      "name": "4월 17일 과제.ipynb",
      "provenance": [],
      "collapsed_sections": [],
      "authorship_tag": "ABX9TyMXbKTOxW3mMozQmNDIXFLm"
    },
    "kernelspec": {
      "name": "python3",
      "display_name": "Python 3"
    },
    "language_info": {
      "name": "python"
    },
    "widgets": {
      "application/vnd.jupyter.widget-state+json": {
        "13d41ff1f21f453da31b15907de3810d": {
          "model_module": "@jupyter-widgets/controls",
          "model_name": "VBoxModel",
          "state": {
            "_view_name": "VBoxView",
            "_dom_classes": [
              "widget-interact"
            ],
            "_model_name": "VBoxModel",
            "_view_module": "@jupyter-widgets/controls",
            "_model_module_version": "1.5.0",
            "_view_count": null,
            "_view_module_version": "1.5.0",
            "box_style": "",
            "layout": "IPY_MODEL_a468c4d49ef146859e62d4d02181256c",
            "_model_module": "@jupyter-widgets/controls",
            "children": [
              "IPY_MODEL_a9af0ab34184467a9314818e25a5c590",
              "IPY_MODEL_51404f1a30c54fc8bee5a9f5a3ccafb1"
            ]
          }
        },
        "a468c4d49ef146859e62d4d02181256c": {
          "model_module": "@jupyter-widgets/base",
          "model_name": "LayoutModel",
          "state": {
            "_view_name": "LayoutView",
            "grid_template_rows": null,
            "right": null,
            "justify_content": null,
            "_view_module": "@jupyter-widgets/base",
            "overflow": null,
            "_model_module_version": "1.2.0",
            "_view_count": null,
            "flex_flow": null,
            "width": null,
            "min_width": null,
            "border": null,
            "align_items": null,
            "bottom": null,
            "_model_module": "@jupyter-widgets/base",
            "top": null,
            "grid_column": null,
            "overflow_y": null,
            "overflow_x": null,
            "grid_auto_flow": null,
            "grid_area": null,
            "grid_template_columns": null,
            "flex": null,
            "_model_name": "LayoutModel",
            "justify_items": null,
            "grid_row": null,
            "max_height": null,
            "align_content": null,
            "visibility": null,
            "align_self": null,
            "height": null,
            "min_height": null,
            "padding": null,
            "grid_auto_rows": null,
            "grid_gap": null,
            "max_width": null,
            "order": null,
            "_view_module_version": "1.2.0",
            "grid_template_areas": null,
            "object_position": null,
            "object_fit": null,
            "grid_auto_columns": null,
            "margin": null,
            "display": null,
            "left": null
          }
        },
        "a9af0ab34184467a9314818e25a5c590": {
          "model_module": "@jupyter-widgets/controls",
          "model_name": "IntSliderModel",
          "state": {
            "_view_name": "IntSliderView",
            "style": "IPY_MODEL_a59404f33ec0421b9e03f062e8bd8780",
            "_dom_classes": [],
            "description": "m",
            "step": 1,
            "_model_name": "IntSliderModel",
            "orientation": "horizontal",
            "max": 999,
            "_view_module": "@jupyter-widgets/controls",
            "_model_module_version": "1.5.0",
            "value": 743,
            "_view_count": null,
            "disabled": false,
            "_view_module_version": "1.5.0",
            "min": 1,
            "continuous_update": true,
            "readout_format": "d",
            "description_tooltip": null,
            "readout": true,
            "_model_module": "@jupyter-widgets/controls",
            "layout": "IPY_MODEL_db29b9fd5f79467e8b89b932c160b34c"
          }
        },
        "51404f1a30c54fc8bee5a9f5a3ccafb1": {
          "model_module": "@jupyter-widgets/output",
          "model_name": "OutputModel",
          "state": {
            "_view_name": "OutputView",
            "msg_id": "",
            "_dom_classes": [],
            "_model_name": "OutputModel",
            "outputs": [
              {
                "output_type": "display_data",
                "metadata": {
                  "tags": []
                },
                "text/plain": "{1: 3, 5: 0, 10: 4, 50: 0, 100: 2, 500: 1}"
              }
            ],
            "_view_module": "@jupyter-widgets/output",
            "_model_module_version": "1.0.0",
            "_view_count": null,
            "_view_module_version": "1.0.0",
            "layout": "IPY_MODEL_2154018b556941b1b5f5244dd55b4c16",
            "_model_module": "@jupyter-widgets/output"
          }
        },
        "a59404f33ec0421b9e03f062e8bd8780": {
          "model_module": "@jupyter-widgets/controls",
          "model_name": "SliderStyleModel",
          "state": {
            "_view_name": "StyleView",
            "handle_color": null,
            "_model_name": "SliderStyleModel",
            "description_width": "",
            "_view_module": "@jupyter-widgets/base",
            "_model_module_version": "1.5.0",
            "_view_count": null,
            "_view_module_version": "1.2.0",
            "_model_module": "@jupyter-widgets/controls"
          }
        },
        "db29b9fd5f79467e8b89b932c160b34c": {
          "model_module": "@jupyter-widgets/base",
          "model_name": "LayoutModel",
          "state": {
            "_view_name": "LayoutView",
            "grid_template_rows": null,
            "right": null,
            "justify_content": null,
            "_view_module": "@jupyter-widgets/base",
            "overflow": null,
            "_model_module_version": "1.2.0",
            "_view_count": null,
            "flex_flow": null,
            "width": null,
            "min_width": null,
            "border": null,
            "align_items": null,
            "bottom": null,
            "_model_module": "@jupyter-widgets/base",
            "top": null,
            "grid_column": null,
            "overflow_y": null,
            "overflow_x": null,
            "grid_auto_flow": null,
            "grid_area": null,
            "grid_template_columns": null,
            "flex": null,
            "_model_name": "LayoutModel",
            "justify_items": null,
            "grid_row": null,
            "max_height": null,
            "align_content": null,
            "visibility": null,
            "align_self": null,
            "height": null,
            "min_height": null,
            "padding": null,
            "grid_auto_rows": null,
            "grid_gap": null,
            "max_width": null,
            "order": null,
            "_view_module_version": "1.2.0",
            "grid_template_areas": null,
            "object_position": null,
            "object_fit": null,
            "grid_auto_columns": null,
            "margin": null,
            "display": null,
            "left": null
          }
        },
        "2154018b556941b1b5f5244dd55b4c16": {
          "model_module": "@jupyter-widgets/base",
          "model_name": "LayoutModel",
          "state": {
            "_view_name": "LayoutView",
            "grid_template_rows": null,
            "right": null,
            "justify_content": null,
            "_view_module": "@jupyter-widgets/base",
            "overflow": null,
            "_model_module_version": "1.2.0",
            "_view_count": null,
            "flex_flow": null,
            "width": null,
            "min_width": null,
            "border": null,
            "align_items": null,
            "bottom": null,
            "_model_module": "@jupyter-widgets/base",
            "top": null,
            "grid_column": null,
            "overflow_y": null,
            "overflow_x": null,
            "grid_auto_flow": null,
            "grid_area": null,
            "grid_template_columns": null,
            "flex": null,
            "_model_name": "LayoutModel",
            "justify_items": null,
            "grid_row": null,
            "max_height": null,
            "align_content": null,
            "visibility": null,
            "align_self": null,
            "height": null,
            "min_height": null,
            "padding": null,
            "grid_auto_rows": null,
            "grid_gap": null,
            "max_width": null,
            "order": null,
            "_view_module_version": "1.2.0",
            "grid_template_areas": null,
            "object_position": null,
            "object_fit": null,
            "grid_auto_columns": null,
            "margin": null,
            "display": null,
            "left": null
          }
        },
        "c652a85db5644033ade653ffeb77c4e2": {
          "model_module": "@jupyter-widgets/controls",
          "model_name": "VBoxModel",
          "state": {
            "_view_name": "VBoxView",
            "_dom_classes": [
              "widget-interact"
            ],
            "_model_name": "VBoxModel",
            "_view_module": "@jupyter-widgets/controls",
            "_model_module_version": "1.5.0",
            "_view_count": null,
            "_view_module_version": "1.5.0",
            "box_style": "",
            "layout": "IPY_MODEL_783c185c34314e7cb6bca549087a2138",
            "_model_module": "@jupyter-widgets/controls",
            "children": [
              "IPY_MODEL_1b3e251b266643e3b83bcd8bb786a561",
              "IPY_MODEL_7e585c7e10d04258ab90b0f45822a77f",
              "IPY_MODEL_362bf507448940a4a009ddfba4e7beeb",
              "IPY_MODEL_5d97b241c312445e9c95db4c48854cfb"
            ]
          }
        },
        "783c185c34314e7cb6bca549087a2138": {
          "model_module": "@jupyter-widgets/base",
          "model_name": "LayoutModel",
          "state": {
            "_view_name": "LayoutView",
            "grid_template_rows": null,
            "right": null,
            "justify_content": null,
            "_view_module": "@jupyter-widgets/base",
            "overflow": null,
            "_model_module_version": "1.2.0",
            "_view_count": null,
            "flex_flow": null,
            "width": null,
            "min_width": null,
            "border": null,
            "align_items": null,
            "bottom": null,
            "_model_module": "@jupyter-widgets/base",
            "top": null,
            "grid_column": null,
            "overflow_y": null,
            "overflow_x": null,
            "grid_auto_flow": null,
            "grid_area": null,
            "grid_template_columns": null,
            "flex": null,
            "_model_name": "LayoutModel",
            "justify_items": null,
            "grid_row": null,
            "max_height": null,
            "align_content": null,
            "visibility": null,
            "align_self": null,
            "height": null,
            "min_height": null,
            "padding": null,
            "grid_auto_rows": null,
            "grid_gap": null,
            "max_width": null,
            "order": null,
            "_view_module_version": "1.2.0",
            "grid_template_areas": null,
            "object_position": null,
            "object_fit": null,
            "grid_auto_columns": null,
            "margin": null,
            "display": null,
            "left": null
          }
        },
        "1b3e251b266643e3b83bcd8bb786a561": {
          "model_module": "@jupyter-widgets/controls",
          "model_name": "IntSliderModel",
          "state": {
            "_view_name": "IntSliderView",
            "style": "IPY_MODEL_d7798d85cd724917bfcf3f5a1ee0655c",
            "_dom_classes": [],
            "description": "m",
            "step": 1,
            "_model_name": "IntSliderModel",
            "orientation": "horizontal",
            "max": 297,
            "_view_module": "@jupyter-widgets/controls",
            "_model_module_version": "1.5.0",
            "value": 200,
            "_view_count": null,
            "disabled": false,
            "_view_module_version": "1.5.0",
            "min": -99,
            "continuous_update": true,
            "readout_format": "d",
            "description_tooltip": null,
            "readout": true,
            "_model_module": "@jupyter-widgets/controls",
            "layout": "IPY_MODEL_8e25b634a0724c679e297e727f15665a"
          }
        },
        "7e585c7e10d04258ab90b0f45822a77f": {
          "model_module": "@jupyter-widgets/controls",
          "model_name": "IntSliderModel",
          "state": {
            "_view_name": "IntSliderView",
            "style": "IPY_MODEL_22f050bb7b954109ab17f63758cbc669",
            "_dom_classes": [],
            "description": "a",
            "step": 1,
            "_model_name": "IntSliderModel",
            "orientation": "horizontal",
            "max": 27,
            "_view_module": "@jupyter-widgets/controls",
            "_model_module_version": "1.5.0",
            "value": 8,
            "_view_count": null,
            "disabled": false,
            "_view_module_version": "1.5.0",
            "min": -9,
            "continuous_update": true,
            "readout_format": "d",
            "description_tooltip": null,
            "readout": true,
            "_model_module": "@jupyter-widgets/controls",
            "layout": "IPY_MODEL_fcc33f5fb96a4947963292663494f208"
          }
        },
        "362bf507448940a4a009ddfba4e7beeb": {
          "model_module": "@jupyter-widgets/controls",
          "model_name": "IntSliderModel",
          "state": {
            "_view_name": "IntSliderView",
            "style": "IPY_MODEL_35311c9a66a942299a8f67b03c434304",
            "_dom_classes": [],
            "description": "b",
            "step": 1,
            "_model_name": "IntSliderModel",
            "orientation": "horizontal",
            "max": 6,
            "_view_module": "@jupyter-widgets/controls",
            "_model_module_version": "1.5.0",
            "value": 2,
            "_view_count": null,
            "disabled": false,
            "_view_module_version": "1.5.0",
            "min": -2,
            "continuous_update": true,
            "readout_format": "d",
            "description_tooltip": null,
            "readout": true,
            "_model_module": "@jupyter-widgets/controls",
            "layout": "IPY_MODEL_740253cc34204ba78b74922e4bff088c"
          }
        },
        "5d97b241c312445e9c95db4c48854cfb": {
          "model_module": "@jupyter-widgets/output",
          "model_name": "OutputModel",
          "state": {
            "_view_name": "OutputView",
            "msg_id": "",
            "_dom_classes": [],
            "_model_name": "OutputModel",
            "outputs": [
              {
                "output_type": "display_data",
                "metadata": {
                  "tags": []
                },
                "application/vnd.google.colaboratory.intrinsic+json": {
                  "type": "string"
                },
                "text/plain": "'둘이 만났을 때 토끼는 160.0 km, 거북이는 40.0 km를 달려 왔습니다.'"
              }
            ],
            "_view_module": "@jupyter-widgets/output",
            "_model_module_version": "1.0.0",
            "_view_count": null,
            "_view_module_version": "1.0.0",
            "layout": "IPY_MODEL_43aa1ba2dc8b4a7bb99de245cb65ea4b",
            "_model_module": "@jupyter-widgets/output"
          }
        },
        "d7798d85cd724917bfcf3f5a1ee0655c": {
          "model_module": "@jupyter-widgets/controls",
          "model_name": "SliderStyleModel",
          "state": {
            "_view_name": "StyleView",
            "handle_color": null,
            "_model_name": "SliderStyleModel",
            "description_width": "",
            "_view_module": "@jupyter-widgets/base",
            "_model_module_version": "1.5.0",
            "_view_count": null,
            "_view_module_version": "1.2.0",
            "_model_module": "@jupyter-widgets/controls"
          }
        },
        "8e25b634a0724c679e297e727f15665a": {
          "model_module": "@jupyter-widgets/base",
          "model_name": "LayoutModel",
          "state": {
            "_view_name": "LayoutView",
            "grid_template_rows": null,
            "right": null,
            "justify_content": null,
            "_view_module": "@jupyter-widgets/base",
            "overflow": null,
            "_model_module_version": "1.2.0",
            "_view_count": null,
            "flex_flow": null,
            "width": null,
            "min_width": null,
            "border": null,
            "align_items": null,
            "bottom": null,
            "_model_module": "@jupyter-widgets/base",
            "top": null,
            "grid_column": null,
            "overflow_y": null,
            "overflow_x": null,
            "grid_auto_flow": null,
            "grid_area": null,
            "grid_template_columns": null,
            "flex": null,
            "_model_name": "LayoutModel",
            "justify_items": null,
            "grid_row": null,
            "max_height": null,
            "align_content": null,
            "visibility": null,
            "align_self": null,
            "height": null,
            "min_height": null,
            "padding": null,
            "grid_auto_rows": null,
            "grid_gap": null,
            "max_width": null,
            "order": null,
            "_view_module_version": "1.2.0",
            "grid_template_areas": null,
            "object_position": null,
            "object_fit": null,
            "grid_auto_columns": null,
            "margin": null,
            "display": null,
            "left": null
          }
        },
        "22f050bb7b954109ab17f63758cbc669": {
          "model_module": "@jupyter-widgets/controls",
          "model_name": "SliderStyleModel",
          "state": {
            "_view_name": "StyleView",
            "handle_color": null,
            "_model_name": "SliderStyleModel",
            "description_width": "",
            "_view_module": "@jupyter-widgets/base",
            "_model_module_version": "1.5.0",
            "_view_count": null,
            "_view_module_version": "1.2.0",
            "_model_module": "@jupyter-widgets/controls"
          }
        },
        "fcc33f5fb96a4947963292663494f208": {
          "model_module": "@jupyter-widgets/base",
          "model_name": "LayoutModel",
          "state": {
            "_view_name": "LayoutView",
            "grid_template_rows": null,
            "right": null,
            "justify_content": null,
            "_view_module": "@jupyter-widgets/base",
            "overflow": null,
            "_model_module_version": "1.2.0",
            "_view_count": null,
            "flex_flow": null,
            "width": null,
            "min_width": null,
            "border": null,
            "align_items": null,
            "bottom": null,
            "_model_module": "@jupyter-widgets/base",
            "top": null,
            "grid_column": null,
            "overflow_y": null,
            "overflow_x": null,
            "grid_auto_flow": null,
            "grid_area": null,
            "grid_template_columns": null,
            "flex": null,
            "_model_name": "LayoutModel",
            "justify_items": null,
            "grid_row": null,
            "max_height": null,
            "align_content": null,
            "visibility": null,
            "align_self": null,
            "height": null,
            "min_height": null,
            "padding": null,
            "grid_auto_rows": null,
            "grid_gap": null,
            "max_width": null,
            "order": null,
            "_view_module_version": "1.2.0",
            "grid_template_areas": null,
            "object_position": null,
            "object_fit": null,
            "grid_auto_columns": null,
            "margin": null,
            "display": null,
            "left": null
          }
        },
        "35311c9a66a942299a8f67b03c434304": {
          "model_module": "@jupyter-widgets/controls",
          "model_name": "SliderStyleModel",
          "state": {
            "_view_name": "StyleView",
            "handle_color": null,
            "_model_name": "SliderStyleModel",
            "description_width": "",
            "_view_module": "@jupyter-widgets/base",
            "_model_module_version": "1.5.0",
            "_view_count": null,
            "_view_module_version": "1.2.0",
            "_model_module": "@jupyter-widgets/controls"
          }
        },
        "740253cc34204ba78b74922e4bff088c": {
          "model_module": "@jupyter-widgets/base",
          "model_name": "LayoutModel",
          "state": {
            "_view_name": "LayoutView",
            "grid_template_rows": null,
            "right": null,
            "justify_content": null,
            "_view_module": "@jupyter-widgets/base",
            "overflow": null,
            "_model_module_version": "1.2.0",
            "_view_count": null,
            "flex_flow": null,
            "width": null,
            "min_width": null,
            "border": null,
            "align_items": null,
            "bottom": null,
            "_model_module": "@jupyter-widgets/base",
            "top": null,
            "grid_column": null,
            "overflow_y": null,
            "overflow_x": null,
            "grid_auto_flow": null,
            "grid_area": null,
            "grid_template_columns": null,
            "flex": null,
            "_model_name": "LayoutModel",
            "justify_items": null,
            "grid_row": null,
            "max_height": null,
            "align_content": null,
            "visibility": null,
            "align_self": null,
            "height": null,
            "min_height": null,
            "padding": null,
            "grid_auto_rows": null,
            "grid_gap": null,
            "max_width": null,
            "order": null,
            "_view_module_version": "1.2.0",
            "grid_template_areas": null,
            "object_position": null,
            "object_fit": null,
            "grid_auto_columns": null,
            "margin": null,
            "display": null,
            "left": null
          }
        },
        "43aa1ba2dc8b4a7bb99de245cb65ea4b": {
          "model_module": "@jupyter-widgets/base",
          "model_name": "LayoutModel",
          "state": {
            "_view_name": "LayoutView",
            "grid_template_rows": null,
            "right": null,
            "justify_content": null,
            "_view_module": "@jupyter-widgets/base",
            "overflow": null,
            "_model_module_version": "1.2.0",
            "_view_count": null,
            "flex_flow": null,
            "width": null,
            "min_width": null,
            "border": null,
            "align_items": null,
            "bottom": null,
            "_model_module": "@jupyter-widgets/base",
            "top": null,
            "grid_column": null,
            "overflow_y": null,
            "overflow_x": null,
            "grid_auto_flow": null,
            "grid_area": null,
            "grid_template_columns": null,
            "flex": null,
            "_model_name": "LayoutModel",
            "justify_items": null,
            "grid_row": null,
            "max_height": null,
            "align_content": null,
            "visibility": null,
            "align_self": null,
            "height": null,
            "min_height": null,
            "padding": null,
            "grid_auto_rows": null,
            "grid_gap": null,
            "max_width": null,
            "order": null,
            "_view_module_version": "1.2.0",
            "grid_template_areas": null,
            "object_position": null,
            "object_fit": null,
            "grid_auto_columns": null,
            "margin": null,
            "display": null,
            "left": null
          }
        }
      }
    }
  },
  "cells": [
    {
      "cell_type": "markdown",
      "metadata": {
        "id": "yO6-1RpOJRTQ"
      },
      "source": [
        "# 4차시"
      ]
    },
    {
      "cell_type": "code",
      "metadata": {
        "id": "zvOZfD7IMPlc"
      },
      "source": [
        "# 기본 설정\n",
        "import ipywidgets as widgets # 실시간 업데이트: 완전 좋은 기능"
      ],
      "execution_count": null,
      "outputs": []
    },
    {
      "cell_type": "markdown",
      "metadata": {
        "id": "Yw6KezlVJT--"
      },
      "source": [
        "## 지난 차시 복습"
      ]
    },
    {
      "cell_type": "code",
      "metadata": {
        "colab": {
          "base_uri": "https://localhost:8080/"
        },
        "id": "LZ7rQncOJXkC",
        "outputId": "c0af627e-a4e7-441a-b1fc-d464d975d8d8"
      },
      "source": [
        "s = [1, 3, 3, 5]\n",
        "a = s.count(3)\n",
        "print(a) #@markdown 예상결과: `2`"
      ],
      "execution_count": null,
      "outputs": [
        {
          "output_type": "stream",
          "text": [
            "2\n"
          ],
          "name": "stdout"
        }
      ]
    },
    {
      "cell_type": "code",
      "metadata": {
        "colab": {
          "base_uri": "https://localhost:8080/"
        },
        "id": "4A5xRBxJJdcD",
        "outputId": "584e4bbf-d72c-4e03-81ba-b9b3fb51112b"
      },
      "source": [
        "a = s.index(3, 2)\n",
        "print(a) #@markdown 예상결과: `2`"
      ],
      "execution_count": null,
      "outputs": [
        {
          "output_type": "stream",
          "text": [
            "2\n"
          ],
          "name": "stdout"
        }
      ]
    },
    {
      "cell_type": "code",
      "metadata": {
        "colab": {
          "base_uri": "https://localhost:8080/"
        },
        "id": "MY_eH-kNJjzP",
        "outputId": "b1217689-6813-4a81-9177-8e4b6a26482e"
      },
      "source": [
        "s = [1, 3, 3, 5]\n",
        "s.insert(3, 4)\n",
        "print(s) #@markdown 예상결과: `[1, 3, 3, 4, 5]`"
      ],
      "execution_count": null,
      "outputs": [
        {
          "output_type": "stream",
          "text": [
            "[1, 3, 3, 4, 5]\n"
          ],
          "name": "stdout"
        }
      ]
    },
    {
      "cell_type": "code",
      "metadata": {
        "colab": {
          "base_uri": "https://localhost:8080/"
        },
        "id": "-11t6fTMJsGk",
        "outputId": "6218e3ba-7d18-4cb0-efac-9926e1ff31c9"
      },
      "source": [
        "s = [1, 5, 3, 7, 5]\n",
        "s.sort()\n",
        "print(s) #@markdown 예상결과: 오름차순으로 정렬된 거"
      ],
      "execution_count": null,
      "outputs": [
        {
          "output_type": "stream",
          "text": [
            "[1, 3, 5, 5, 7]\n"
          ],
          "name": "stdout"
        }
      ]
    },
    {
      "cell_type": "code",
      "metadata": {
        "colab": {
          "base_uri": "https://localhost:8080/"
        },
        "id": "LWwAw_DIJ6Lw",
        "outputId": "7fa7c022-fdb3-4e09-f2a9-e889b463b823"
      },
      "source": [
        "a = 'You need py.'.split()\n",
        "a.sort(key=str.lower, reverse=True)\n",
        "print(a) #@markdown 예상결과: `['You', 'py.', 'need']`"
      ],
      "execution_count": null,
      "outputs": [
        {
          "output_type": "stream",
          "text": [
            "['You', 'py.', 'need']\n"
          ],
          "name": "stdout"
        }
      ]
    },
    {
      "cell_type": "code",
      "metadata": {
        "colab": {
          "base_uri": "https://localhost:8080/"
        },
        "id": "WQcVFpoAKGuy",
        "outputId": "4676da38-7148-4aff-85c5-356edf0d881e"
      },
      "source": [
        "s = 'str method test'\n",
        "print(s.center(20, '-')) #@markdown 예상결과: 대충 좌우에 '-' 반복해서 20글자"
      ],
      "execution_count": null,
      "outputs": [
        {
          "output_type": "stream",
          "text": [
            "--str method test---\n"
          ],
          "name": "stdout"
        }
      ]
    },
    {
      "cell_type": "code",
      "metadata": {
        "colab": {
          "base_uri": "https://localhost:8080/"
        },
        "id": "MWqVAMycKSB1",
        "outputId": "2fdb4d75-3079-4a4b-84a1-9c8605c2ad1e"
      },
      "source": [
        "print(s.find('met')) #@markdown 예상결과: `4`"
      ],
      "execution_count": null,
      "outputs": [
        {
          "output_type": "stream",
          "text": [
            "4\n"
          ],
          "name": "stdout"
        }
      ]
    },
    {
      "cell_type": "code",
      "metadata": {
        "colab": {
          "base_uri": "https://localhost:8080/"
        },
        "id": "2QwryGuOKXeQ",
        "outputId": "82a25cd2-7789-4b91-87c2-2cd5f79517b1"
      },
      "source": [
        "print(s.split(' ', 1)) #@markdown 예상결과: str, method test"
      ],
      "execution_count": null,
      "outputs": [
        {
          "output_type": "stream",
          "text": [
            "['str', 'method test']\n"
          ],
          "name": "stdout"
        }
      ]
    },
    {
      "cell_type": "code",
      "metadata": {
        "colab": {
          "base_uri": "https://localhost:8080/"
        },
        "id": "d8N_xnf6KdRY",
        "outputId": "57740c30-bec7-40f5-afdc-128f3f8afec3"
      },
      "source": [
        "s = '35'\n",
        "print(s.zfill(7)) #@markdown 예상결과: 0000035"
      ],
      "execution_count": null,
      "outputs": [
        {
          "output_type": "stream",
          "text": [
            "0000035\n"
          ],
          "name": "stdout"
        }
      ]
    },
    {
      "cell_type": "code",
      "metadata": {
        "colab": {
          "base_uri": "https://localhost:8080/"
        },
        "id": "hJy6sX-0KqLj",
        "outputId": "13f9118f-cccf-465b-968d-bee41d69c20b"
      },
      "source": [
        "name = 'banana'\n",
        "print('{0:^10}'.format(name)) #@markdown 예상결과: `'  banana  '`"
      ],
      "execution_count": null,
      "outputs": [
        {
          "output_type": "stream",
          "text": [
            "  banana  \n"
          ],
          "name": "stdout"
        }
      ]
    },
    {
      "cell_type": "markdown",
      "metadata": {
        "id": "sLhVywaeL17q"
      },
      "source": [
        "## 2. 과제 #1: '동전 문제'\n",
        "거스름돈이 1000원 미만 > 최소 동전 개수\n",
        "동전: 500, 100, 50, 10, 5, 1원"
      ]
    },
    {
      "cell_type": "code",
      "metadata": {
        "colab": {
          "base_uri": "https://localhost:8080/",
          "height": 66,
          "referenced_widgets": [
            "13d41ff1f21f453da31b15907de3810d",
            "a468c4d49ef146859e62d4d02181256c",
            "a9af0ab34184467a9314818e25a5c590",
            "51404f1a30c54fc8bee5a9f5a3ccafb1",
            "a59404f33ec0421b9e03f062e8bd8780",
            "db29b9fd5f79467e8b89b932c160b34c",
            "2154018b556941b1b5f5244dd55b4c16"
          ]
        },
        "id": "e9eQNiBULD-K",
        "outputId": "b79814a6-4f6b-4c7c-e794-a89caf3d651b"
      },
      "source": [
        "# 일단 높은 돈을 먼저 쓰기\n",
        "coinKinds = [500, 100, 50, 10, 5, 1] #@param\n",
        "\n",
        "@widgets.interact(m=widgets.IntSlider(min=1, max=999, step=1, value=637))\n",
        "def calculateMoney(m):\n",
        "  # checks\n",
        "  if not isinstance(m, int):\n",
        "    raise TypeError('Money should be integer')\n",
        "  if m <= 0:\n",
        "    raise Exception('Money should be positive')\n",
        "  \n",
        "  coinCounts = []\n",
        "  current = m\n",
        "  index = 0\n",
        "\n",
        "  while current > 0:\n",
        "    if index >= len(coinKinds):\n",
        "      raise 'Unexpected index'\n",
        "\n",
        "    kind = coinKinds[index]\n",
        "    count, current = divmod(current, kind)\n",
        "\n",
        "    coinCounts.append(count)\n",
        "    index += 1\n",
        "  \n",
        "  return {kind: (0 if index >= len(coinCounts) else coinCounts[index]) for index, kind in enumerate(coinKinds)}"
      ],
      "execution_count": null,
      "outputs": [
        {
          "output_type": "display_data",
          "data": {
            "application/vnd.jupyter.widget-view+json": {
              "model_id": "13d41ff1f21f453da31b15907de3810d",
              "version_minor": 0,
              "version_major": 2
            },
            "text/plain": [
              "interactive(children=(IntSlider(value=637, description='m', max=999, min=1), Output()), _dom_classes=('widget-…"
            ]
          },
          "metadata": {
            "tags": []
          }
        }
      ]
    },
    {
      "cell_type": "markdown",
      "metadata": {
        "id": "8FaNr9QCQv4o"
      },
      "source": [
        "## 3. 과제 #2: 토끼와 거북이\n",
        "**예시 상황:**  \n",
        "거리: 99 km  \n",
        "v = 토끼: 9 km/hour, 거북이: -2 km/hour  \n",
        "t = 9 hour  "
      ]
    },
    {
      "cell_type": "code",
      "metadata": {
        "colab": {
          "base_uri": "https://localhost:8080/",
          "height": 131,
          "referenced_widgets": [
            "c652a85db5644033ade653ffeb77c4e2",
            "783c185c34314e7cb6bca549087a2138",
            "1b3e251b266643e3b83bcd8bb786a561",
            "7e585c7e10d04258ab90b0f45822a77f",
            "362bf507448940a4a009ddfba4e7beeb",
            "5d97b241c312445e9c95db4c48854cfb",
            "d7798d85cd724917bfcf3f5a1ee0655c",
            "8e25b634a0724c679e297e727f15665a",
            "22f050bb7b954109ab17f63758cbc669",
            "fcc33f5fb96a4947963292663494f208",
            "35311c9a66a942299a8f67b03c434304",
            "740253cc34204ba78b74922e4bff088c",
            "43aa1ba2dc8b4a7bb99de245cb65ea4b"
          ]
        },
        "id": "fddJ8asvROA8",
        "outputId": "107260f2-514a-403b-b668-24e2719f186e"
      },
      "source": [
        "@widgets.interact(m=99, a=9, b=2)\n",
        "def rabbitTurtle(m, a, b):\n",
        "  t = m / (a + b)\n",
        "  ka = t * a\n",
        "  kb = t * b\n",
        "  return f'둘이 만났을 때 토끼는 {round(ka, 3)} km, 거북이는 {round(kb, 3)} km를 달려 왔습니다.'"
      ],
      "execution_count": null,
      "outputs": [
        {
          "output_type": "display_data",
          "data": {
            "application/vnd.jupyter.widget-view+json": {
              "model_id": "c652a85db5644033ade653ffeb77c4e2",
              "version_minor": 0,
              "version_major": 2
            },
            "text/plain": [
              "interactive(children=(IntSlider(value=99, description='m', max=297, min=-99), IntSlider(value=9, description='…"
            ]
          },
          "metadata": {
            "tags": []
          }
        }
      ]
    }
  ]
}