{
 "cells": [
  {
   "cell_type": "markdown",
   "metadata": {},
   "source": [
    "# 8일차"
   ]
  },
  {
   "cell_type": "markdown",
   "metadata": {},
   "source": [
    "## Scope와 전역변수"
   ]
  },
  {
   "cell_type": "code",
   "execution_count": 1,
   "metadata": {},
   "outputs": [
    {
     "name": "stdout",
     "output_type": "stream",
     "text": [
      "func1: a=10\n",
      "func2: a=20\n"
     ]
    }
   ],
   "source": [
    "def func1():\n",
    "  a = 10\n",
    "  print(f'func1: a={a}')\n",
    "\n",
    "def func2():\n",
    "  print(f'func2: a={a}')\n",
    "\n",
    "a = 20\n",
    "func1()\n",
    "func2()"
   ]
  },
  {
   "cell_type": "code",
   "execution_count": 3,
   "metadata": {},
   "outputs": [
    {
     "name": "stdout",
     "output_type": "stream",
     "text": [
      "func1: a=10\n",
      "func2: a=10\n"
     ]
    }
   ],
   "source": [
    "def func1():\n",
    "  global a\n",
    "  a = 10\n",
    "  print(f'func1: a={a}')\n",
    "\n",
    "def func2():\n",
    "  print(f'func2: a={a}')\n",
    "\n",
    "a = 20\n",
    "func1()\n",
    "func2()"
   ]
  },
  {
   "cell_type": "code",
   "execution_count": null,
   "metadata": {},
   "outputs": [],
   "source": [
    "def func1():\n",
    "  result1 = 100\n",
    "  return result1\n",
    "\n",
    "def func2():\n",
    "  print('No return')\n",
    "\n",
    "hap = 0\n",
    "\n",
    "hap = func1()\n",
    "print(hap)\n",
    "func2()"
   ]
  },
  {
   "cell_type": "markdown",
   "metadata": {},
   "source": [
    "## 리스트?"
   ]
  },
  {
   "cell_type": "code",
   "execution_count": 1,
   "metadata": {},
   "outputs": [],
   "source": [
    "from tkinter import *\n",
    "\n",
    "window = Tk()\n",
    "\n",
    "Label(window, text='Enter a name').grid(column=0, row=0)\n",
    "\n",
    "text = StringVar()\n",
    "\n",
    "def insert():\n",
    "  l.insert(l.size(), text.get())\n",
    "  text.set('')\n",
    "\n",
    "l = Listbox(window, selectmode='extended')\n",
    "l.grid(column=1, row=2)\n",
    "\n",
    "e = Entry(window, textvariable=text)\n",
    "e.grid(column=1, row=0)\n",
    "e.bind('<Return>', lambda _event: insert())\n",
    "\n",
    "Button(window, text='Add to list', command=insert).grid(column=2, row=0)\n",
    "Button(window, text='Clear list', command=lambda: l.delete(0, l.size())).grid(column=2, row=1)\n",
    "\n",
    "window.mainloop()"
   ]
  }
 ],
 "metadata": {
  "interpreter": {
   "hash": "75ffff6d4f5ed7f54977765604b08bbeb08b44b7854def9bde97e4aa01295d9f"
  },
  "kernelspec": {
   "display_name": "Python 3.10.0 64-bit ('.env': venv)",
   "language": "python",
   "name": "python3"
  },
  "language_info": {
   "codemirror_mode": {
    "name": "ipython",
    "version": 3
   },
   "file_extension": ".py",
   "mimetype": "text/x-python",
   "name": "python",
   "nbconvert_exporter": "python",
   "pygments_lexer": "ipython3",
   "version": "3.10.0"
  },
  "orig_nbformat": 4
 },
 "nbformat": 4,
 "nbformat_minor": 2
}
