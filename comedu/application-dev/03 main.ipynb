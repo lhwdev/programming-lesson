{
 "cells": [
  {
   "cell_type": "markdown",
   "source": [
    "# 3일차"
   ],
   "metadata": {}
  },
  {
   "cell_type": "markdown",
   "source": [
    "## 반복문/리스트"
   ],
   "metadata": {}
  },
  {
   "cell_type": "code",
   "execution_count": null,
   "source": [
    "a = [1, 2, 3, 4, 5]\r\n",
    "a.append(6)\r\n",
    "print(a)\r\n",
    "a[1:3]"
   ],
   "outputs": [
    {
     "output_type": "stream",
     "name": "stdout",
     "text": [
      "[1, 2, 3, 4, 5, 6]\n"
     ]
    },
    {
     "output_type": "execute_result",
     "data": {
      "text/plain": [
       "[2, 3]"
      ]
     },
     "metadata": {},
     "execution_count": 4
    }
   ],
   "metadata": {}
  },
  {
   "cell_type": "code",
   "execution_count": 6,
   "source": [
    "aa = []\r\n",
    "length = int(input('길이: '))\r\n",
    "\r\n",
    "for i in range(0, length):\r\n",
    "  aa.append(int(input(f'{i}번째 항목:')))\r\n",
    "\r\n",
    "print(sum(aa))"
   ],
   "outputs": [
    {
     "output_type": "stream",
     "name": "stdout",
     "text": [
      "11\n"
     ]
    }
   ],
   "metadata": {}
  },
  {
   "cell_type": "code",
   "execution_count": null,
   "source": [
    "aa = []\r\n",
    "bb = []\r\n",
    "value = 0\r\n",
    "\r\n",
    "for i in range(0, 100):\r\n",
    "  aa.append(value)\r\n",
    "  value += 2\r\n",
    "\r\n",
    "for i in range(0, 100):\r\n",
    "  bb.append(aa[99 - i])\r\n",
    "\r\n",
    "print(f'bb[0] = {bb[0]}, bb[99] = {bb[99]}')"
   ],
   "outputs": [
    {
     "output_type": "stream",
     "name": "stdout",
     "text": [
      "bb[0] = 198, bb[99] = 0\n"
     ]
    }
   ],
   "metadata": {}
  },
  {
   "cell_type": "code",
   "execution_count": null,
   "source": [
    "myList = [30, 10, 20]\r\n",
    "print(myList)\r\n",
    "myList.append(40)\r\n",
    "print('popped', myList.pop())\r\n",
    "print('post-list:', myList)\r\n",
    "\r\n",
    "print('index of 20:', myList.index(20))\r\n",
    "myList.insert(2, 222)\r\n",
    "print(myList)\r\n",
    "myList.remove(222)\r\n",
    "print(myList)\r\n",
    "\r\n",
    "myList.extend([77, 88, 77])\r\n",
    "print('post-extend:', myList)\r\n",
    "\r\n",
    "print('count of `77`:', myList.count(77))"
   ],
   "outputs": [
    {
     "output_type": "stream",
     "name": "stdout",
     "text": [
      "[30, 10, 20]\n",
      "popped 40\n",
      "post-list: [30, 10, 20]\n",
      "index of 20: 2\n",
      "[30, 10, 222, 20]\n",
      "[30, 10, 20]\n",
      "post-extend: [30, 10, 20, 77, 88, 77]\n",
      "count of `77`: 2\n"
     ]
    }
   ],
   "metadata": {}
  },
  {
   "cell_type": "markdown",
   "source": [
    "### 실습 1. 이름 입력받아 출력하기"
   ],
   "metadata": {}
  },
  {
   "cell_type": "code",
   "execution_count": null,
   "source": [
    "l = []\r\n",
    "for i in range(0, 5):\r\n",
    "  l.append(input(f'{i + 1}번째 사람 이름:'))\r\n",
    "\r\n",
    "for item in l:\r\n",
    "  print(item, end = ' ')"
   ],
   "outputs": [
    {
     "output_type": "stream",
     "name": "stdout",
     "text": [
      "아 야 어 여 요 "
     ]
    }
   ],
   "metadata": {}
  },
  {
   "cell_type": "markdown",
   "source": [
    "### 실습 2"
   ],
   "metadata": {}
  },
  {
   "cell_type": "code",
   "execution_count": null,
   "source": [
    "array = [11, 30, 22, 5, 20]\r\n",
    "for item in array:\r\n",
    "  print(item, end = ' ')"
   ],
   "outputs": [
    {
     "output_type": "stream",
     "name": "stdout",
     "text": [
      "11 30 22 5 20 "
     ]
    }
   ],
   "metadata": {}
  },
  {
   "cell_type": "markdown",
   "source": [
    "### 실습 3. 최댓값 찾기"
   ],
   "metadata": {}
  },
  {
   "cell_type": "code",
   "execution_count": null,
   "source": [
    "for character in 'hello, world!':\r\n",
    "  print(f'-{character}', end='')"
   ],
   "outputs": [
    {
     "output_type": "stream",
     "name": "stdout",
     "text": [
      "-h-e-l-l-o-,- -w-o-r-l-d-!"
     ]
    }
   ],
   "metadata": {}
  },
  {
   "cell_type": "markdown",
   "source": [
    "### 실습 4. 최댓값 찾기"
   ],
   "metadata": {}
  },
  {
   "cell_type": "code",
   "execution_count": null,
   "source": [
    "v = [7, 99, 18, 35, 57, 71, 33, 43]\r\n",
    "m = v[0]\r\n",
    "for item in v:\r\n",
    "  if item > m:\r\n",
    "    m = item\r\n",
    "\r\n",
    "print(f'최댓값: {m}')"
   ],
   "outputs": [
    {
     "output_type": "stream",
     "name": "stdout",
     "text": [
      "최댓값: 99\n"
     ]
    }
   ],
   "metadata": {}
  },
  {
   "cell_type": "code",
   "execution_count": null,
   "source": [
    "# 함수 버전\r\n",
    "def f_max(v):\r\n",
    "  m = v[0]\r\n",
    "  for item in v:\r\n",
    "    if item > m:\r\n",
    "      m = item\r\n",
    "  return m\r\n",
    "\r\n",
    "\r\n",
    "print(f_max([7, 99, 18, 35, 57, 71, 33, 43]))\r\n",
    "print(f_max([1, 8, 23, 35, 8, 20]))\r\n"
   ],
   "outputs": [
    {
     "output_type": "stream",
     "name": "stdout",
     "text": [
      "99\n"
     ]
    }
   ],
   "metadata": {}
  },
  {
   "cell_type": "markdown",
   "source": [
    "### 실습 5. 가장 큰 숫자 위치"
   ],
   "metadata": {}
  },
  {
   "cell_type": "code",
   "execution_count": null,
   "source": [
    "v = [7, 99, 18, 35, 57, 71, 33, 43]\r\n",
    "m = v[0]\r\n",
    "i = 0\r\n",
    "for (index, item) in enumerate(v):\r\n",
    "  if item > m:\r\n",
    "    m = item\r\n",
    "    i = index\r\n",
    "\r\n",
    "print(f'최댓값: {m}, 위치: {i}')"
   ],
   "outputs": [
    {
     "output_type": "stream",
     "name": "stdout",
     "text": [
      "최댓값: 99, 위치: 1\n"
     ]
    }
   ],
   "metadata": {}
  },
  {
   "cell_type": "markdown",
   "source": [
    "### 실습 6. 리스트 정렬\r\n",
    "~~으아아아아아아~~"
   ],
   "metadata": {}
  },
  {
   "cell_type": "code",
   "execution_count": null,
   "source": [
    "from random import randint\r\n",
    "original = [randint(0, 2000) for i in range(0, 20)]\r\n",
    "n = len(original)\r\n",
    "\r\n",
    "\r\n",
    "def swap(list, a, b):\r\n",
    "  temp = list[a]\r\n",
    "  list[a] = list[b]\r\n",
    "  list[b] = temp"
   ],
   "outputs": [],
   "metadata": {}
  },
  {
   "cell_type": "markdown",
   "source": [
    "#### 기본적인 정렬 (찾아보니 Selection sort임)\r\n",
    "- 직접 만듦"
   ],
   "metadata": {}
  },
  {
   "cell_type": "code",
   "execution_count": 8,
   "source": [
    "# linear: O(n^2)\r\n",
    "\r\n",
    "l = original.copy()\r\n",
    "\r\n",
    "\r\n",
    "def minIndex(start):\r\n",
    "  m = (start, l[start])\r\n",
    "  for i in range(start, len(l)):\r\n",
    "    if l[i] < m[1]:\r\n",
    "      m = (i, l[i])\r\n",
    "  return m[0]\r\n",
    "\r\n",
    "\r\n",
    "for x in range(0, len(l)):\r\n",
    "  m = minIndex(x)\r\n",
    "  swap(l, m, x)\r\n",
    "\r\n",
    "print(l)"
   ],
   "outputs": [
    {
     "output_type": "stream",
     "name": "stdout",
     "text": [
      "[96, 196, 217, 527, 605, 623, 890, 1023, 1031, 1087, 1139, 1193, 1391, 1453, 1475, 1493, 1621, 1834, 1868, 1978]\n"
     ]
    }
   ],
   "metadata": {}
  },
  {
   "cell_type": "markdown",
   "source": [
    "#### 뭔지 모르지만 정렬(실패)\r\n",
    "- 직접 만들다 실패"
   ],
   "metadata": {}
  },
  {
   "cell_type": "code",
   "execution_count": 9,
   "source": [
    "# what sort is it called IDK\r\n",
    "# 실패...\r\n",
    "l = original.copy()\r\n",
    "\r\n",
    "# sort for minimum block\r\n",
    "for start in range(0, n, 2):\r\n",
    "  a = l[start]\r\n",
    "  b = l[start + 1]\r\n",
    "  if a < b:\r\n",
    "    l[start] = b\r\n",
    "    l[start + 1] = a\r\n",
    "\r\n",
    "blockSize = 2\r\n",
    "\r\n",
    "while(blockSize < n):\r\n",
    "  for start in range(0, blockSize):\r\n",
    "    for iteration in range(start, n, blockSize):\r\n",
    "      minValue = l[iteration]\r\n",
    "      minIndex = iteration\r\n",
    "      for i in range(iteration, n, blockSize):\r\n",
    "        if l[i] < minValue:\r\n",
    "          minValue = l[i]\r\n",
    "          minIndex = i\r\n",
    "\r\n",
    "      swap(l, minIndex, iteration)\r\n",
    "\r\n",
    "\r\n",
    "  blockSize = blockSize * 2\r\n",
    "\r\n",
    "print(l)"
   ],
   "outputs": [
    {
     "output_type": "stream",
     "name": "stdout",
     "text": [
      "[890, 96, 1023, 196, 1139, 217, 1193, 527, 1391, 605, 1493, 623, 1621, 1031, 1834, 1087, 1868, 1453, 1978, 1475]\n"
     ]
    }
   ],
   "metadata": {}
  },
  {
   "cell_type": "markdown",
   "source": [
    "#### Quick sort\r\n",
    "[참고 문서: 위키피디아](https://ko.wikipedia.org/wiki/%ED%80%B5_%EC%A0%95%EB%A0%AC)"
   ],
   "metadata": {}
  },
  {
   "cell_type": "code",
   "execution_count": 7,
   "source": [
    "def partition(arr, start, end):\r\n",
    "  # select pivot from first element\r\n",
    "  pivot = arr[start]\r\n",
    "\r\n",
    "  left = start + 1\r\n",
    "  right = end\r\n",
    "\r\n",
    "  done = False\r\n",
    "\r\n",
    "  while not done:\r\n",
    "    # advance left while less than pivot\r\n",
    "    while left <= right and arr[left] <= pivot:\r\n",
    "      left += 1\r\n",
    "\r\n",
    "    # advance right while greater than pivot\r\n",
    "    while left <= right and pivot <= arr[right]:\r\n",
    "      right -= 1\r\n",
    "\r\n",
    "    if right < left:\r\n",
    "      # ended\r\n",
    "      done = True\r\n",
    "    else:\r\n",
    "      # swap\r\n",
    "      swap(arr, left, right)\r\n",
    "\r\n",
    "  swap(arr, start, right)\r\n",
    "\r\n",
    "  return right\r\n",
    "\r\n",
    "\r\n",
    "def quickSort(arr, start, end):\r\n",
    "  if start < end:\r\n",
    "    pivot = partition(arr, start, end)\r\n",
    "    quickSort(arr, start, pivot - 1)\r\n",
    "    quickSort(arr, pivot + 1, end)\r\n",
    "  return arr\r\n",
    "\r\n",
    "l = original.copy()\r\n",
    "quickSort(l, 0, n - 1)\r\n",
    "print(l)"
   ],
   "outputs": [
    {
     "output_type": "stream",
     "name": "stdout",
     "text": [
      "[96, 196, 217, 527, 605, 623, 890, 1023, 1031, 1087, 1139, 1193, 1391, 1453, 1475, 1493, 1621, 1834, 1868, 1978]\n"
     ]
    }
   ],
   "metadata": {}
  },
  {
   "cell_type": "markdown",
   "source": [
    "#### Bubble sort\r\n",
    "[참고 문서: 위키피디아](https://ko.wikipedia.org/wiki/%EA%B1%B0%ED%92%88_%EC%A0%95%EB%A0%AC)"
   ],
   "metadata": {}
  },
  {
   "cell_type": "code",
   "execution_count": 10,
   "source": [
    "# swap two adjacent elements\r\n",
    "def bubbleSort(l):\r\n",
    "  length = len(l) - 1\r\n",
    "\r\n",
    "  for i in range(length):\r\n",
    "    for j in range(length - i):\r\n",
    "      if l[j] > l[j + 1]:\r\n",
    "        swap(l, j, j + 1)\r\n",
    "\r\n",
    "l = original.copy()\r\n",
    "bubbleSort(l)\r\n",
    "print(l)"
   ],
   "outputs": [
    {
     "output_type": "stream",
     "name": "stdout",
     "text": [
      "[96, 196, 217, 527, 605, 623, 890, 1023, 1031, 1087, 1139, 1193, 1391, 1453, 1475, 1493, 1621, 1834, 1868, 1978]\n"
     ]
    }
   ],
   "metadata": {}
  },
  {
   "cell_type": "markdown",
   "source": [
    "#### 직접 구현한 것 3 (찾아보니 Merge sort)"
   ],
   "metadata": {}
  },
  {
   "cell_type": "code",
   "execution_count": 37,
   "source": [
    "def mergeSort(l):\r\n",
    "  ln = len(l)\r\n",
    "  if ln == 1:\r\n",
    "    return\r\n",
    "  center = round(ln / 2)\r\n",
    "  if center == 0 or center == ln:\r\n",
    "    return\r\n",
    "\r\n",
    "  left = l[0:center]\r\n",
    "  ll = len(left)\r\n",
    "  mergeSort(left)\r\n",
    "  right = l[center:ln]\r\n",
    "  rl = len(right)\r\n",
    "  mergeSort(right)\r\n",
    "\r\n",
    "  i = 0\r\n",
    "  j = 0\r\n",
    "\r\n",
    "  for index in range(0, ln):\r\n",
    "    a = left[i]\r\n",
    "    b = right[j]\r\n",
    "    if a < b:\r\n",
    "      l[index] = a\r\n",
    "      i += 1\r\n",
    "\r\n",
    "      if i >= ll:\r\n",
    "        for ii in range(index + 1, ln):\r\n",
    "          l[ii] = right[j]\r\n",
    "          j += 1\r\n",
    "        break\r\n",
    "\r\n",
    "    else:\r\n",
    "      l[index] = b\r\n",
    "      j += 1\r\n",
    "\r\n",
    "      if j >= rl:\r\n",
    "        for ii in range(index + 1, ln):\r\n",
    "          l[ii] = left[i]\r\n",
    "          i += 1\r\n",
    "        break\r\n",
    "\r\n",
    "\r\n",
    "l = original.copy()\r\n",
    "mergeSort(l)\r\n",
    "print(l)"
   ],
   "outputs": [
    {
     "output_type": "stream",
     "name": "stdout",
     "text": [
      "[96, 196, 217, 527, 605, 623, 890, 1023, 1031, 1087, 1139, 1193, 1391, 1453, 1475, 1493, 1621, 1834, 1868, 1978]\n"
     ]
    }
   ],
   "metadata": {}
  },
  {
   "cell_type": "markdown",
   "source": [
    "### 실습 7. 출력 결과와 같은 리스트\r\n",
    "```\r\n",
    "1 2 3 4\r\n",
    "5 6 7 8\r\n",
    "9 10 11 12\r\n",
    "```"
   ],
   "metadata": {}
  },
  {
   "cell_type": "code",
   "execution_count": 43,
   "source": [
    "l = []\r\n",
    "\r\n",
    "value = 1\r\n",
    "for x in range(0, 3):\r\n",
    "  lx = []\r\n",
    "\r\n",
    "  for y in range(0, 4):\r\n",
    "    lx.append(value)\r\n",
    "    value = value + 1\r\n",
    "    \r\n",
    "  l.append(lx)\r\n",
    "\r\n",
    "# 1번 방식\r\n",
    "for x in range(0, 3):\r\n",
    "  for y in range(0, 4):\r\n",
    "    print(l[x][y], end = '\\t')\r\n",
    "  print()\r\n",
    "\r\n",
    "print('-------------------------------')\r\n",
    "\r\n",
    "# 2번 방식 (훨씬 깔끔하고 가변적이긴 함)\r\n",
    "for x in l:\r\n",
    "  for y in x:\r\n",
    "    print(y, end = '\\t')\r\n",
    "  print()"
   ],
   "outputs": [
    {
     "output_type": "stream",
     "name": "stdout",
     "text": [
      "1\t2\t3\t4\t\n",
      "5\t6\t7\t8\t\n",
      "9\t10\t11\t12\t\n",
      "-------------------------------\n",
      "1\t2\t3\t4\t\n",
      "5\t6\t7\t8\t\n",
      "9\t10\t11\t12\t\n"
     ]
    }
   ],
   "metadata": {}
  },
  {
   "cell_type": "markdown",
   "source": [
    "## 함수"
   ],
   "metadata": {}
  },
  {
   "cell_type": "code",
   "execution_count": 1,
   "source": [
    "def mul(a, b):\r\n",
    "  '''\r\n",
    "    계산하는 함수. 받은 두 인자(a, b)를 곱해서 반환합니다.\r\n",
    "\r\n",
    "    인자들:\r\n",
    "    - a, b: 피연산자.\r\n",
    "  '''\r\n",
    "  return a * b\r\n",
    "\r\n",
    "mul(3, 5)"
   ],
   "outputs": [
    {
     "output_type": "execute_result",
     "data": {
      "text/plain": [
       "15"
      ]
     },
     "metadata": {},
     "execution_count": 1
    }
   ],
   "metadata": {}
  },
  {
   "cell_type": "code",
   "execution_count": 4,
   "source": [
    "def prints(*data):\r\n",
    "  print(*data)\r\n",
    "\r\n",
    "prints('hello', 'world')"
   ],
   "outputs": [
    {
     "output_type": "stream",
     "name": "stdout",
     "text": [
      "hello world\n"
     ]
    }
   ],
   "metadata": {}
  },
  {
   "cell_type": "markdown",
   "source": [
    "### 실습 1. 사용자 정의 함수를 만들고 출력 결과와 같은 프로그램을 작성하시오.\r\n",
    "**조건:**\r\n",
    "- 14시에 상품을 3개 이상 구매하면 10&nbsp;% 할인\r\n",
    "- 20시에 상품을 5개 이상 구매하면 20&nbsp;% 할인"
   ],
   "metadata": {}
  },
  {
   "cell_type": "code",
   "execution_count": 1,
   "source": [
    "def calcValue(name: str, hour: int, count: int, price: int):\r\n",
    "  discount = 0\r\n",
    "  if hour == 14 and count >= 3:\r\n",
    "    discount = 10\r\n",
    "  if hour == 20 and count >= 5:\r\n",
    "    discount = 20\r\n",
    "  \r\n",
    "  if discount == 0: discountStr = '할인 없음'\r\n",
    "  else: discountStr = f'{discount}% 할인'\r\n",
    "  \r\n",
    "  realPrice = int(price * (100 - discount) / 100)\r\n",
    "  print(f'{name}씨는 {discountStr}, {realPrice}원')"
   ],
   "outputs": [],
   "metadata": {}
  },
  {
   "cell_type": "code",
   "execution_count": 16,
   "source": [
    "calcValue(name = 'kim', hour = 15, count = 3, price = 30000)\r\n",
    "calcValue(name = 'lee', hour = 14, count = 5, price = 20000)\r\n",
    "calcValue(name = 'seo', hour = 15, count = 8, price = 53000)"
   ],
   "outputs": [
    {
     "output_type": "stream",
     "name": "stdout",
     "text": [
      "kim씨는 할인 없음, 30000원\n",
      "lee씨는 10% 할인, 18000원\n",
      "seo씨는 할인 없음, 53000원\n"
     ]
    }
   ],
   "metadata": {}
  }
 ],
 "metadata": {
  "orig_nbformat": 4,
  "language_info": {
   "name": "python",
   "version": "3.8.5",
   "mimetype": "text/x-python",
   "codemirror_mode": {
    "name": "ipython",
    "version": 3
   },
   "pygments_lexer": "ipython3",
   "nbconvert_exporter": "python",
   "file_extension": ".py"
  },
  "kernelspec": {
   "name": "python3",
   "display_name": "Python 3.8.5 32-bit ('.env': venv)"
  },
  "interpreter": {
   "hash": "59850c2ded70e3df8703cfdbeebd082f3258e69b9dc9afe4c741c2960be27dc7"
  }
 },
 "nbformat": 4,
 "nbformat_minor": 2
}