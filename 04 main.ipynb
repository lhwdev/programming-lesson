{
 "cells": [
  {
   "cell_type": "markdown",
   "source": [
    "# 4일차"
   ],
   "metadata": {}
  },
  {
   "cell_type": "markdown",
   "source": [
    "## 함수 2"
   ],
   "metadata": {}
  },
  {
   "cell_type": "markdown",
   "source": [
    "### 실습 1. 출력 결과와 같은 프로그램"
   ],
   "metadata": {}
  },
  {
   "cell_type": "code",
   "execution_count": 16,
   "source": [
    "# 조사가 안 맞는 게 불편해서 가져옴\r\n",
    "# 출처: https://frhyme.github.io/python/python_korean_englished/\r\n",
    "\r\n",
    "# 초성 리스트. 00 ~ 18\r\n",
    "CHOSUNG_LIST = [\r\n",
    "    'ㄱ', 'ㄲ', 'ㄴ', 'ㄷ', 'ㄸ', 'ㄹ', 'ㅁ', 'ㅂ', 'ㅃ', 'ㅅ', 'ㅆ', 'ㅇ', 'ㅈ', 'ㅉ', 'ㅊ',\r\n",
    "    'ㅋ', 'ㅌ', 'ㅍ', 'ㅎ'\r\n",
    "]\r\n",
    "# 중성 리스트. 00 ~ 20\r\n",
    "JUNGSUNG_LIST = [\r\n",
    "    'ㅏ', 'ㅐ', 'ㅑ', 'ㅒ', 'ㅓ', 'ㅔ', 'ㅕ', 'ㅖ', 'ㅗ', 'ㅘ', 'ㅙ', 'ㅚ', 'ㅛ', 'ㅜ', 'ㅝ',\r\n",
    "    'ㅞ', 'ㅟ', 'ㅠ', 'ㅡ', 'ㅢ', 'ㅣ'\r\n",
    "]\r\n",
    "# 종성 리스트. 00 ~ 27 + 1(1개 없음)\r\n",
    "JONGSUNG_LIST = [\r\n",
    "    ' ', 'ㄱ', 'ㄲ', 'ㄳ', 'ㄴ', 'ㄵ', 'ㄶ', 'ㄷ', 'ㄹ', 'ㄺ', 'ㄻ', 'ㄼ', 'ㄽ', 'ㄾ', 'ㄿ',\r\n",
    "    'ㅀ', 'ㅁ', 'ㅂ', 'ㅄ', 'ㅅ', 'ㅆ', 'ㅇ', 'ㅈ', 'ㅊ', 'ㅋ', 'ㅌ', 'ㅍ', 'ㅎ'\r\n",
    "]\r\n",
    "\r\n",
    "\r\n",
    "def korean_char_to_english(w: str):\r\n",
    "  ## 영어인 경우 구분해서 작성함.\r\n",
    "  if '가' <= w <= '힣':\r\n",
    "    ## 588개 마다 초성이 바뀜.\r\n",
    "    ch1 = (ord(w) - ord('가')) // 588\r\n",
    "    ## 중성은 총 28가지 종류\r\n",
    "    ch2 = ((ord(w) - ord('가')) - (588 * ch1)) // 28\r\n",
    "    ch3 = (ord(w) - ord('가')) - (588 * ch1) - 28 * ch2\r\n",
    "    return ([CHOSUNG_LIST[ch1], JUNGSUNG_LIST[ch2], JONGSUNG_LIST[ch3]])\r\n",
    "  else:\r\n",
    "    return ([w])\r\n",
    "\r\n",
    "def josa(text: str, last: str, noLast: str):\r\n",
    "  end = text[-1]\r\n",
    "  sep = korean_char_to_english(end)\r\n",
    "  if len(sep) == 3 and sep[2] == ' ':\r\n",
    "    return text + noLast\r\n",
    "  else:\r\n",
    "    return text + last"
   ],
   "outputs": [],
   "metadata": {}
  },
  {
   "cell_type": "code",
   "execution_count": 17,
   "source": [
    "def drink(name, drink, a):\r\n",
    "  nameJosa = josa(name, '은', '는')\r\n",
    "  drinkJosa = josa(drink, '을', '를')\r\n",
    "  if a == 1:\r\n",
    "    print(f'{nameJosa} {drinkJosa} 좋아하지 않음.')\r\n",
    "  elif a == 2:\r\n",
    "    print(f'{nameJosa} {drinkJosa} 조금 좋아함.')\r\n",
    "  else:\r\n",
    "    print(f'{nameJosa} {drinkJosa} 좋아하지 않음.')"
   ],
   "outputs": [],
   "metadata": {}
  },
  {
   "cell_type": "code",
   "execution_count": 18,
   "source": [
    "drink('kim', '녹차', 1) # 영어에 조사 붙이는 건 지원 안함\r\n",
    "drink('lee', '우유', 2)\r\n",
    "drink('seo', '커피', 3)\r\n",
    "drink('나', '먹을 것', 1)"
   ],
   "outputs": [
    {
     "output_type": "stream",
     "name": "stdout",
     "text": [
      "kim은 녹차를 좋아하지 않음.\n",
      "lee은 우유를 조금 좋아함.\n",
      "seo은 커피를 좋아하지 않음.\n",
      "나는 먹을 것을 좋아하지 않음.\n"
     ]
    }
   ],
   "metadata": {}
  },
  {
   "cell_type": "markdown",
   "source": [
    "### 실습 2."
   ],
   "metadata": {}
  },
  {
   "cell_type": "code",
   "execution_count": 1,
   "source": [
    "def f(x):\r\n",
    "  x = 100\r\n",
    "  print(f'f(): x={x}, id={id(x)}')\r\n",
    "\r\n",
    "\r\n",
    "x = 10\r\n",
    "print(f'global: x={x}, id={id(x)}')\r\n",
    "f(x)\r\n",
    "print(f'global: x={x}, id={id(x)}')"
   ],
   "outputs": [
    {
     "output_type": "stream",
     "name": "stdout",
     "text": [
      "global: x=10, id=1875617856\n",
      "f(): x=100, id=1875619296\n",
      "global: x=10, id=1875617856\n"
     ]
    }
   ],
   "metadata": {}
  },
  {
   "cell_type": "markdown",
   "source": [
    "### 실습 3."
   ],
   "metadata": {}
  },
  {
   "cell_type": "code",
   "execution_count": null,
   "source": [
    "def plus(a, b):\r\n",
    "  result = a + b\r\n",
    "  return result\r\n",
    "\r\n",
    "\r\n",
    "print(f'plus() 함수 결과: {plus(100, 200)}')"
   ],
   "outputs": [],
   "metadata": {}
  },
  {
   "cell_type": "markdown",
   "source": [
    "### 실습 4."
   ],
   "metadata": {}
  },
  {
   "cell_type": "code",
   "execution_count": 2,
   "source": [
    "def calc(a, b, operation):\r\n",
    "  if operation == '+':\r\n",
    "    return a + b\r\n",
    "  elif operation == '-':\r\n",
    "    return a - b\r\n",
    "  elif operation == '*':\r\n",
    "    return a * b\r\n",
    "  elif operation == '/':\r\n",
    "    return a / b\r\n",
    "  else:\r\n",
    "    return None"
   ],
   "outputs": [],
   "metadata": {}
  },
  {
   "cell_type": "code",
   "execution_count": 4,
   "source": [
    "print(calc(3, 5, '+'))\r\n",
    "print(calc(10, 4, '-'))\r\n",
    "print(calc(3, 4, '*'))\r\n",
    "print(calc(20, 5, '/'))"
   ],
   "outputs": [
    {
     "output_type": "stream",
     "name": "stdout",
     "text": [
      "8\n",
      "6\n",
      "12\n",
      "4.0\n"
     ]
    }
   ],
   "metadata": {}
  },
  {
   "cell_type": "code",
   "execution_count": null,
   "source": [
    "a = float(input('첫번째 숫자를 입력해주세요.'))\r\n",
    "b = float(input('두번째 숫자를 입력해주세요.'))\r\n",
    "operation = input('연산자를 입력해주세요.')\r\n",
    "\r\n",
    "result = calc(a, b, operation)\r\n",
    "if result == None:\r\n",
    "  print('잘못된 연산자입니다.')\r\n",
    "else:\r\n",
    "  print(result)"
   ],
   "outputs": [],
   "metadata": {}
  },
  {
   "cell_type": "markdown",
   "source": [
    "### 실습 5."
   ],
   "metadata": {}
  },
  {
   "cell_type": "code",
   "execution_count": 5,
   "source": [
    "def func1():\r\n",
    "  return 100\r\n",
    "\r\n",
    "def func2():\r\n",
    "  print('반환값이 없는 함수')\r\n",
    "\r\n",
    "print(f'func1() ==> {func1()}')\r\n",
    "func2()"
   ],
   "outputs": [
    {
     "output_type": "stream",
     "name": "stdout",
     "text": [
      "func1() ==> 100\n",
      "반환값이 없는 함수\n"
     ]
    }
   ],
   "metadata": {}
  },
  {
   "cell_type": "markdown",
   "source": [
    "### 실습 6."
   ],
   "metadata": {}
  },
  {
   "cell_type": "code",
   "execution_count": null,
   "source": [
    "def multi(a, b):\r\n",
    "  retList = []\r\n",
    "  retList.append(a + b)\r\n",
    "  retList.append(a - b)\r\n",
    "  return retList\r\n",
    "\r\n",
    "l = multi(100, 200)\r\n",
    "print(f'multi() 값: {l[0]}, {l[1]}')"
   ],
   "outputs": [],
   "metadata": {}
  },
  {
   "cell_type": "markdown",
   "source": [
    "## GUI 개발"
   ],
   "metadata": {}
  },
  {
   "cell_type": "code",
   "execution_count": 6,
   "source": [
    "from tkinter import Tk, Button, Label\r\n",
    "\r\n",
    "window = Tk(screenName='창창창')\r\n",
    "\r\n",
    "label = Label(window, text='hello!', background='#99aaff')\r\n",
    "label.pack()\r\n",
    "\r\n",
    "button = Button(window, text='클릭', padx=10, pady=10)\r\n",
    "button.pack()\r\n",
    "\r\n",
    "window.mainloop()"
   ],
   "outputs": [],
   "metadata": {}
  },
  {
   "cell_type": "code",
   "execution_count": 1,
   "source": [
    "from tkinter import Tk, Button, Label, Entry\r\n",
    "\r\n",
    "window = Tk(screenName='온도 계산기')\r\n",
    "\r\n",
    "Label(window, text='섭씨').grid(row=0, column=0)\r\n",
    "celsius = Entry(window)\r\n",
    "celsius.grid(row=0, column=1)\r\n",
    "\r\n",
    "Label(window, text='화씨').grid(row=1, column=0)\r\n",
    "faurenheit = Entry(window)\r\n",
    "faurenheit.grid(row=1, column=1)\r\n",
    "\r\n",
    "button = Button(window, text='클릭', padx=10, pady=10)\r\n",
    "button.grid(row=2, columnspan=2)\r\n",
    "\r\n",
    "window.mainloop()"
   ],
   "outputs": [],
   "metadata": {}
  }
 ],
 "metadata": {
  "orig_nbformat": 4,
  "language_info": {
   "name": "python",
   "version": "3.8.5",
   "mimetype": "text/x-python",
   "codemirror_mode": {
    "name": "ipython",
    "version": 3
   },
   "pygments_lexer": "ipython3",
   "nbconvert_exporter": "python",
   "file_extension": ".py"
  },
  "kernelspec": {
   "name": "python3",
   "display_name": "Python 3.8.5 32-bit ('.env': venv)"
  },
  "interpreter": {
   "hash": "59850c2ded70e3df8703cfdbeebd082f3258e69b9dc9afe4c741c2960be27dc7"
  }
 },
 "nbformat": 4,
 "nbformat_minor": 2
}